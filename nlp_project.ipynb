{
 "cells": [
  {
   "cell_type": "markdown",
   "metadata": {},
   "source": [
    "## 开发环境"
   ]
  },
  {
   "cell_type": "code",
   "execution_count": 1,
   "metadata": {},
   "outputs": [
    {
     "name": "stdout",
     "output_type": "stream",
     "text": [
      "python版本：\n",
      "3.5.4 |Continuum Analytics, Inc.| (default, Aug 14 2017, 13:41:13) [MSC v.1900 64 bit (AMD64)]\n",
      "sys.version_info(major=3, minor=5, micro=4, releaselevel='final', serial=0)\n"
     ]
    }
   ],
   "source": [
    "%matplotlib inline\n",
    "import sys \n",
    "print('python版本：')\n",
    "print(sys.version) \n",
    "print(sys.version_info)"
   ]
  },
  {
   "cell_type": "markdown",
   "metadata": {},
   "source": [
    "## 数据探索"
   ]
  },
  {
   "cell_type": "markdown",
   "metadata": {},
   "source": [
    "### 20newsgroups数据集"
   ]
  },
  {
   "cell_type": "markdown",
   "metadata": {},
   "source": [
    "数据加载"
   ]
  },
  {
   "cell_type": "code",
   "execution_count": 2,
   "metadata": {
    "collapsed": true
   },
   "outputs": [],
   "source": [
    "from sklearn.datasets import fetch_20newsgroups\n",
    "fetch_20newsgroups(data_home = 'dataFiles',categories = None,shuffle = True,random_state = 1)\n",
    "train_data = fetch_20newsgroups(data_home = 'dataFiles',subset = 'train',categories = None,shuffle = True,random_state = 1)\n",
    "test_data = fetch_20newsgroups(data_home = 'dataFiles',subset = 'test',categories = None,shuffle = True,random_state = 1)"
   ]
  },
  {
   "cell_type": "markdown",
   "metadata": {},
   "source": [
    "数据集中data属性表示每个新闻的内容；filenames表示每个新闻的文件名称；target表示每个新闻的类别id；target_names表示新闻所包含的不同类别。"
   ]
  },
  {
   "cell_type": "markdown",
   "metadata": {},
   "source": [
    "数据集大小：训练数据集为11314条，测试数据集为7532条"
   ]
  },
  {
   "cell_type": "code",
   "execution_count": 3,
   "metadata": {},
   "outputs": [
    {
     "name": "stdout",
     "output_type": "stream",
     "text": [
      "train data length: 11314\n",
      "test data length: 7532\n"
     ]
    }
   ],
   "source": [
    "print('train data length:',len(train_data.data))\n",
    "print('test data length:',len(test_data.data))"
   ]
  },
  {
   "cell_type": "markdown",
   "metadata": {},
   "source": [
    "新闻类别展示：训练数据集和测试数据集都有20个新闻类别"
   ]
  },
  {
   "cell_type": "code",
   "execution_count": 4,
   "metadata": {},
   "outputs": [
    {
     "name": "stdout",
     "output_type": "stream",
     "text": [
      "train data target length: 20 \n",
      "\n",
      "train data target names: ['alt.atheism', 'comp.graphics', 'comp.os.ms-windows.misc', 'comp.sys.ibm.pc.hardware', 'comp.sys.mac.hardware', 'comp.windows.x', 'misc.forsale', 'rec.autos', 'rec.motorcycles', 'rec.sport.baseball', 'rec.sport.hockey', 'sci.crypt', 'sci.electronics', 'sci.med', 'sci.space', 'soc.religion.christian', 'talk.politics.guns', 'talk.politics.mideast', 'talk.politics.misc', 'talk.religion.misc'] \n",
      "\n",
      "test data target length: 20 \n",
      "\n",
      "test data target names: ['alt.atheism', 'comp.graphics', 'comp.os.ms-windows.misc', 'comp.sys.ibm.pc.hardware', 'comp.sys.mac.hardware', 'comp.windows.x', 'misc.forsale', 'rec.autos', 'rec.motorcycles', 'rec.sport.baseball', 'rec.sport.hockey', 'sci.crypt', 'sci.electronics', 'sci.med', 'sci.space', 'soc.religion.christian', 'talk.politics.guns', 'talk.politics.mideast', 'talk.politics.misc', 'talk.religion.misc']\n"
     ]
    }
   ],
   "source": [
    "print('train data target length:',len(train_data.target_names),'\\n')\n",
    "print('train data target names:',train_data.target_names,'\\n')\n",
    "print('test data target length:',len(test_data.target_names),'\\n')\n",
    "print('test data target names:',test_data.target_names)"
   ]
  },
  {
   "cell_type": "markdown",
   "metadata": {},
   "source": [
    "分析前十条新闻"
   ]
  },
  {
   "cell_type": "code",
   "execution_count": 5,
   "metadata": {},
   "outputs": [
    {
     "name": "stdout",
     "output_type": "stream",
     "text": [
      "前十条新闻文件名称为：\n",
      "[ 'dataFiles\\\\20news_home\\\\20news-bydate-train\\\\talk.politics.mideast\\\\76141'\n",
      " 'dataFiles\\\\20news_home\\\\20news-bydate-train\\\\alt.atheism\\\\53281'\n",
      " 'dataFiles\\\\20news_home\\\\20news-bydate-train\\\\talk.politics.mideast\\\\76350'\n",
      " 'dataFiles\\\\20news_home\\\\20news-bydate-train\\\\sci.crypt\\\\15509'\n",
      " 'dataFiles\\\\20news_home\\\\20news-bydate-train\\\\rec.sport.hockey\\\\54242'\n",
      " 'dataFiles\\\\20news_home\\\\20news-bydate-train\\\\soc.religion.christian\\\\20631'\n",
      " 'dataFiles\\\\20news_home\\\\20news-bydate-train\\\\comp.sys.mac.hardware\\\\51946'\n",
      " 'dataFiles\\\\20news_home\\\\20news-bydate-train\\\\talk.politics.mideast\\\\75396'\n",
      " 'dataFiles\\\\20news_home\\\\20news-bydate-train\\\\sci.med\\\\59227'\n",
      " 'dataFiles\\\\20news_home\\\\20news-bydate-train\\\\sci.electronics\\\\53549']\n"
     ]
    }
   ],
   "source": [
    "print('前十条新闻文件名称为：')\n",
    "print(train_data.filenames[:10])"
   ]
  },
  {
   "cell_type": "code",
   "execution_count": 6,
   "metadata": {},
   "outputs": [
    {
     "name": "stdout",
     "output_type": "stream",
     "text": [
      "前十条新闻类别id为：\n",
      "[17  0 17 11 10 15  4 17 13 12]\n"
     ]
    }
   ],
   "source": [
    "print('前十条新闻类别id为：')\n",
    "print(train_data.target[:10])"
   ]
  },
  {
   "cell_type": "code",
   "execution_count": 7,
   "metadata": {},
   "outputs": [
    {
     "name": "stdout",
     "output_type": "stream",
     "text": [
      "第一条新闻内容为：\n",
      "From: ab4z@Virginia.EDU (\"Andi Beyer\")\n",
      "Subject: Re: Israeli Terrorism\n",
      "Organization: University of Virginia\n",
      "Lines: 15\n",
      "\n",
      "Well i'm not sure about the story nad it did seem biased. What\n",
      "I disagree with is your statement that the U.S. Media is out to\n",
      "ruin Israels reputation. That is rediculous. The U.S. media is\n",
      "the most pro-israeli media in the world. Having lived in Europe\n",
      "I realize that incidences such as the one described in the\n",
      "letter have occured. The U.S. media as a whole seem to try to\n",
      "ignore them. The U.S. is subsidizing Israels existance and the\n",
      "Europeans are not (at least not to the same degree). So I think\n",
      "that might be a reason they report more clearly on the\n",
      "atrocities.\n",
      "\tWhat is a shame is that in Austria, daily reports of\n",
      "the inhuman acts commited by Israeli soldiers and the blessing\n",
      "received from the Government makes some of the Holocaust guilt\n",
      "go away. After all, look how the Jews are treating other races\n",
      "when they got power. It is unfortunate.\n",
      "\n"
     ]
    }
   ],
   "source": [
    "print('第一条新闻内容为：')\n",
    "print(train_data.data[0])"
   ]
  },
  {
   "cell_type": "markdown",
   "metadata": {},
   "source": [
    "新闻内容过长，因此我们输出前十条新闻前200个字符"
   ]
  },
  {
   "cell_type": "code",
   "execution_count": 8,
   "metadata": {},
   "outputs": [
    {
     "name": "stdout",
     "output_type": "stream",
     "text": [
      "前十条新闻的每条的前200个字符：\n",
      "第 1 条: From: ab4z@Virginia.EDU (\"Andi Beyer\")\n",
      "Subject: Re: Israeli Terrorism\n",
      "Organization: University of Virginia\n",
      "Lines: 15\n",
      "\n",
      "Well i'm not sure about the story nad it did seem biased. What\n",
      "I disagree with is \n",
      "第 2 条: From: timmbake@mcl.ucsb.edu (Bake Timmons)\n",
      "Subject: Re: Amusing atheists and agnostics\n",
      "Lines: 66\n",
      "\n",
      "\n",
      "James Hogan writes:\n",
      "\n",
      "timmbake@mcl.ucsb.edu (Bake Timmons) writes:\n",
      ">>Jim Hogan quips:\n",
      "\n",
      ">>... (summary \n",
      "第 3 条: From: bc744@cleveland.Freenet.Edu (Mark Ira Kaufman)\n",
      "Subject: Re: rejoinder. Questions to Israelis\n",
      "Organization: Case Western Reserve University, Cleveland, Ohio (USA)\n",
      "Lines: 38\n",
      "NNTP-Posting-Host: tho\n",
      "第 4 条: From: ray@ole.cdac.com (Ray Berry)\n",
      "Subject: Clipper- business as usual?\n",
      "Article-I.D.: ole.1993Apr20.173039.4722\n",
      "Organization: Cascade Design Automation\n",
      "Lines: 17\n",
      "\n",
      "\n",
      "    Notwithstanding all the legitima\n",
      "第 5 条: From: kkeller@mail.sas.upenn.edu (Keith Keller)\n",
      "Subject: Playoff pool rule revision\n",
      "Organization: University of Pennsylvania, School of Arts and Sciences\n",
      "Lines: 10\n",
      "Nntp-Posting-Host: mail.sas.upenn.ed\n",
      "第 6 条: From: HOLFELTZ@LSTC2VM.stortek.com\n",
      "Subject: Re: What did Lazarus smell like?\n",
      "Organization: StorageTek SW Engineering\n",
      "Lines: 20\n",
      "\n",
      "In article <Apr.10.05.31.34.1993.14365@athos.rutgers.edu>\n",
      "rolfe@dsuvax.d\n",
      "第 7 条: From: newton@cs.utexas.edu (Peter Newton)\n",
      "Subject: Re: Cache card for IIsi\n",
      "Organization: CS Dept, University of Texas at Austin\n",
      "Lines: 64\n",
      "NNTP-Posting-Host: mohawk.cs.utexas.edu\n",
      "\n",
      "> Can some people wit\n",
      "第 8 条: From: stssdxb@st.unocal.com (Dorin Baru)\n",
      "Subject: Re: No land for peace - No negotiatians\n",
      "Organization: Unocal Corporation\n",
      "Lines: 52\n",
      "\n",
      "\n",
      "\n",
      "hasan@McRCIM.McGill.EDU writes:\n",
      "\n",
      "\n",
      ">Ok. I donot know why there ar\n",
      "第 9 条: From: lundby@rtsg.mot.com (Walter F. Lundby)\n",
      "Subject: Re: Is MSG sensitivity superstition?\n",
      "Nntp-Posting-Host: accord2\n",
      "Organization: Motorola Inc., Cellular Infrastructure Group\n",
      "Lines: 23\n",
      "\n",
      "In article <\n",
      "第 10 条: From: klg@mookie.mc.duke.edu (Kim Greer)\n",
      "Subject: Re: electronic odometers (was: Used BMW Question ..... ???)\n",
      "Organization: Duke Medical Center - Radiology\n",
      "Lines: 27\n",
      "Nntp-Posting-Host: mookie.mc.duke.\n"
     ]
    }
   ],
   "source": [
    "print('前十条新闻的每条的前200个字符：')\n",
    "for i in range(10):\n",
    "    print('第',i + 1,'条:',train_data.data[i][:200])"
   ]
  },
  {
   "cell_type": "markdown",
   "metadata": {},
   "source": [
    "前十条新闻后200个字符"
   ]
  },
  {
   "cell_type": "code",
   "execution_count": 9,
   "metadata": {},
   "outputs": [
    {
     "name": "stdout",
     "output_type": "stream",
     "text": [
      "前十条新闻的每条的后200个字符：\n",
      "第 1 条: Israeli soldiers and the blessing\n",
      "received from the Government makes some of the Holocaust guilt\n",
      "go away. After all, look how the Jews are treating other races\n",
      "when they got power. It is unfortunate.\n",
      "\n",
      "第 2 条: ntstone's Chewables!  :) \n",
      "--\n",
      "Bake Timmons, III\n",
      "\n",
      "-- \"...there's nothing higher, stronger, more wholesome and more useful in life\n",
      "than some good memory...\" -- Alyosha in Brothers Karamazov (Dostoevsky)\n",
      "\n",
      "第 3 条:  stock, your 'Center' is considered a\n",
      "joke, and until you either go away, or make at least some attempt\n",
      "to be objective, you will have a place of honor among the clowns,\n",
      "bigots, and idiots of Usenet.\n",
      "\n",
      "第 4 条: t to a problematic scenario for them, even if the extent of usage\n",
      "never surpasses the 'underground' stature of PGP.\n",
      "-- \n",
      "Ray Berry kb7ht ray@ole.cdac.com  rjberry@eskimo.com  73407.3152@compuserve.com\n",
      "\n",
      "第 5 条: y!!!  Good!\n",
      "\n",
      "--\n",
      "    Keith Keller\t\t\t\tLET'S GO RANGERS!!!!!\n",
      "\t\t\t\t\t\tLET'S GO QUAKERS!!!!!\n",
      "\tkkeller@mail.sas.upenn.edu\t\tIVY LEAGUE CHAMPS!!!!\n",
      "\n",
      "            \"When I want your opinion, I'll give it to you.\" \n",
      "\n",
      "第 6 条:   There was no direct evidence.  If you'd like\n",
      "to summarize the argument for us, I'd be happy to see it.  But in\n",
      "doing so, I'd like you to pay careful attention to the nature of\n",
      "the evidence.  --clh]\n",
      "\n",
      "第 7 条: bfB\"Qqlk$C`3@LKQRh0(-MKhNYA+UC&Qhq\n",
      "5kajHR1eFqR,2H5b8Z!SLfG3!!2TPmiF!!3!+58PcD5eMB@0SC3%!!!!)6@0S9(0\n",
      "3C$1R$)JJT`b+33%!ADmicJ!#!!!4a3!!!!!!!!B9!!!!!,AP!!!:\n",
      "-- \n",
      " ----\n",
      "Peter Newton (newton@cs.utexas.edu)\n",
      "\n",
      "第 8 条:  of the Arab markets for israeli trade and\n",
      ">\"oranges\". That is simply unacceptable and would be revoked.\n",
      " \n",
      "I like California oranges. And the feelings may get sharper at the table.\n",
      "\n",
      "\n",
      "\n",
      "Regards,\n",
      "\n",
      "Dorin\n",
      "\n",
      "第 9 条: sire.\n",
      "\n",
      "Salt, pepper, mustard, ketchup, pickles ..... are table options.\n",
      "Treat MSG the same way.  I wouldn't shove my condiments down your\n",
      "throat, don't shove yours down mine.\n",
      "\n",
      "WFL\n",
      "\n",
      "-- \n",
      "Walter Lundby\n",
      "\n",
      "\n",
      "第 10 条: insight.\n",
      "\n",
      "\n",
      "Kim Greer                       \n",
      "Duke University Medical Center\t\t klg@orion.mc.duke.edu\n",
      "Div. Nuclear Medicine  POB 3949\t\t voice: 919-681-5894\n",
      "Durham, NC 27710  \t\t         fax: 919-681-5636\n",
      "\n"
     ]
    }
   ],
   "source": [
    "print('前十条新闻的每条的后200个字符：')\n",
    "for i in range(10):\n",
    "    print('第',i + 1,'条:',train_data.data[i][-200:])"
   ]
  },
  {
   "cell_type": "markdown",
   "metadata": {},
   "source": [
    "通过观察，文本内容前面还是比较统一的格式，而后面内容各不相同。"
   ]
  },
  {
   "cell_type": "markdown",
   "metadata": {},
   "source": [
    "各个种类新闻的数目"
   ]
  },
  {
   "cell_type": "code",
   "execution_count": 10,
   "metadata": {
    "collapsed": true
   },
   "outputs": [],
   "source": [
    "from collections import Counter\n",
    "train_cnt = Counter()\n",
    "test_cnt = Counter()\n",
    "for temp in train_data.target:\n",
    "    train_cnt[temp] += 1\n",
    "for temp in test_data.target:\n",
    "    test_cnt[temp] += 1"
   ]
  },
  {
   "cell_type": "code",
   "execution_count": 11,
   "metadata": {},
   "outputs": [
    {
     "data": {
      "image/png": "[encoded data removed]",
      "text/plain": [
       "<matplotlib.figure.Figure at 0x1a5f4306710>"
      ]
     },
     "metadata": {},
     "output_type": "display_data"
    }
   ],
   "source": [
    "import matplotlib as mpl\n",
    "import matplotlib.pyplot as plt\n",
    "import numpy as np\n",
    "def bar_of_target(cnt_1,cnt_2):\n",
    "    name_list = range(20)\n",
    "    num_list_1 = [cnt_1[x] for x in name_list]\n",
    "    num_list_2 = [cnt_2[x] for x in name_list]\n",
    "\n",
    "    font_size = 10 # 字体大小\n",
    "    fig_size = (16, 6) # 图表大小\n",
    "\n",
    "    # 更新字体大小\n",
    "    mpl.rcParams['font.size'] = font_size\n",
    "    # 更新图表大小\n",
    "    mpl.rcParams['figure.figsize'] = fig_size\n",
    "    # 设置柱形图宽度\n",
    "    bar_width = 0.35\n",
    "\n",
    "    index = np.arange(20)\n",
    "    # 绘制 train\n",
    "    rects1 = plt.bar(index, num_list_1, bar_width, color='#0072BC', label='train')\n",
    "    # 绘制 test\n",
    "    rects2 = plt.bar(index + bar_width, num_list_2, bar_width, color='#ED1C24', label='test')\n",
    "    # X轴标题\n",
    "    plt.xticks(index, name_list)\n",
    "    # Y轴范围\n",
    "    #plt.ylim(ymax=100, ymin=0)\n",
    "    # 图表标题\n",
    "    plt.title('train and test news category')\n",
    "    # 图例显示在图表下方\n",
    "    plt.legend(loc='upper center', bbox_to_anchor=(0.5, -0.05), fancybox=True, ncol=5)\n",
    "\n",
    "    # 添加数据标签\n",
    "    def add_labels(rects):\n",
    "        for rect in rects:\n",
    "            height = rect.get_height()\n",
    "            plt.text(rect.get_x() + rect.get_width() / 2, height, height, ha='center', va='bottom')\n",
    "            # 柱形图边缘用白色填充，纯粹为了美观\n",
    "            rect.set_edgecolor('white')\n",
    "\n",
    "    add_labels(rects1)\n",
    "    add_labels(rects2)\n",
    "\n",
    "    \n",
    "bar_of_target(train_cnt,test_cnt)"
   ]
  },
  {
   "cell_type": "markdown",
   "metadata": {},
   "source": [
    "由上图可见，首部和尾部类别的新闻数据稍微少一些，其他类别的新闻数据分布还是比较均匀的。总体来说，这些数据比较适合进行训练分类的。"
   ]
  },
  {
   "cell_type": "markdown",
   "metadata": {},
   "source": [
    "## 数据预处理"
   ]
  },
  {
   "cell_type": "markdown",
   "metadata": {},
   "source": [
    "分词处理"
   ]
  },
  {
   "cell_type": "code",
   "execution_count": 12,
   "metadata": {
    "collapsed": true
   },
   "outputs": [],
   "source": [
    "from nltk import word_tokenize\n",
    "train_tokens = [word_tokenize(temp) for temp in train_data.data]"
   ]
  },
  {
   "cell_type": "markdown",
   "metadata": {},
   "source": [
    "查看第一个新闻的分词结果：里面包含标点符号，特殊符号，数字，还有正常单词等。"
   ]
  },
  {
   "cell_type": "code",
   "execution_count": 13,
   "metadata": {},
   "outputs": [
    {
     "name": "stdout",
     "output_type": "stream",
     "text": [
      "['From', ':', 'ab4z', '@', 'Virginia.EDU', '(', '``', 'Andi', 'Beyer', \"''\", ')', 'Subject', ':', 'Re', ':', 'Israeli', 'Terrorism', 'Organization', ':', 'University', 'of', 'Virginia', 'Lines', ':', '15', 'Well', 'i', \"'m\", 'not', 'sure', 'about', 'the', 'story', 'nad', 'it', 'did', 'seem', 'biased', '.', 'What', 'I', 'disagree', 'with', 'is', 'your', 'statement', 'that', 'the', 'U.S.', 'Media', 'is', 'out', 'to', 'ruin', 'Israels', 'reputation', '.', 'That', 'is', 'rediculous', '.', 'The', 'U.S.', 'media', 'is', 'the', 'most', 'pro-israeli', 'media', 'in', 'the', 'world', '.', 'Having', 'lived', 'in', 'Europe', 'I', 'realize', 'that', 'incidences', 'such', 'as', 'the', 'one', 'described', 'in', 'the', 'letter', 'have', 'occured', '.', 'The', 'U.S.', 'media', 'as', 'a', 'whole', 'seem', 'to', 'try', 'to', 'ignore', 'them', '.', 'The', 'U.S.', 'is', 'subsidizing', 'Israels', 'existance', 'and', 'the', 'Europeans', 'are', 'not', '(', 'at', 'least', 'not', 'to', 'the', 'same', 'degree', ')', '.', 'So', 'I', 'think', 'that', 'might', 'be', 'a', 'reason', 'they', 'report', 'more', 'clearly', 'on', 'the', 'atrocities', '.', 'What', 'is', 'a', 'shame', 'is', 'that', 'in', 'Austria', ',', 'daily', 'reports', 'of', 'the', 'inhuman', 'acts', 'commited', 'by', 'Israeli', 'soldiers', 'and', 'the', 'blessing', 'received', 'from', 'the', 'Government', 'makes', 'some', 'of', 'the', 'Holocaust', 'guilt', 'go', 'away', '.', 'After', 'all', ',', 'look', 'how', 'the', 'Jews', 'are', 'treating', 'other', 'races', 'when', 'they', 'got', 'power', '.', 'It', 'is', 'unfortunate', '.']\n"
     ]
    }
   ],
   "source": [
    "print(train_tokens[0])"
   ]
  },
  {
   "cell_type": "markdown",
   "metadata": {},
   "source": [
    "查看原始数据中不同单词构成的词典长度：可以观察到词典长度比较大。"
   ]
  },
  {
   "cell_type": "code",
   "execution_count": 14,
   "metadata": {
    "collapsed": true
   },
   "outputs": [],
   "source": [
    "def get_dict_cnt(tokens):\n",
    "    dict_cnt = Counter()\n",
    "    for temp_list in tokens:\n",
    "        for temp in temp_list:\n",
    "            dict_cnt[temp] += 1\n",
    "    return dict_cnt"
   ]
  },
  {
   "cell_type": "code",
   "execution_count": 15,
   "metadata": {},
   "outputs": [
    {
     "name": "stdout",
     "output_type": "stream",
     "text": [
      "211081\n"
     ]
    }
   ],
   "source": [
    "train_dict_cnt = get_dict_cnt(train_tokens)\n",
    "print(len(train_dict_cnt))"
   ]
  },
  {
   "cell_type": "markdown",
   "metadata": {},
   "source": [
    "输出词典最多的前20个词汇："
   ]
  },
  {
   "cell_type": "code",
   "execution_count": 16,
   "metadata": {},
   "outputs": [
    {
     "data": {
      "image/png": "[encoded data removed]",
      "text/plain": [
       "<matplotlib.figure.Figure at 0x1a584b3a2b0>"
      ]
     },
     "metadata": {},
     "output_type": "display_data"
    }
   ],
   "source": [
    "def bar_of_train_dict(cnt):\n",
    "    name_list = []\n",
    "    num_list = []\n",
    "    for key,value in cnt.most_common(20):\n",
    "        name_list.append(key)\n",
    "        num_list.append(value)\n",
    "\n",
    "    font_size = 10 # 字体大小\n",
    "    fig_size = (16, 6) # 图表大小\n",
    "\n",
    "    # 更新字体大小\n",
    "    mpl.rcParams['font.size'] = font_size\n",
    "    # 更新图表大小\n",
    "    mpl.rcParams['figure.figsize'] = fig_size\n",
    "    # 设置柱形图宽度\n",
    "    bar_width = 0.35\n",
    "\n",
    "    index = np.arange(20)\n",
    "    # 绘制 train\n",
    "    rects = plt.bar(index, num_list, bar_width, color='#0072BC')\n",
    "    # X轴标题\n",
    "    plt.xticks(index, name_list)\n",
    "    # Y轴范围\n",
    "    #plt.ylim(ymax=100, ymin=0)\n",
    "    # 图表标题\n",
    "    plt.title('train dict top 20')\n",
    "    # 图例显示在图表下方\n",
    "    #plt.legend(loc='upper center', bbox_to_anchor=(0.5, -0.05), fancybox=True, ncol=5)\n",
    "\n",
    "    # 添加数据标签\n",
    "    def add_labels(rects):\n",
    "        for rect in rects:\n",
    "            height = rect.get_height()\n",
    "            plt.text(rect.get_x() + rect.get_width() / 2, height, height, ha='center', va='bottom')\n",
    "            # 柱形图边缘用白色填充，纯粹为了美观\n",
    "            rect.set_edgecolor('white')\n",
    "\n",
    "    add_labels(rects)\n",
    "\n",
    "    \n",
    "bar_of_train_dict(train_dict_cnt)"
   ]
  },
  {
   "cell_type": "markdown",
   "metadata": {},
   "source": [
    "可以看出：出现频率高的很多都是标点符号等这些没有实际意义的字符。下面进行预处理："
   ]
  },
  {
   "cell_type": "markdown",
   "metadata": {},
   "source": [
    "去掉符号，数字等；去掉剩余的单个字母"
   ]
  },
  {
   "cell_type": "code",
   "execution_count": 17,
   "metadata": {
    "collapsed": true
   },
   "outputs": [],
   "source": [
    "import re\n",
    "def data_clean(text):\n",
    "    text = text.replace('\\n',\" \") #删掉空行  \n",
    "    text = re.sub(r\"-\", \" \", text) #把 \"-\" 的单词分为两个\n",
    "    text = re.sub(r\"\\d+/\\d+/\\d+\", \"\", text) #删掉日期  \n",
    "    text = re.sub(r\"[0-2]?[0-9]:[0-6][0-9]\", \"\", text) #删掉时间  \n",
    "    text = re.sub(r\"[\\.\\w]+@[\\.\\w]+\", \"\", text) #删掉邮箱地址  \n",
    "    text = re.sub(r\"http[s]?://(?:[a-zA-Z]|[0-9]|[$-_@.&+]|[!*,]|(?:%[0-9a-fA-F][0-9a-fA-F]))+\", \"\", text) #删掉网址  \n",
    "    pure_text = ''  \n",
    "    # 删掉特殊字符（数字）等等\n",
    "    for letter in text:  \n",
    "        # 只留下字母和空格 \n",
    "        if letter.isalpha() or letter==' ':  \n",
    "            pure_text += letter\n",
    "        else:\n",
    "            pure_text += ' '\n",
    "    #去掉单个字母\n",
    "    text = ' '.join(word for word in pure_text.split() if len(word)>1) \n",
    "    return text\n",
    "\n",
    "train_data_clean = [data_clean(temp) for temp in train_data.data]\n",
    "\n",
    "train_tokens = [word_tokenize(temp) for temp in train_data_clean]"
   ]
  },
  {
   "cell_type": "code",
   "execution_count": 18,
   "metadata": {},
   "outputs": [
    {
     "name": "stdout",
     "output_type": "stream",
     "text": [
      "104860\n"
     ]
    }
   ],
   "source": [
    "train_dict_cnt = get_dict_cnt(train_tokens)\n",
    "print(len(train_dict_cnt))"
   ]
  },
  {
   "cell_type": "code",
   "execution_count": 19,
   "metadata": {},
   "outputs": [
    {
     "data": {
      "image/png": "[encoded data removed]",
      "text/plain": [
       "<matplotlib.figure.Figure at 0x1a584b1ba90>"
      ]
     },
     "metadata": {},
     "output_type": "display_data"
    }
   ],
   "source": [
    "bar_of_train_dict(train_dict_cnt)"
   ]
  },
  {
   "cell_type": "markdown",
   "metadata": {},
   "source": [
    "词典长度已经明显缩小，频率最高的前20个词汇也变为非字符的了。"
   ]
  },
  {
   "cell_type": "markdown",
   "metadata": {},
   "source": [
    "单词转小写"
   ]
  },
  {
   "cell_type": "code",
   "execution_count": 20,
   "metadata": {},
   "outputs": [
    {
     "name": "stdout",
     "output_type": "stream",
     "text": [
      "82530\n"
     ]
    }
   ],
   "source": [
    "train_tokens = [word_tokenize(temp.lower()) for temp in train_data_clean]\n",
    "train_dict_cnt = get_dict_cnt(train_tokens)\n",
    "print(len(train_dict_cnt))"
   ]
  },
  {
   "cell_type": "markdown",
   "metadata": {},
   "source": [
    "去掉停用词，使用nltk停用词语料库"
   ]
  },
  {
   "cell_type": "code",
   "execution_count": 21,
   "metadata": {},
   "outputs": [
    {
     "name": "stdout",
     "output_type": "stream",
     "text": [
      "['i', 'me', 'my', 'myself', 'we', 'our', 'ours', 'ourselves', 'you', \"you're\", \"you've\", \"you'll\", \"you'd\", 'your', 'yours', 'yourself', 'yourselves', 'he', 'him', 'his', 'himself', 'she', \"she's\", 'her', 'hers', 'herself', 'it', \"it's\", 'its', 'itself', 'they', 'them', 'their', 'theirs', 'themselves', 'what', 'which', 'who', 'whom', 'this', 'that', \"that'll\", 'these', 'those', 'am', 'is', 'are', 'was', 'were', 'be', 'been', 'being', 'have', 'has', 'had', 'having', 'do', 'does', 'did', 'doing', 'a', 'an', 'the', 'and', 'but', 'if', 'or', 'because', 'as', 'until', 'while', 'of', 'at', 'by', 'for', 'with', 'about', 'against', 'between', 'into', 'through', 'during', 'before', 'after', 'above', 'below', 'to', 'from', 'up', 'down', 'in', 'out', 'on', 'off', 'over', 'under', 'again', 'further', 'then', 'once', 'here', 'there', 'when', 'where', 'why', 'how', 'all', 'any', 'both', 'each', 'few', 'more', 'most', 'other', 'some', 'such', 'no', 'nor', 'not', 'only', 'own', 'same', 'so', 'than', 'too', 'very', 's', 't', 'can', 'will', 'just', 'don', \"don't\", 'should', \"should've\", 'now', 'd', 'll', 'm', 'o', 're', 've', 'y', 'ain', 'aren', \"aren't\", 'couldn', \"couldn't\", 'didn', \"didn't\", 'doesn', \"doesn't\", 'hadn', \"hadn't\", 'hasn', \"hasn't\", 'haven', \"haven't\", 'isn', \"isn't\", 'ma', 'mightn', \"mightn't\", 'mustn', \"mustn't\", 'needn', \"needn't\", 'shan', \"shan't\", 'shouldn', \"shouldn't\", 'wasn', \"wasn't\", 'weren', \"weren't\", 'won', \"won't\", 'wouldn', \"wouldn't\"]\n"
     ]
    }
   ],
   "source": [
    "from nltk.corpus import stopwords\n",
    "stopwords_list = stopwords.words('english')\n",
    "print(stopwords_list)"
   ]
  },
  {
   "cell_type": "code",
   "execution_count": 22,
   "metadata": {
    "collapsed": true
   },
   "outputs": [],
   "source": [
    "train_tokens_stopwords = [[temp for temp in temp_list if stopwords_list.count(temp) == 0]for temp_list in train_tokens]"
   ]
  },
  {
   "cell_type": "code",
   "execution_count": 23,
   "metadata": {},
   "outputs": [
    {
     "name": "stdout",
     "output_type": "stream",
     "text": [
      "82386\n"
     ]
    }
   ],
   "source": [
    "train_dict_cnt = get_dict_cnt(train_tokens_stopwords)\n",
    "print(len(train_dict_cnt))"
   ]
  },
  {
   "cell_type": "code",
   "execution_count": 24,
   "metadata": {},
   "outputs": [
    {
     "data": {
      "image/png": "[encoded data removed]",
      "text/plain": [
       "<matplotlib.figure.Figure at 0x1a5f4575518>"
      ]
     },
     "metadata": {},
     "output_type": "display_data"
    }
   ],
   "source": [
    "bar_of_train_dict(train_dict_cnt)"
   ]
  },
  {
   "cell_type": "markdown",
   "metadata": {},
   "source": [
    "可以看出：出现频率高的介词（“over”，“under”，“above”），还有限定词（“the”、“a”、“an”、“that”、和“those”）等已经被去掉。这些词汇没有实际意义。"
   ]
  },
  {
   "cell_type": "markdown",
   "metadata": {},
   "source": [
    "同一词（如单复数）的统一"
   ]
  },
  {
   "cell_type": "code",
   "execution_count": 25,
   "metadata": {},
   "outputs": [
    {
     "name": "stdout",
     "output_type": "stream",
     "text": [
      "['lie', 'have', 'woman', 'shoe']\n"
     ]
    }
   ],
   "source": [
    "from nltk.stem.wordnet import WordNetLemmatizer  \n",
    "from nltk import pos_tag\n",
    "#词形还原  \n",
    "def lemmatize(token, tag):  \n",
    "    if tag[0].lower() in ['n','v']:  \n",
    "        return lemmatizer.lemmatize(token, tag[0].lower())  \n",
    "    return token\n",
    "lemmatizer = WordNetLemmatizer()\n",
    "print([lemmatize(token, tag) for token, tag in pos_tag(['lying','had','women','shoes'])])"
   ]
  },
  {
   "cell_type": "code",
   "execution_count": 26,
   "metadata": {},
   "outputs": [
    {
     "name": "stdout",
     "output_type": "stream",
     "text": [
      "74903\n"
     ]
    }
   ],
   "source": [
    "train_tokens_tagged_corpus = [pos_tag(temp) for temp in train_tokens_stopwords]\n",
    "train_tokens_lemmatize = [[lemmatize(token, tag) for token, tag in temp] for temp in train_tokens_tagged_corpus]\n",
    "\n",
    "train_dict_cnt = get_dict_cnt(train_tokens_lemmatize)\n",
    "print(len(train_dict_cnt))"
   ]
  },
  {
   "cell_type": "code",
   "execution_count": 27,
   "metadata": {},
   "outputs": [
    {
     "data": {
      "image/png": "[encoded data removed]",
      "text/plain": [
       "<matplotlib.figure.Figure at 0x1a5f28c4128>"
      ]
     },
     "metadata": {},
     "output_type": "display_data"
    }
   ],
   "source": [
    "bar_of_train_dict(train_dict_cnt)"
   ]
  },
  {
   "cell_type": "markdown",
   "metadata": {},
   "source": [
    "分析比较预处理过程，词典长度变化："
   ]
  },
  {
   "cell_type": "markdown",
   "metadata": {},
   "source": [
    "| 处理步骤 \t|  开始  \t| 数据清理 \t| 转小写 \t| 去掉停用词 \t| 同一词统一 \t|\n",
    "|:--------:\t|:------:\t|:--------:\t|:------:\t|:----------:\t|:----------:\t|\n",
    "| 词典长度 \t| 211081 \t|  104860  \t|  82530 \t|    82386   \t|    74902   \t|"
   ]
  },
  {
   "cell_type": "markdown",
   "metadata": {},
   "source": [
    "可以看出，经过预处理，词典长度逐渐降低了。有效的达到了降维的目的。"
   ]
  },
  {
   "cell_type": "markdown",
   "metadata": {},
   "source": [
    "下面对测试数据进行预处理"
   ]
  },
  {
   "cell_type": "code",
   "execution_count": 27,
   "metadata": {},
   "outputs": [
    {
     "name": "stdout",
     "output_type": "stream",
     "text": [
      "57814\n"
     ]
    }
   ],
   "source": [
    "test_data_clean = [data_clean(temp) for temp in test_data.data]\n",
    "test_tokens = [word_tokenize(temp.lower()) for temp in test_data_clean]\n",
    "\n",
    "test_tokens_stopwords = [[temp for temp in temp_list if stopwords_list.count(temp) == 0]for temp_list in test_tokens]\n",
    "\n",
    "test_tokens_tagged_corpus = [pos_tag(temp) for temp in test_tokens_stopwords]\n",
    "test_tokens_lemmatize = [[lemmatize(token, tag) for token, tag in temp] for temp in test_tokens_tagged_corpus]\n",
    "\n",
    "test_dict_cnt = get_dict_cnt(test_tokens_lemmatize)\n",
    "print(len(test_dict_cnt))"
   ]
  },
  {
   "cell_type": "markdown",
   "metadata": {},
   "source": [
    "## 模型分析"
   ]
  },
  {
   "cell_type": "markdown",
   "metadata": {},
   "source": [
    "数据划分，将训练数据集划分为80%的训练数据，20%的验证数据"
   ]
  },
  {
   "cell_type": "code",
   "execution_count": 28,
   "metadata": {
    "collapsed": true
   },
   "outputs": [],
   "source": [
    "# 导入 train_test_split\n",
    "from sklearn.model_selection import train_test_split\n",
    "X_train, X_val, y_train, y_val = train_test_split(train_tokens_lemmatize, train_data.target, test_size=0.2, random_state=0,\n",
    "                                                    stratify = train_data.target)\n",
    "\n",
    "X_test,y_test = test_tokens_lemmatize, test_data.target"
   ]
  },
  {
   "cell_type": "code",
   "execution_count": 29,
   "metadata": {},
   "outputs": [
    {
     "name": "stdout",
     "output_type": "stream",
     "text": [
      "Training set has 9051 samples.\n",
      "Validation set has 2263 samples.\n",
      "Testing set has 7532 samples.\n",
      "Training set has 9051 labels.\n",
      "Validation set has 2263 labels.\n",
      "Testing set has 7532 labels.\n"
     ]
    }
   ],
   "source": [
    "# 显示切分的结果\n",
    "print(\"Training set has {} samples.\".format(len(X_train)))\n",
    "print(\"Validation set has {} samples.\".format(len(X_val)))\n",
    "print(\"Testing set has {} samples.\".format(len(X_test)))\n",
    "\n",
    "print(\"Training set has {} labels.\".format(len(y_train)))\n",
    "print(\"Validation set has {} labels.\".format(len(y_val)))\n",
    "print(\"Testing set has {} labels.\".format(len(y_test)))"
   ]
  },
  {
   "cell_type": "markdown",
   "metadata": {},
   "source": [
    "保存预处理的数据"
   ]
  },
  {
   "cell_type": "code",
   "execution_count": 30,
   "metadata": {
    "collapsed": true
   },
   "outputs": [],
   "source": [
    "X_train_content = [' '.join(temp_list) for temp_list in X_train]\n",
    "X_val_content = [' '.join(temp_list) for temp_list in X_val]\n",
    "X_test_content = [' '.join(temp_list) for temp_list in X_test]"
   ]
  },
  {
   "cell_type": "code",
   "execution_count": 31,
   "metadata": {
    "collapsed": true
   },
   "outputs": [],
   "source": [
    "np.save(\"X_train_content.npy\", X_train_content)\n",
    "np.save(\"X_val_content.npy\", X_val_content)\n",
    "np.save(\"X_test_content.npy\", X_test_content)\n",
    "\n",
    "np.save(\"y_train.npy\", y_train)\n",
    "np.save(\"y_val.npy\", y_val)\n",
    "np.save(\"y_test.npy\", y_test)"
   ]
  },
  {
   "cell_type": "markdown",
   "metadata": {},
   "source": [
    "### 不使用任何模型，随机进行预测"
   ]
  },
  {
   "cell_type": "markdown",
   "metadata": {},
   "source": [
    "加载测试数据集"
   ]
  },
  {
   "cell_type": "code",
   "execution_count": 4,
   "metadata": {},
   "outputs": [
    {
     "name": "stdout",
     "output_type": "stream",
     "text": [
      "前50个测试集结果为 [ 9  1 10  5  4 18 17 16  8 13  5 19  5  9  8 13  2  5  5 13  8  1 15 16  6\n",
      " 14  0  4  0 18 15 14  5  9 15  7  5  8 15  2  5  2 18  6  4  6 10 19  9  5]\n"
     ]
    }
   ],
   "source": [
    "import numpy as np\n",
    "y_test = np.load(\"y_test.npy\")\n",
    "print('前50个测试集结果为',y_test[:50])"
   ]
  },
  {
   "cell_type": "markdown",
   "metadata": {},
   "source": [
    "使用随机分类结果进行预测"
   ]
  },
  {
   "cell_type": "code",
   "execution_count": 8,
   "metadata": {},
   "outputs": [
    {
     "name": "stdout",
     "output_type": "stream",
     "text": [
      "前50个预测结果为 [10  2  0 17 10 14  9  4  1  4  3  7  4  2  4 13 18  0 17 16  0  8 17  9  7\n",
      "  0 14  9  2  6  4 10 11 16 13 17 16  5 13 10 15 10  6 14 15 10 16 12  5  9]\n"
     ]
    }
   ],
   "source": [
    "predictions_val = np.random.randint(0,19,np.shape(y_test))\n",
    "print('前50个预测结果为',predictions_val[:50])"
   ]
  },
  {
   "cell_type": "code",
   "execution_count": 9,
   "metadata": {},
   "outputs": [
    {
     "name": "stdout",
     "output_type": "stream",
     "text": [
      "acc_val:0.052\n"
     ]
    }
   ],
   "source": [
    "from sklearn.metrics import fbeta_score, accuracy_score, log_loss\n",
    "# 计算准确率\n",
    "acc_val = accuracy_score(y_test,predictions_val)\n",
    "print('acc_val:{0:.3f}'.format(acc_val))"
   ]
  },
  {
   "cell_type": "markdown",
   "metadata": {},
   "source": [
    "因为我们有20个分类，如果随机猜测的话，准确率大约为1/20，也就是5%，在这里我们得到准确率为0.052，和5%很接近。"
   ]
  },
  {
   "cell_type": "markdown",
   "metadata": {},
   "source": [
    "### 词袋子模型"
   ]
  },
  {
   "cell_type": "markdown",
   "metadata": {},
   "source": [
    "加载预处理的数据"
   ]
  },
  {
   "cell_type": "code",
   "execution_count": 1,
   "metadata": {
    "collapsed": true
   },
   "outputs": [],
   "source": [
    "import numpy as np\n",
    "X_train_content = np.load(\"X_train_content.npy\")\n",
    "X_val_content = np.load(\"X_val_content.npy\")\n",
    "X_test_content = np.load(\"X_test_content.npy\")\n",
    "\n",
    "y_train = np.load(\"y_train.npy\")\n",
    "y_val = np.load(\"y_val.npy\")\n",
    "y_test = np.load(\"y_test.npy\")"
   ]
  },
  {
   "cell_type": "markdown",
   "metadata": {},
   "source": [
    "使用CountVectorizer进行文本特征提取"
   ]
  },
  {
   "cell_type": "code",
   "execution_count": 2,
   "metadata": {},
   "outputs": [
    {
     "name": "stdout",
     "output_type": "stream",
     "text": [
      "train shape: (9051, 67166)\n",
      "val shape: (2263, 67166)\n",
      "vocabulary length: 67166\n"
     ]
    }
   ],
   "source": [
    "from sklearn.feature_extraction.text import CountVectorizer\n",
    "count_train = CountVectorizer(analyzer='word')\n",
    "X_train_counts = count_train.fit_transform(X_train_content)\n",
    "print('train shape:',X_train_counts.shape)\n",
    "X_val_counts = count_train.transform(X_val_content)\n",
    "print('val shape:',X_val_counts.shape)\n",
    "print('vocabulary length:',len(count_train.vocabulary_))"
   ]
  },
  {
   "cell_type": "markdown",
   "metadata": {},
   "source": [
    "模型评估"
   ]
  },
  {
   "cell_type": "code",
   "execution_count": 3,
   "metadata": {
    "collapsed": true
   },
   "outputs": [],
   "source": [
    "from sklearn.metrics import fbeta_score, accuracy_score, log_loss\n",
    "from time import time\n",
    "from sklearn.externals import joblib\n",
    "# 通过init_flag控制模型是新模型还是加载本地保存的模型\n",
    "def sklearn_train_predict(learner,X_train,y_train,X_val,y_val,init_flag,clf_name):\n",
    "    if init_flag:#需要训练，训练后保存模型\n",
    "        start = time() # 获得程序开始时间\n",
    "        learner.fit(X_train, y_train)\n",
    "        end = time() # 获得程序结束时间\n",
    "        # 计算训练时间\n",
    "        print('train_time:',round(end - start, 3),\"s\")\n",
    "        joblib.dump(learner, clf_name)\n",
    "    else:#不需要训练，直接加载已有模型\n",
    "        learner = joblib.load(clf_name)\n",
    "    \n",
    "    # 得到在验证集上的预测值\n",
    "    start = time() # 获得程序开始时间\n",
    "    predictions_val = learner.predict(X_val)\n",
    "    predict_proba_val = learner.predict_proba(X_val)\n",
    "    end = time() # 获得程序结束时间\n",
    "    \n",
    "    # 计算预测用时\n",
    "    print('pred_time:',round(end - start, 3),\"s\")\n",
    "        \n",
    "    # 计算在验证上的准确率\n",
    "    acc_val = accuracy_score(y_val,predictions_val)\n",
    "    print('acc_val:{0:.3f}'.format(acc_val))\n",
    "    \n",
    "    # 计算在验证上的log_loss\n",
    "    log_loss_val = log_loss(y_val,predict_proba_val)\n",
    "    print('log_loss_val:{0:.3f}'.format(log_loss_val))"
   ]
  },
  {
   "cell_type": "code",
   "execution_count": 4,
   "metadata": {},
   "outputs": [
    {
     "name": "stdout",
     "output_type": "stream",
     "text": [
      "DecisionTreeClassifier:\n",
      "pred_time: 0.013 s\n",
      "acc_val:0.654\n",
      "log_loss_val:11.935\n",
      "SVC:\n",
      "pred_time: 24.479 s\n",
      "acc_val:0.848\n",
      "log_loss_val:0.586\n",
      "MultinomialNB:\n",
      "pred_time: 0.029 s\n",
      "acc_val:0.849\n",
      "log_loss_val:2.613\n"
     ]
    }
   ],
   "source": [
    "# 从sklearn中导入三个分类模型\n",
    "from sklearn.tree import DecisionTreeClassifier\n",
    "from sklearn.svm import SVC\n",
    "from sklearn.naive_bayes import MultinomialNB\n",
    "# 初始化三个模型\n",
    "clf_A = DecisionTreeClassifier()\n",
    "clf_B = SVC(kernel = 'linear',probability=True)\n",
    "clf_C = MultinomialNB()\n",
    "init_flag = False #是否进行训练\n",
    "#进行训练评估\n",
    "print('DecisionTreeClassifier:')\n",
    "sklearn_train_predict(clf_A,X_train_counts,y_train,X_val_counts,y_val,init_flag,'cv_dtc.pkl')\n",
    "print('SVC:')\n",
    "sklearn_train_predict(clf_B,X_train_counts,y_train,X_val_counts,y_val,init_flag,'cv_svc.pkl')\n",
    "print('MultinomialNB:')\n",
    "sklearn_train_predict(clf_C,X_train_counts,y_train,X_val_counts,y_val,init_flag,'cv_mnb.pkl')"
   ]
  },
  {
   "cell_type": "markdown",
   "metadata": {},
   "source": [
    "使用TfidfVectorizer进行文本特征提取"
   ]
  },
  {
   "cell_type": "code",
   "execution_count": 5,
   "metadata": {},
   "outputs": [
    {
     "name": "stderr",
     "output_type": "stream",
     "text": [
      "D:\\Users\\Administrator\\Anaconda2\\envs\\GPU\\lib\\site-packages\\sklearn\\feature_extraction\\text.py:1089: FutureWarning: Conversion of the second argument of issubdtype from `float` to `np.floating` is deprecated. In future, it will be treated as `np.float64 == np.dtype(float).type`.\n",
      "  if hasattr(X, 'dtype') and np.issubdtype(X.dtype, np.float):\n"
     ]
    },
    {
     "name": "stdout",
     "output_type": "stream",
     "text": [
      "train shape: (9051, 67166)\n",
      "val shape: (2263, 67166)\n",
      "vocabulary length: 67166\n"
     ]
    }
   ],
   "source": [
    "from sklearn.feature_extraction.text import TfidfVectorizer\n",
    "tfief_train = TfidfVectorizer(analyzer='word')\n",
    "X_train_tfief = tfief_train.fit_transform(X_train_content)\n",
    "print('train shape:',X_train_tfief.shape)\n",
    "X_val_tfief = tfief_train.transform(X_val_content)\n",
    "print('val shape:',X_val_tfief.shape)\n",
    "print('vocabulary length:',len(tfief_train.vocabulary_))"
   ]
  },
  {
   "cell_type": "code",
   "execution_count": 6,
   "metadata": {},
   "outputs": [
    {
     "name": "stdout",
     "output_type": "stream",
     "text": [
      "DecisionTreeClassifier:\n",
      "pred_time: 0.012 s\n",
      "acc_val:0.641\n",
      "log_loss_val:12.393\n",
      "SVC:\n",
      "pred_time: 30.553 s\n",
      "acc_val:0.914\n",
      "log_loss_val:0.308\n",
      "MultinomialNB:\n",
      "pred_time: 0.022 s\n",
      "acc_val:0.865\n",
      "log_loss_val:1.008\n"
     ]
    }
   ],
   "source": [
    "# 初始化三个模型\n",
    "clf_A = DecisionTreeClassifier()\n",
    "clf_B = SVC(kernel = 'linear',probability=True)\n",
    "clf_C = MultinomialNB()\n",
    "init_flag = False #是否进行训练\n",
    "#进行训练评估\n",
    "print('DecisionTreeClassifier:')\n",
    "sklearn_train_predict(clf_A, X_train_tfief, y_train, X_val_tfief, y_val,init_flag,'tfid_dtc.pkl')\n",
    "print('SVC:')\n",
    "sklearn_train_predict(clf_B, X_train_tfief, y_train, X_val_tfief, y_val,init_flag,'tfid_svc.pkl')\n",
    "print('MultinomialNB:')\n",
    "sklearn_train_predict(clf_C, X_train_tfief, y_train, X_val_tfief, y_val,init_flag,'tfid_mnb.pkl')"
   ]
  },
  {
   "cell_type": "markdown",
   "metadata": {},
   "source": [
    "文本特征提取对比"
   ]
  },
  {
   "cell_type": "markdown",
   "metadata": {},
   "source": [
    "|  模型预测准确率 | DecisionTreeClassifier |  SVC  | MultinomialNB |\n",
    "|:---------------:|:----------------------:|:-----:|:-------------:|\n",
    "| CountVectorizer |          0.654         | 0.848 |     0.849     |\n",
    "| TfidfVectorizer |          0.641         | 0.914 |     0.865     |"
   ]
  },
  {
   "cell_type": "markdown",
   "metadata": {},
   "source": [
    "|  模型预测log_loss | DecisionTreeClassifier |  SVC  | MultinomialNB |\n",
    "|:---------------:|:----------------------:|:-----:|:-------------:|\n",
    "| CountVectorizer |          11.935        | 0.586 |     2.613     |\n",
    "| TfidfVectorizer |          12.393        | 0.308 |     1.008     |"
   ]
  },
  {
   "cell_type": "markdown",
   "metadata": {},
   "source": [
    "通过对比分析：模型在决策树分类器上表现不佳；在支持向量机分类器和朴素贝叶斯分类器上表现不错。总体来说，使用TfidfVectorizer进行文本特征提取，准确率有所提升，log loss有所下降。并且在支持向量机分类器上表现很不错，准确率达到了0.914，而log loss降到了0.308，表现不错。"
   ]
  },
  {
   "cell_type": "markdown",
   "metadata": {},
   "source": [
    "模型调优"
   ]
  },
  {
   "cell_type": "code",
   "execution_count": 7,
   "metadata": {},
   "outputs": [
    {
     "name": "stdout",
     "output_type": "stream",
     "text": [
      "Unoptimized model\n",
      "------\n",
      "Accuracy score on validation data: 0.9143\n",
      "Log_loss_val on the validation data: 0.3094\n",
      "\n",
      "Optimized Model\n",
      "------\n",
      "Final accuracy score on the validation data: 0.9138\n",
      "Final log_loss_val on the validation data: 0.3094\n",
      "Final best_params_: {'C': 10.0}\n"
     ]
    }
   ],
   "source": [
    "# 导入'GridSearchCV', 'make_scorer'和其他一些需要的库\n",
    "from sklearn.svm import SVC\n",
    "from sklearn.model_selection import GridSearchCV\n",
    "from sklearn.metrics import make_scorer\n",
    "# 初始化分类器\n",
    "clf = SVC(kernel = 'linear',probability=True)#MultinomialNB() \n",
    "\n",
    "# 创建进行调节的参数列表\n",
    "parameters = {'C':(0.0001, 0.001, 0.01, 0.1, 1.0, 10.0, 100.0, 1000.0)}#alpha C 0.01,0.1,0.2,0.5,0.9,1.0,1.1,1.5,2.0,10,20,50,100\n",
    "\n",
    "# 创建一个accuracy_score打分对象\n",
    "scorer = make_scorer(score_func=log_loss,greater_is_better=False,needs_proba=True)\n",
    "\n",
    "#在分类器上使用网格搜索，使用'scorer'作为评价函数\n",
    "grid_obj = GridSearchCV(estimator=clf,param_grid=parameters,scoring=scorer,n_jobs=-2,cv=10)\n",
    "\n",
    "init_flag = False # 模型是否需要训练\n",
    "clf_name = 'tfid_best.pkl'\n",
    "if init_flag:#需要训练，训练后保存模型\n",
    "    start = time() # 获得程序开始时间\n",
    "    # 用训练数据拟合网格搜索对象并找到最佳参数\n",
    "    grid_obj.fit(X_train_tfief, y_train)\n",
    "    end = time() # 获得程序结束时间\n",
    "    # 计算训练时间\n",
    "    print('grid train_time:',round(end - start, 3),\"s\")\n",
    "    joblib.dump(grid_obj, clf_name)\n",
    "else:#不需要训练，直接加载已有模型\n",
    "    grid_obj = joblib.load(clf_name)\n",
    "\n",
    "# 得到estimator\n",
    "best_clf = grid_obj.best_estimator_\n",
    "\n",
    "# 使用没有调优的模型做预测\n",
    "clf = joblib.load('tfid_svc.pkl')#'tfid_svc.pkl' 'tfid_mnb.pkl'\n",
    "predictions = clf.predict(X_val_tfief)\n",
    "predict_proba_val = best_clf.predict_proba(X_val_tfief)\n",
    "best_predictions = best_clf.predict(X_val_tfief)\n",
    "best_proba_val = best_clf.predict_proba(X_val_tfief)\n",
    "\n",
    "# 汇报调参前和调参后的分数\n",
    "print(\"Unoptimized model\\n------\")\n",
    "print(\"Accuracy score on validation data: {:.4f}\".format(accuracy_score(y_val,predictions)))\n",
    "print('Log_loss_val on the validation data: {:.4f}'.format(log_loss(y_val,predict_proba_val)))\n",
    "print(\"\\nOptimized Model\\n------\")\n",
    "print(\"Final accuracy score on the validation data: {:.4f}\".format(accuracy_score(y_val,best_predictions)))\n",
    "# 计算在验证上的log_loss\n",
    "print('Final log_loss_val on the validation data: {:.4f}'.format(log_loss(y_val,best_proba_val)))\n",
    "print('Final best_params_:',grid_obj.best_params_)\n",
    "#print(grid_obj.grid_scores_)"
   ]
  },
  {
   "cell_type": "markdown",
   "metadata": {},
   "source": [
    "可以看出，调优后得到的模型准确率比原来稍微低一些，因此该调优没有达到预期效果。我们换做模型表现稍微次之的贝叶斯分类器进行调优。"
   ]
  },
  {
   "cell_type": "code",
   "execution_count": 10,
   "metadata": {},
   "outputs": [
    {
     "name": "stdout",
     "output_type": "stream",
     "text": [
      "grid train_time: 10.72 s\n",
      "Unoptimized model\n",
      "------\n",
      "Accuracy score on validation data: 0.8648\n",
      "Log_loss_val on the validation data: 0.3162\n",
      "\n",
      "Optimized Model\n",
      "------\n",
      "Final accuracy score on the validation data: 0.9081\n",
      "Final log_loss_val on the validation data: 0.3162\n",
      "Final best_params_: {'alpha': 0.01, 'fit_prior': False}\n"
     ]
    }
   ],
   "source": [
    "# 初始化分类器\n",
    "clf = MultinomialNB() \n",
    "\n",
    "# 创建进行调节的参数列表\n",
    "parameters = {'alpha':(0.0001, 0.001, 0.01, 0.1, 1.0, 10.0, 100.0, 1000.0),'fit_prior':(True,False)}\n",
    "\n",
    "# 创建一个accuracy_score打分对象\n",
    "scorer = make_scorer(score_func=log_loss,greater_is_better=False,needs_proba=True)\n",
    "\n",
    "#在分类器上使用网格搜索，使用'scorer'作为评价函数\n",
    "grid_obj = GridSearchCV(estimator=clf,param_grid=parameters,scoring=scorer,n_jobs=-2,cv=10)\n",
    "\n",
    "init_flag = False # 模型是否需要训练\n",
    "clf_name = 'tfid_MultinomialNB_best.pkl'\n",
    "if init_flag:#需要训练，训练后保存模型\n",
    "    start = time() # 获得程序开始时间\n",
    "    # 用训练数据拟合网格搜索对象并找到最佳参数\n",
    "    grid_obj.fit(X_train_tfief, y_train)\n",
    "    end = time() # 获得程序结束时间\n",
    "    # 计算训练时间\n",
    "    print('grid train_time:',round(end - start, 3),\"s\")\n",
    "    joblib.dump(grid_obj, clf_name)\n",
    "else:#不需要训练，直接加载已有模型\n",
    "    grid_obj = joblib.load(clf_name)\n",
    "\n",
    "# 得到estimator\n",
    "best_clf = grid_obj.best_estimator_\n",
    "\n",
    "# 使用没有调优的模型做预测\n",
    "clf = joblib.load('tfid_mnb.pkl')#'tfid_svc.pkl' 'tfid_mnb.pkl'\n",
    "predictions = clf.predict(X_val_tfief)\n",
    "predict_proba_val = best_clf.predict_proba(X_val_tfief)\n",
    "best_predictions = best_clf.predict(X_val_tfief)\n",
    "best_proba_val = best_clf.predict_proba(X_val_tfief)\n",
    "\n",
    "# 汇报调参前和调参后的分数\n",
    "print(\"Unoptimized model\\n------\")\n",
    "print(\"Accuracy score on validation data: {:.4f}\".format(accuracy_score(y_val,predictions)))\n",
    "print('Log_loss_val on the validation data: {:.4f}'.format(log_loss(y_val,predict_proba_val)))\n",
    "print(\"\\nOptimized Model\\n------\")\n",
    "print(\"Final accuracy score on the validation data: {:.4f}\".format(accuracy_score(y_val,best_predictions)))\n",
    "# 计算在验证上的log_loss\n",
    "print('Final log_loss_val on the validation data: {:.4f}'.format(log_loss(y_val,best_proba_val)))\n",
    "print('Final best_params_:',grid_obj.best_params_)\n",
    "#print(grid_obj.grid_scores_)"
   ]
  },
  {
   "cell_type": "markdown",
   "metadata": {
    "collapsed": true
   },
   "source": [
    "使用TfidfVectorizer后，对比模型调优结果:"
   ]
  },
  {
   "cell_type": "markdown",
   "metadata": {},
   "source": [
    "| 模型预测准确率 | SVC    | MultinomialNB |\n",
    "|----------------|--------|---------------|\n",
    "| 调优前         | 0.9143 | 0.8648        |\n",
    "| 调优后         | 0.9138 | 0.9081        |"
   ]
  },
  {
   "cell_type": "markdown",
   "metadata": {},
   "source": [
    "| 模型预测log loss | SVC    | MultinomialNB |\n",
    "|------------------|--------|---------------|\n",
    "| 调优前           | 0.3094 | 0.3162        |\n",
    "| 调优后           | 0.3094 | 0.3162        |"
   ]
  },
  {
   "cell_type": "markdown",
   "metadata": {},
   "source": [
    "通过对比，调优前后log loss损失没有变化，SVC准确率没有提升，MultinomialNB虽有明显提升，但是还是低于原来的SVC模型。因此，选择原来的SVC模型进行测试集预测。"
   ]
  },
  {
   "cell_type": "markdown",
   "metadata": {},
   "source": [
    "使用原SVC模型对测试集进行预测"
   ]
  },
  {
   "cell_type": "code",
   "execution_count": 11,
   "metadata": {},
   "outputs": [
    {
     "name": "stdout",
     "output_type": "stream",
     "text": [
      "val shape: (7532, 67166)\n"
     ]
    }
   ],
   "source": [
    "X_test_tfief = tfief_train.transform(X_test_content)\n",
    "print('val shape:',X_test_tfief.shape)"
   ]
  },
  {
   "cell_type": "code",
   "execution_count": 12,
   "metadata": {},
   "outputs": [
    {
     "name": "stdout",
     "output_type": "stream",
     "text": [
      "Accuracy score on test data: 0.8216\n",
      "Log_loss_val on the test data: 0.6271\n"
     ]
    }
   ],
   "source": [
    "clf = joblib.load('tfid_svc.pkl')\n",
    "test_predictions = clf.predict(X_test_tfief)\n",
    "test_proba_val = clf.predict_proba(X_test_tfief)\n",
    "print(\"Accuracy score on test data: {:.4f}\".format(accuracy_score(y_test,test_predictions)))\n",
    "print('Log_loss_val on the test data: {:.4f}'.format(log_loss(y_test,test_proba_val)))"
   ]
  },
  {
   "cell_type": "markdown",
   "metadata": {},
   "source": [
    "可以看到，测试数据集上，准确率达到0.8216，Log_loss为0.6271，效果还是不错的。"
   ]
  },
  {
   "cell_type": "markdown",
   "metadata": {},
   "source": [
    "## 词向量模型"
   ]
  },
  {
   "cell_type": "markdown",
   "metadata": {},
   "source": [
    "加载预处理的数据"
   ]
  },
  {
   "cell_type": "code",
   "execution_count": 1,
   "metadata": {
    "collapsed": true
   },
   "outputs": [],
   "source": [
    "import numpy as np\n",
    "X_train_content = np.load(\"X_train_content.npy\")\n",
    "X_val_content = np.load(\"X_val_content.npy\")\n",
    "X_test_content = np.load(\"X_test_content.npy\")\n",
    "\n",
    "y_train = np.load(\"y_train.npy\")\n",
    "y_val = np.load(\"y_val.npy\")\n",
    "y_test = np.load(\"y_test.npy\")"
   ]
  },
  {
   "cell_type": "markdown",
   "metadata": {},
   "source": [
    "使用Word2Vec进行文本特征提取"
   ]
  },
  {
   "cell_type": "code",
   "execution_count": 2,
   "metadata": {},
   "outputs": [
    {
     "name": "stderr",
     "output_type": "stream",
     "text": [
      "D:\\Users\\Administrator\\Anaconda2\\envs\\GPU\\lib\\site-packages\\gensim\\utils.py:1167: UserWarning: detected Windows; aliasing chunkize to chunkize_serial\n",
      "  warnings.warn(\"detected Windows; aliasing chunkize to chunkize_serial\")\n"
     ]
    }
   ],
   "source": [
    "# 引入 word2vec\n",
    "from gensim.models import word2vec\n",
    "#忽略警告\n",
    "import warnings\n",
    "warnings.filterwarnings(action='ignore', category=UserWarning, module='gensim')"
   ]
  },
  {
   "cell_type": "code",
   "execution_count": 3,
   "metadata": {
    "collapsed": true
   },
   "outputs": [],
   "source": [
    "EMBEDDING_DIM = 200 # 词向量空间维度\n",
    "news_fname = '20news.model'\n",
    "mode_init = False"
   ]
  },
  {
   "cell_type": "code",
   "execution_count": 4,
   "metadata": {
    "collapsed": true
   },
   "outputs": [],
   "source": [
    "if mode_init:\n",
    "    sentences = []\n",
    "    sentences.extend([temp.split(' ') for temp in X_train_content])\n",
    "    sentences.extend([temp.split(' ') for temp in X_val_content])\n",
    "    sentences.extend([temp.split(' ') for temp in X_test_content])\n",
    "    news_model = word2vec.Word2Vec(sentences, size=EMBEDDING_DIM, window=5)  \n",
    "    news_model.save(news_fname)\n",
    "else:\n",
    "    news_model = word2vec.Word2Vec.load(news_fname)"
   ]
  },
  {
   "cell_type": "markdown",
   "metadata": {},
   "source": [
    "简单评测"
   ]
  },
  {
   "cell_type": "code",
   "execution_count": 5,
   "metadata": {
    "collapsed": true
   },
   "outputs": [],
   "source": [
    "def simple_test_word2vec(model):\n",
    "    print(model.wv.most_similar(positive=['woman', 'king'], negative=['man'], topn=1))\n",
    "    print(model.wv.doesnt_match(\"breakfast cereal dinner lunch\".split()))\n",
    "    print(model.wv.similarity('woman', 'man'))\n",
    "    print(model.wv.most_similar(['man']))"
   ]
  },
  {
   "cell_type": "code",
   "execution_count": 6,
   "metadata": {},
   "outputs": [
    {
     "name": "stdout",
     "output_type": "stream",
     "text": [
      "[('rodney', 0.6872316598892212)]\n",
      "cereal\n",
      "0.6223185480285045\n",
      "[('son', 0.6824347972869873), ('wast', 0.6768363118171692), ('father', 0.6753490567207336), ('thou', 0.6624833941459656), ('holy', 0.6621533036231995), ('spirit', 0.6599425077438354), ('mother', 0.6433863043785095), ('straw', 0.6420932412147522), ('tree', 0.6334018707275391), ('beautiful', 0.6254919767379761)]\n"
     ]
    }
   ],
   "source": [
    "simple_test_word2vec(news_model)"
   ]
  },
  {
   "cell_type": "markdown",
   "metadata": {},
   "source": [
    "使用text8语料库"
   ]
  },
  {
   "cell_type": "code",
   "execution_count": 7,
   "metadata": {
    "collapsed": true
   },
   "outputs": [],
   "source": [
    "text8_fname = 'text8.model'\n",
    "mode_init = False"
   ]
  },
  {
   "cell_type": "code",
   "execution_count": 8,
   "metadata": {
    "collapsed": true
   },
   "outputs": [],
   "source": [
    "if mode_init:\n",
    "    sentences = word2vec.Text8Corpus('text8')\n",
    "    text8_model = word2vec.Word2Vec(sentences, size=EMBEDDING_DIM, window=5)    \n",
    "    text8_model.save(text8_fname)\n",
    "else:\n",
    "    text8_model = word2vec.Word2Vec.load(text8_fname)"
   ]
  },
  {
   "cell_type": "code",
   "execution_count": 9,
   "metadata": {},
   "outputs": [
    {
     "name": "stdout",
     "output_type": "stream",
     "text": [
      "[('queen', 0.6610815525054932)]\n",
      "cereal\n",
      "0.6983951437791475\n",
      "[('woman', 0.6983951330184937), ('girl', 0.5940089821815491), ('creature', 0.5596705079078674), ('boy', 0.5359858274459839), ('stranger', 0.5305899977684021), ('person', 0.5273810029029846), ('god', 0.5049077868461609), ('men', 0.4925699234008789), ('gentleman', 0.48531436920166016), ('lover', 0.48378199338912964)]\n"
     ]
    }
   ],
   "source": [
    "simple_test_word2vec(text8_model)"
   ]
  },
  {
   "cell_type": "markdown",
   "metadata": {},
   "source": [
    "通过观察，两个语料库得到的结果有些差别，但是总体差距不大。因此，这里选择使用新闻数据集得到的Word2Vec词向量，这样更贴近需要训练和预测的数据内容"
   ]
  },
  {
   "cell_type": "markdown",
   "metadata": {},
   "source": [
    "提取特征:单词与序号之间的对应关系靠单词的索引表 word_index 来记录;标签处理成 one-hot 向量，用 keras 的 to_categorical 实现"
   ]
  },
  {
   "cell_type": "code",
   "execution_count": 10,
   "metadata": {},
   "outputs": [
    {
     "name": "stderr",
     "output_type": "stream",
     "text": [
      "D:\\Users\\Administrator\\Anaconda2\\envs\\GPU\\lib\\site-packages\\h5py\\__init__.py:36: FutureWarning: Conversion of the second argument of issubdtype from `float` to `np.floating` is deprecated. In future, it will be treated as `np.float64 == np.dtype(float).type`.\n",
      "  from ._conv import register_converters as _register_converters\n",
      "Using TensorFlow backend.\n"
     ]
    },
    {
     "name": "stdout",
     "output_type": "stream",
     "text": [
      "Found 98182 unique all texts tokens.\n",
      "Shape of train label tensor: (9051, 20)\n",
      "Shape of val label tensor: (2263, 20)\n",
      "Shape of test label tensor: (7532, 20)\n"
     ]
    }
   ],
   "source": [
    "from keras.preprocessing.text import Tokenizer\n",
    "from keras.utils import to_categorical\n",
    "import numpy as np\n",
    "\n",
    "all_texts = []\n",
    "all_texts.extend(X_train_content)\n",
    "all_texts.extend(X_val_content)\n",
    "all_texts.extend(X_test_content)\n",
    "\n",
    "all_texts_tokenizer = Tokenizer()\n",
    "all_texts_tokenizer.fit_on_texts(all_texts)\n",
    "all_texts_word_index = all_texts_tokenizer.word_index\n",
    "\n",
    "print('Found %s unique all texts tokens.' % len(all_texts_word_index))\n",
    "\n",
    "all_labels = []\n",
    "all_labels.extend(y_train)\n",
    "all_labels.extend(y_val)\n",
    "all_labels.extend(y_test)\n",
    "\n",
    "all_labels = to_categorical(np.asarray(all_labels))\n",
    "\n",
    "y_train_labels = to_categorical(np.asarray(y_train))\n",
    "print('Shape of train label tensor:', y_train_labels.shape)\n",
    "\n",
    "y_val_labels = to_categorical(np.asarray(y_val))\n",
    "print('Shape of val label tensor:', y_val_labels.shape)\n",
    "\n",
    "y_test_labels = to_categorical(np.asarray(y_test))\n",
    "print('Shape of test label tensor:', y_test_labels.shape)"
   ]
  },
  {
   "cell_type": "code",
   "execution_count": 11,
   "metadata": {
    "collapsed": true
   },
   "outputs": [],
   "source": [
    "MAX_SEQUENCE_LENGTH = 500 # 每条新闻最大长度"
   ]
  },
  {
   "cell_type": "code",
   "execution_count": 12,
   "metadata": {
    "collapsed": true
   },
   "outputs": [],
   "source": [
    "from keras.preprocessing.sequence import pad_sequences\n",
    "X_train_sequences = pad_sequences(all_texts_tokenizer.texts_to_sequences(X_train_content), maxlen=MAX_SEQUENCE_LENGTH)\n",
    "X_val_sequences = pad_sequences(all_texts_tokenizer.texts_to_sequences(X_val_content), maxlen=MAX_SEQUENCE_LENGTH)\n",
    "X_test_sequences = pad_sequences(all_texts_tokenizer.texts_to_sequences(X_test_content), maxlen=MAX_SEQUENCE_LENGTH)"
   ]
  },
  {
   "cell_type": "code",
   "execution_count": 13,
   "metadata": {},
   "outputs": [
    {
     "name": "stdout",
     "output_type": "stream",
     "text": [
      "Shape of train tensor: (9051, 500)\n",
      "Shape of val tensor: (2263, 500)\n",
      "Shape of test tensor: (7532, 500)\n"
     ]
    }
   ],
   "source": [
    "print('Shape of train tensor:', X_train_sequences.shape)\n",
    "print('Shape of val tensor:', X_val_sequences.shape)\n",
    "print('Shape of test tensor:', X_test_sequences.shape)"
   ]
  },
  {
   "cell_type": "markdown",
   "metadata": {},
   "source": [
    "构建嵌入层Embedding"
   ]
  },
  {
   "cell_type": "code",
   "execution_count": 14,
   "metadata": {
    "collapsed": true
   },
   "outputs": [],
   "source": [
    "from keras.utils import plot_model\n",
    "from keras.layers import Embedding\n",
    "import gensim\n",
    "\n",
    "from keras.layers import Dense, Input, Flatten, Dropout, Activation, LSTM\n",
    "from keras.layers import Conv1D, MaxPooling1D, Embedding, concatenate\n",
    "from keras.models import Sequential, Model\n",
    "\n",
    "w2v_model = news_model\n",
    "embedding_matrix = np.zeros((len(all_texts_word_index) + 1, EMBEDDING_DIM))\n",
    "\n",
    "for word, i in all_texts_word_index.items():\n",
    "    if word in w2v_model.wv:\n",
    "        embedding_matrix[i] = np.asarray(w2v_model.wv[word],dtype='float32')\n",
    "        \n",
    "embedding_layer = Embedding(len(all_texts_word_index) + 1,\n",
    "                            EMBEDDING_DIM,\n",
    "                            weights=[embedding_matrix],\n",
    "                            input_length=MAX_SEQUENCE_LENGTH,\n",
    "                            trainable=False)"
   ]
  },
  {
   "cell_type": "markdown",
   "metadata": {},
   "source": [
    "Inception v2模型"
   ]
  },
  {
   "cell_type": "code",
   "execution_count": 15,
   "metadata": {},
   "outputs": [
    {
     "name": "stdout",
     "output_type": "stream",
     "text": [
      "__________________________________________________________________________________________________\n",
      "Layer (type)                    Output Shape         Param #     Connected to                     \n",
      "==================================================================================================\n",
      "main_input (InputLayer)         (None, 500)          0                                            \n",
      "__________________________________________________________________________________________________\n",
      "embedding_1 (Embedding)         (None, 500, 200)     19636600    main_input[0][0]                 \n",
      "__________________________________________________________________________________________________\n",
      "conv1d_1 (Conv1D)               (None, 500, 64)      12864       embedding_1[0][0]                \n",
      "__________________________________________________________________________________________________\n",
      "conv1d_2 (Conv1D)               (None, 500, 64)      12352       conv1d_1[0][0]                   \n",
      "__________________________________________________________________________________________________\n",
      "conv1d_4 (Conv1D)               (None, 500, 64)      12864       embedding_1[0][0]                \n",
      "__________________________________________________________________________________________________\n",
      "max_pooling1d_1 (MaxPooling1D)  (None, 500, 200)     0           embedding_1[0][0]                \n",
      "__________________________________________________________________________________________________\n",
      "conv1d_3 (Conv1D)               (None, 500, 64)      12352       conv1d_2[0][0]                   \n",
      "__________________________________________________________________________________________________\n",
      "conv1d_5 (Conv1D)               (None, 500, 64)      12352       conv1d_4[0][0]                   \n",
      "__________________________________________________________________________________________________\n",
      "conv1d_6 (Conv1D)               (None, 500, 64)      12864       max_pooling1d_1[0][0]            \n",
      "__________________________________________________________________________________________________\n",
      "conv1d_7 (Conv1D)               (None, 500, 64)      12864       embedding_1[0][0]                \n",
      "__________________________________________________________________________________________________\n",
      "flatten_1 (Flatten)             (None, 32000)        0           conv1d_3[0][0]                   \n",
      "__________________________________________________________________________________________________\n",
      "flatten_2 (Flatten)             (None, 32000)        0           conv1d_5[0][0]                   \n",
      "__________________________________________________________________________________________________\n",
      "flatten_3 (Flatten)             (None, 32000)        0           conv1d_6[0][0]                   \n",
      "__________________________________________________________________________________________________\n",
      "flatten_4 (Flatten)             (None, 32000)        0           conv1d_7[0][0]                   \n",
      "__________________________________________________________________________________________________\n",
      "dropout_1 (Dropout)             (None, 32000)        0           flatten_1[0][0]                  \n",
      "__________________________________________________________________________________________________\n",
      "dropout_2 (Dropout)             (None, 32000)        0           flatten_2[0][0]                  \n",
      "__________________________________________________________________________________________________\n",
      "dropout_3 (Dropout)             (None, 32000)        0           flatten_3[0][0]                  \n",
      "__________________________________________________________________________________________________\n",
      "dropout_4 (Dropout)             (None, 32000)        0           flatten_4[0][0]                  \n",
      "__________________________________________________________________________________________________\n",
      "sentence_vector (Concatenate)   (None, 128000)       0           dropout_1[0][0]                  \n",
      "                                                                 dropout_2[0][0]                  \n",
      "                                                                 dropout_3[0][0]                  \n",
      "                                                                 dropout_4[0][0]                  \n",
      "__________________________________________________________________________________________________\n",
      "dropout_5 (Dropout)             (None, 128000)       0           sentence_vector[0][0]            \n",
      "__________________________________________________________________________________________________\n",
      "dense_1 (Dense)                 (None, 20)           2560020     dropout_5[0][0]                  \n",
      "==================================================================================================\n",
      "Total params: 22,285,132\n",
      "Trainable params: 2,648,532\n",
      "Non-trainable params: 19,636,600\n",
      "__________________________________________________________________________________________________\n"
     ]
    }
   ],
   "source": [
    "#定义模型\n",
    "def init_Inception_v2_model(MAX_SEQUENCE_LENGTH,embedding_layer):\n",
    "    main_input = Input(shape=(MAX_SEQUENCE_LENGTH,), dtype='float32' , name='main_input')\n",
    "    x = embedding_layer(main_input)\n",
    "\n",
    "    tower_1 = Conv1D(filters=64, kernel_size=1, padding='same', activation='relu')(x)\n",
    "    tower_1 = Conv1D(filters=64, kernel_size=3, padding='same', activation='relu')(tower_1)\n",
    "    tower_1 = Conv1D(filters=64, kernel_size=3, padding='same', activation='relu')(tower_1)\n",
    "    tower_1 = Flatten()(tower_1)\n",
    "    tower_1 = Dropout(0.2)(tower_1)\n",
    "\n",
    "    tower_2 = Conv1D(filters=64, kernel_size=1, padding='same', activation='relu')(x)\n",
    "    tower_2 = Conv1D(filters=64, kernel_size=3, padding='same', activation='relu')(tower_2)\n",
    "    tower_2 = Flatten()(tower_2)\n",
    "    tower_2 = Dropout(0.2)(tower_2)\n",
    "\n",
    "    tower_3 = MaxPooling1D(pool_size=3, strides=1, padding='same')(x)\n",
    "    tower_3 = Conv1D(filters=64, kernel_size=1, padding='same', activation='relu')(tower_3)\n",
    "    tower_3 = Flatten()(tower_3)\n",
    "    tower_3 = Dropout(0.2)(tower_3)\n",
    "\n",
    "    tower_4 = Conv1D(filters=64, kernel_size=1, padding='same', activation='relu')(x)\n",
    "    tower_4 = Flatten()(tower_4)\n",
    "    tower_4 = Dropout(0.2)(tower_4)\n",
    "\n",
    "    sentence_vector = concatenate([tower_1,tower_2,tower_3,tower_4], name=\"sentence_vector\")  #,tower_4\n",
    "    #输出层\n",
    "    #sentence_vector = Flatten()(sentence_vector)\n",
    "    sentence_vector = Dropout(0.2)(sentence_vector)\n",
    "    output = Dense(all_labels.shape[1], activation='softmax')(sentence_vector)\n",
    "\n",
    "    model = Model(inputs=main_input, outputs=output)\n",
    "    return model\n",
    "\n",
    "Inception_v2_model = init_Inception_v2_model(MAX_SEQUENCE_LENGTH,embedding_layer)\n",
    "Inception_v2_model.summary()"
   ]
  },
  {
   "cell_type": "code",
   "execution_count": 16,
   "metadata": {
    "collapsed": true
   },
   "outputs": [],
   "source": [
    "Inception_v2_model.compile(loss='categorical_crossentropy',\n",
    "              optimizer='rmsprop',#adam,sgd,rmsprop\n",
    "              metrics=['accuracy'])"
   ]
  },
  {
   "cell_type": "code",
   "execution_count": 17,
   "metadata": {},
   "outputs": [
    {
     "name": "stdout",
     "output_type": "stream",
     "text": [
      "Train on 9051 samples, validate on 2263 samples\n",
      "Epoch 1/20\n",
      "9051/9051 [==============================] - 13s 1ms/step - loss: 2.2458 - acc: 0.4179 - val_loss: 1.3840 - val_acc: 0.5541\n",
      "Epoch 2/20\n",
      "9051/9051 [==============================] - 11s 1ms/step - loss: 0.6892 - acc: 0.7931 - val_loss: 1.2939 - val_acc: 0.6133\n",
      "Epoch 3/20\n",
      "9051/9051 [==============================] - 11s 1ms/step - loss: 0.3145 - acc: 0.9123 - val_loss: 1.4319 - val_acc: 0.6054\n",
      "Epoch 4/20\n",
      "9051/9051 [==============================] - 11s 1ms/step - loss: 0.1548 - acc: 0.9575 - val_loss: 1.5470 - val_acc: 0.6072\n",
      "Epoch 5/20\n",
      "9051/9051 [==============================] - 11s 1ms/step - loss: 0.0982 - acc: 0.9759 - val_loss: 1.5876 - val_acc: 0.6111\n",
      "Epoch 6/20\n",
      "9051/9051 [==============================] - 11s 1ms/step - loss: 0.0578 - acc: 0.9861 - val_loss: 1.7851 - val_acc: 0.6129\n",
      "Epoch 7/20\n",
      "9051/9051 [==============================] - 11s 1ms/step - loss: 0.0311 - acc: 0.9926 - val_loss: 1.9020 - val_acc: 0.6195\n",
      "Epoch 8/20\n",
      "9051/9051 [==============================] - 11s 1ms/step - loss: 0.0381 - acc: 0.9928 - val_loss: 1.8140 - val_acc: 0.6288\n",
      "Epoch 9/20\n",
      "9051/9051 [==============================] - 11s 1ms/step - loss: 0.0172 - acc: 0.9959 - val_loss: 2.0165 - val_acc: 0.6231\n",
      "Epoch 10/20\n",
      "9051/9051 [==============================] - 11s 1ms/step - loss: 0.0215 - acc: 0.9947 - val_loss: 1.9762 - val_acc: 0.6399\n",
      "Epoch 11/20\n",
      "9051/9051 [==============================] - 11s 1ms/step - loss: 0.0189 - acc: 0.9964 - val_loss: 2.0745 - val_acc: 0.6279\n",
      "Epoch 12/20\n",
      "9051/9051 [==============================] - 11s 1ms/step - loss: 0.0092 - acc: 0.9977 - val_loss: 2.2898 - val_acc: 0.6231\n",
      "Epoch 13/20\n",
      "9051/9051 [==============================] - 11s 1ms/step - loss: 0.0093 - acc: 0.9978 - val_loss: 2.3098 - val_acc: 0.6231\n",
      "Epoch 14/20\n",
      "9051/9051 [==============================] - 11s 1ms/step - loss: 0.0097 - acc: 0.9971 - val_loss: 2.3071 - val_acc: 0.6195\n",
      "Epoch 15/20\n",
      "9051/9051 [==============================] - 11s 1ms/step - loss: 0.0128 - acc: 0.9973 - val_loss: 2.3519 - val_acc: 0.6244\n",
      "Epoch 16/20\n",
      "9051/9051 [==============================] - 11s 1ms/step - loss: 0.0060 - acc: 0.9983 - val_loss: 2.5418 - val_acc: 0.6138\n",
      "Epoch 17/20\n",
      "9051/9051 [==============================] - 11s 1ms/step - loss: 0.0101 - acc: 0.9978 - val_loss: 2.5694 - val_acc: 0.6133\n",
      "Epoch 18/20\n",
      "9051/9051 [==============================] - 11s 1ms/step - loss: 0.0082 - acc: 0.9979 - val_loss: 2.5417 - val_acc: 0.6182\n",
      "Epoch 19/20\n",
      "9051/9051 [==============================] - 11s 1ms/step - loss: 0.0065 - acc: 0.9980 - val_loss: 2.7886 - val_acc: 0.5917\n",
      "Epoch 20/20\n",
      "9051/9051 [==============================] - 11s 1ms/step - loss: 0.0058 - acc: 0.9992 - val_loss: 3.0456 - val_acc: 0.6019\n"
     ]
    }
   ],
   "source": [
    "from keras.callbacks import ModelCheckpoint\n",
    "init_flag = True #是否训练模型\n",
    "model_path = 'saved_models/weights.best.Inception_v2.hdf5'\n",
    "if init_flag:\n",
    "    ### 训练模型\n",
    "    checkpointer = ModelCheckpoint(filepath=model_path, save_best_only=True)\n",
    "    history = Inception_v2_model.fit(X_train_sequences, y_train_labels, validation_data=(X_val_sequences, y_val_labels),\n",
    "              epochs=20, batch_size=128, callbacks=[checkpointer])"
   ]
  },
  {
   "cell_type": "markdown",
   "metadata": {
    "collapsed": true
   },
   "source": [
    "训练集和验证集的损失曲线："
   ]
  },
  {
   "cell_type": "code",
   "execution_count": 18,
   "metadata": {},
   "outputs": [
    {
     "data": {
      "image/png": "[encoded data removed]",
      "text/plain": [
       "<matplotlib.figure.Figure at 0x23eb911b6a0>"
      ]
     },
     "metadata": {},
     "output_type": "display_data"
    }
   ],
   "source": [
    "import matplotlib.pyplot as plt\n",
    "#from scipy import misc\n",
    "img_path = 'InceptionV2_loss.png'\n",
    "if init_flag:\n",
    "    loss = history.history['loss']\n",
    "    val_loss = history.history['val_loss']\n",
    "    epochs = range(1, len(loss) + 1)\n",
    "    plt.plot(epochs, loss, 'bo', label='Training loss')\n",
    "    plt.plot(epochs, val_loss, 'b', label='Validation loss')\n",
    "    plt.title('Training and validation loss')\n",
    "    plt.xlabel('Epochs')\n",
    "    plt.ylabel('Loss')\n",
    "    plt.legend()\n",
    "    plt.savefig(img_path, dpi=75)\n",
    "    plt.show()\n",
    "else:\n",
    "    image = plt.imread(img_path)\n",
    "    #misc.imresize(image, (450,300))\n",
    "    plt.imshow(image)\n",
    "    plt.axis('off') # clear x- and y-axes  \n",
    "    plt.show()"
   ]
  },
  {
   "cell_type": "markdown",
   "metadata": {},
   "source": [
    "训练集和验证集的正确率曲线："
   ]
  },
  {
   "cell_type": "code",
   "execution_count": 19,
   "metadata": {},
   "outputs": [
    {
     "data": {
      "image/png": "[encoded data removed]",
      "text/plain": [
       "<matplotlib.figure.Figure at 0x23ed765c550>"
      ]
     },
     "metadata": {},
     "output_type": "display_data"
    }
   ],
   "source": [
    "plt.clf()   # clear figure\n",
    "plt.clf()   # clear figure\n",
    "img_path = 'InceptionV2_acc.png'\n",
    "if init_flag:\n",
    "    acc = history.history['acc']\n",
    "    val_acc = history.history['val_acc']\n",
    "    plt.plot(epochs, acc, 'bo', label='Training acc')\n",
    "    plt.plot(epochs, val_acc, 'b', label='Validation acc')\n",
    "    plt.title('Training and validation accuracy')\n",
    "    plt.xlabel('Epochs')\n",
    "    plt.ylabel('Accuracy')\n",
    "    plt.legend()\n",
    "    plt.savefig(img_path, dpi=75)\n",
    "    plt.show()\n",
    "else:\n",
    "    image = plt.imread(img_path)\n",
    "    #misc.imresize(image, (450,300))\n",
    "    plt.imshow(image)  \n",
    "    plt.axis('off') # clear x- and y-axes  \n",
    "    plt.show()"
   ]
  },
  {
   "cell_type": "markdown",
   "metadata": {},
   "source": [
    "对验证集使用最佳验证loss进行验证"
   ]
  },
  {
   "cell_type": "code",
   "execution_count": 20,
   "metadata": {
    "collapsed": true
   },
   "outputs": [],
   "source": [
    "### 加载具有最佳验证loss的模型权重\n",
    "Inception_v2_model.load_weights(model_path)"
   ]
  },
  {
   "cell_type": "code",
   "execution_count": 21,
   "metadata": {},
   "outputs": [
    {
     "name": "stdout",
     "output_type": "stream",
     "text": [
      "2263/2263 [==============================] - 2s 940us/step\n",
      "[1.2939079041192345, 0.6133451168378053]\n"
     ]
    }
   ],
   "source": [
    "print(Inception_v2_model.evaluate(X_val_sequences, y_val_labels))"
   ]
  },
  {
   "cell_type": "markdown",
   "metadata": {
    "collapsed": true
   },
   "source": [
    "CNN 模型"
   ]
  },
  {
   "cell_type": "code",
   "execution_count": 15,
   "metadata": {},
   "outputs": [
    {
     "name": "stdout",
     "output_type": "stream",
     "text": [
      "__________________________________________________________________________________________________\n",
      "Layer (type)                    Output Shape         Param #     Connected to                     \n",
      "==================================================================================================\n",
      "main_input (InputLayer)         (None, 500)          0                                            \n",
      "__________________________________________________________________________________________________\n",
      "embedding_1 (Embedding)         (None, 500, 200)     19636600    main_input[0][0]                 \n",
      "__________________________________________________________________________________________________\n",
      "conv1d_1 (Conv1D)               (None, 500, 64)      12864       embedding_1[0][0]                \n",
      "__________________________________________________________________________________________________\n",
      "conv1d_2 (Conv1D)               (None, 500, 64)      25664       embedding_1[0][0]                \n",
      "__________________________________________________________________________________________________\n",
      "conv1d_3 (Conv1D)               (None, 500, 64)      38464       embedding_1[0][0]                \n",
      "__________________________________________________________________________________________________\n",
      "conv1d_4 (Conv1D)               (None, 500, 64)      51264       embedding_1[0][0]                \n",
      "__________________________________________________________________________________________________\n",
      "max_pooling1d_1 (MaxPooling1D)  (None, 500, 64)      0           conv1d_1[0][0]                   \n",
      "__________________________________________________________________________________________________\n",
      "max_pooling1d_2 (MaxPooling1D)  (None, 500, 64)      0           conv1d_2[0][0]                   \n",
      "__________________________________________________________________________________________________\n",
      "max_pooling1d_3 (MaxPooling1D)  (None, 500, 64)      0           conv1d_3[0][0]                   \n",
      "__________________________________________________________________________________________________\n",
      "max_pooling1d_4 (MaxPooling1D)  (None, 500, 64)      0           conv1d_4[0][0]                   \n",
      "__________________________________________________________________________________________________\n",
      "flatten_1 (Flatten)             (None, 32000)        0           max_pooling1d_1[0][0]            \n",
      "__________________________________________________________________________________________________\n",
      "flatten_2 (Flatten)             (None, 32000)        0           max_pooling1d_2[0][0]            \n",
      "__________________________________________________________________________________________________\n",
      "flatten_3 (Flatten)             (None, 32000)        0           max_pooling1d_3[0][0]            \n",
      "__________________________________________________________________________________________________\n",
      "flatten_4 (Flatten)             (None, 32000)        0           max_pooling1d_4[0][0]            \n",
      "__________________________________________________________________________________________________\n",
      "dropout_1 (Dropout)             (None, 32000)        0           flatten_1[0][0]                  \n",
      "__________________________________________________________________________________________________\n",
      "dropout_2 (Dropout)             (None, 32000)        0           flatten_2[0][0]                  \n",
      "__________________________________________________________________________________________________\n",
      "dropout_3 (Dropout)             (None, 32000)        0           flatten_3[0][0]                  \n",
      "__________________________________________________________________________________________________\n",
      "dropout_4 (Dropout)             (None, 32000)        0           flatten_4[0][0]                  \n",
      "__________________________________________________________________________________________________\n",
      "sentence_vector (Concatenate)   (None, 128000)       0           dropout_1[0][0]                  \n",
      "                                                                 dropout_2[0][0]                  \n",
      "                                                                 dropout_3[0][0]                  \n",
      "                                                                 dropout_4[0][0]                  \n",
      "__________________________________________________________________________________________________\n",
      "dropout_5 (Dropout)             (None, 128000)       0           sentence_vector[0][0]            \n",
      "__________________________________________________________________________________________________\n",
      "dense_1 (Dense)                 (None, 20)           2560020     dropout_5[0][0]                  \n",
      "==================================================================================================\n",
      "Total params: 22,324,876\n",
      "Trainable params: 2,688,276\n",
      "Non-trainable params: 19,636,600\n",
      "__________________________________________________________________________________________________\n"
     ]
    }
   ],
   "source": [
    "#定义模型\n",
    "def init_CNN_model(MAX_SEQUENCE_LENGTH,embedding_layer):\n",
    "    main_input = Input(shape=(MAX_SEQUENCE_LENGTH,), dtype='float32' , name='main_input')\n",
    "    x = embedding_layer(main_input)\n",
    "\n",
    "    tower_1 = Conv1D(filters=64, kernel_size=1, padding='same', activation='relu')(x)\n",
    "    tower_1 = MaxPooling1D(pool_size=4, strides=1, padding='same')(tower_1)\n",
    "    tower_1 = Flatten()(tower_1)\n",
    "    tower_1 = Dropout(0.2)(tower_1)\n",
    "\n",
    "    tower_2 = Conv1D(filters=64, kernel_size=2, padding='same', activation='relu')(x)\n",
    "    tower_2 = MaxPooling1D(pool_size=3, strides=1, padding='same')(tower_2)\n",
    "    tower_2 = Flatten()(tower_2)\n",
    "    tower_2 = Dropout(0.2)(tower_2)\n",
    "\n",
    "    tower_3 = Conv1D(filters=64, kernel_size=3, padding='same', activation='relu')(x)\n",
    "    tower_3 = MaxPooling1D(pool_size=2, strides=1, padding='same')(tower_3)\n",
    "    tower_3 = Flatten()(tower_3)\n",
    "    tower_3 = Dropout(0.2)(tower_3)\n",
    "\n",
    "    tower_4 = Conv1D(filters=64, kernel_size=4, padding='same', activation='relu')(x)\n",
    "    tower_4 = MaxPooling1D(pool_size=1, strides=1, padding='same')(tower_4)\n",
    "    tower_4 = Flatten()(tower_4)\n",
    "    tower_4 = Dropout(0.2)(tower_4)\n",
    "\n",
    "    sentence_vector = concatenate([tower_1,tower_2,tower_3,tower_4], name=\"sentence_vector\")  #,tower_4\n",
    "    #输出层\n",
    "    #sentence_vector = Flatten()(sentence_vector)\n",
    "    sentence_vector = Dropout(0.2)(sentence_vector)\n",
    "    output = Dense(all_labels.shape[1], activation='softmax')(sentence_vector)\n",
    "\n",
    "    model = Model(inputs=main_input, outputs=output)\n",
    "    return model\n",
    "\n",
    "CNN_model = init_CNN_model(MAX_SEQUENCE_LENGTH,embedding_layer)\n",
    "CNN_model.summary()"
   ]
  },
  {
   "cell_type": "code",
   "execution_count": 16,
   "metadata": {
    "collapsed": true
   },
   "outputs": [],
   "source": [
    "CNN_model.compile(loss='categorical_crossentropy',\n",
    "              optimizer='rmsprop',#adam,sgd,rmsprop\n",
    "              metrics=['accuracy'])"
   ]
  },
  {
   "cell_type": "code",
   "execution_count": 17,
   "metadata": {},
   "outputs": [
    {
     "name": "stdout",
     "output_type": "stream",
     "text": [
      "Train on 9051 samples, validate on 2263 samples\n",
      "Epoch 1/20\n",
      "9051/9051 [==============================] - 14s 1ms/step - loss: 3.3241 - acc: 0.4216 - val_loss: 1.1305 - val_acc: 0.6399\n",
      "Epoch 2/20\n",
      "9051/9051 [==============================] - 12s 1ms/step - loss: 0.6865 - acc: 0.7958 - val_loss: 1.0790 - val_acc: 0.6580\n",
      "Epoch 3/20\n",
      "9051/9051 [==============================] - 12s 1ms/step - loss: 0.2819 - acc: 0.9195 - val_loss: 1.2192 - val_acc: 0.6708\n",
      "Epoch 4/20\n",
      "9051/9051 [==============================] - 12s 1ms/step - loss: 0.1248 - acc: 0.9678 - val_loss: 1.5895 - val_acc: 0.6655\n",
      "Epoch 5/20\n",
      "9051/9051 [==============================] - 12s 1ms/step - loss: 0.0759 - acc: 0.9824 - val_loss: 1.6065 - val_acc: 0.6483\n",
      "Epoch 6/20\n",
      "9051/9051 [==============================] - 12s 1ms/step - loss: 0.0463 - acc: 0.9901 - val_loss: 1.5545 - val_acc: 0.6752\n",
      "Epoch 7/20\n",
      "9051/9051 [==============================] - 12s 1ms/step - loss: 0.0334 - acc: 0.9938 - val_loss: 1.6772 - val_acc: 0.6770\n",
      "Epoch 8/20\n",
      "9051/9051 [==============================] - 12s 1ms/step - loss: 0.0274 - acc: 0.9939 - val_loss: 1.8082 - val_acc: 0.6677\n",
      "Epoch 9/20\n",
      "9051/9051 [==============================] - 12s 1ms/step - loss: 0.0225 - acc: 0.9958 - val_loss: 1.9219 - val_acc: 0.6712\n",
      "Epoch 10/20\n",
      "9051/9051 [==============================] - 12s 1ms/step - loss: 0.0256 - acc: 0.9956 - val_loss: 2.0708 - val_acc: 0.6584\n",
      "Epoch 11/20\n",
      "9051/9051 [==============================] - 12s 1ms/step - loss: 0.0178 - acc: 0.9972 - val_loss: 2.0623 - val_acc: 0.6752\n",
      "Epoch 12/20\n",
      "9051/9051 [==============================] - 12s 1ms/step - loss: 0.0181 - acc: 0.9978 - val_loss: 2.1201 - val_acc: 0.6748\n",
      "Epoch 13/20\n",
      "9051/9051 [==============================] - 12s 1ms/step - loss: 0.0249 - acc: 0.9965 - val_loss: 2.1729 - val_acc: 0.6659\n",
      "Epoch 14/20\n",
      "9051/9051 [==============================] - 12s 1ms/step - loss: 0.0164 - acc: 0.9975 - val_loss: 2.1774 - val_acc: 0.6752\n",
      "Epoch 15/20\n",
      "9051/9051 [==============================] - 12s 1ms/step - loss: 0.0180 - acc: 0.9976 - val_loss: 2.4695 - val_acc: 0.6589\n",
      "Epoch 16/20\n",
      "9051/9051 [==============================] - 12s 1ms/step - loss: 0.0152 - acc: 0.9982 - val_loss: 2.2608 - val_acc: 0.6690\n",
      "Epoch 17/20\n",
      "9051/9051 [==============================] - 12s 1ms/step - loss: 0.0175 - acc: 0.9973 - val_loss: 2.3904 - val_acc: 0.6606\n",
      "Epoch 18/20\n",
      "9051/9051 [==============================] - 12s 1ms/step - loss: 0.0178 - acc: 0.9977 - val_loss: 2.4748 - val_acc: 0.6624\n",
      "Epoch 19/20\n",
      "9051/9051 [==============================] - 12s 1ms/step - loss: 0.0175 - acc: 0.9977 - val_loss: 2.9202 - val_acc: 0.6319\n",
      "Epoch 20/20\n",
      "9051/9051 [==============================] - 12s 1ms/step - loss: 0.0173 - acc: 0.9975 - val_loss: 2.5918 - val_acc: 0.6567\n"
     ]
    }
   ],
   "source": [
    "from keras.callbacks import ModelCheckpoint\n",
    "init_flag = False #是否训练模型\n",
    "model_path = 'saved_models/weights.best.CNN.hdf5'\n",
    "if init_flag:\n",
    "    ### 训练模型\n",
    "    checkpointer = ModelCheckpoint(filepath=model_path, save_best_only=True)\n",
    "    history = CNN_model.fit(X_train_sequences, y_train_labels, validation_data=(X_val_sequences, y_val_labels),\n",
    "              epochs=20, batch_size=128, callbacks=[checkpointer])"
   ]
  },
  {
   "cell_type": "markdown",
   "metadata": {},
   "source": [
    "训练集和验证集的损失曲线："
   ]
  },
  {
   "cell_type": "code",
   "execution_count": 18,
   "metadata": {},
   "outputs": [
    {
     "data": {
      "image/png": "[encoded data removed]",
      "text/plain": [
       "<matplotlib.figure.Figure at 0x240b9fe15f8>"
      ]
     },
     "metadata": {},
     "output_type": "display_data"
    }
   ],
   "source": [
    "import matplotlib.pyplot as plt\n",
    "#from scipy import misc\n",
    "img_path = 'CNN_loss.png'\n",
    "if init_flag:\n",
    "    loss = history.history['loss']\n",
    "    val_loss = history.history['val_loss']\n",
    "    epochs = range(1, len(loss) + 1)\n",
    "    plt.plot(epochs, loss, 'bo', label='Training loss')\n",
    "    plt.plot(epochs, val_loss, 'b', label='Validation loss')\n",
    "    plt.title('Training and validation loss')\n",
    "    plt.xlabel('Epochs')\n",
    "    plt.ylabel('Loss')\n",
    "    plt.legend()\n",
    "    plt.savefig(img_path, dpi=75)\n",
    "    plt.show()\n",
    "else:\n",
    "    image = plt.imread(img_path)\n",
    "    #misc.imresize(image, (450,300))\n",
    "    plt.imshow(image)\n",
    "    plt.axis('off') # clear x- and y-axes  \n",
    "    plt.show()"
   ]
  },
  {
   "cell_type": "markdown",
   "metadata": {},
   "source": [
    "训练集和验证集的正确率曲线："
   ]
  },
  {
   "cell_type": "code",
   "execution_count": 19,
   "metadata": {},
   "outputs": [
    {
     "data": {
      "image/png": "[encoded data removed]",
      "text/plain": [
       "<matplotlib.figure.Figure at 0x240d2683400>"
      ]
     },
     "metadata": {},
     "output_type": "display_data"
    }
   ],
   "source": [
    "plt.clf()   # clear figure\n",
    "plt.clf()   # clear figure\n",
    "img_path = 'CNN_acc.png'\n",
    "if init_flag:\n",
    "    acc = history.history['acc']\n",
    "    val_acc = history.history['val_acc']\n",
    "    plt.plot(epochs, acc, 'bo', label='Training acc')\n",
    "    plt.plot(epochs, val_acc, 'b', label='Validation acc')\n",
    "    plt.title('Training and validation accuracy')\n",
    "    plt.xlabel('Epochs')\n",
    "    plt.ylabel('Accuracy')\n",
    "    plt.legend()\n",
    "    plt.savefig(img_path, dpi=75)\n",
    "    plt.show()\n",
    "else:\n",
    "    image = plt.imread(img_path)\n",
    "    misc.imresize(image, (450,300))\n",
    "    plt.imshow(image)  \n",
    "    plt.axis('off') # clear x- and y-axes  \n",
    "    plt.show()"
   ]
  },
  {
   "cell_type": "markdown",
   "metadata": {},
   "source": [
    "对验证集使用最佳验证loss进行验证"
   ]
  },
  {
   "cell_type": "code",
   "execution_count": 20,
   "metadata": {
    "collapsed": true
   },
   "outputs": [],
   "source": [
    "### 加载具有最佳验证loss的模型权重\n",
    "CNN_model.load_weights(model_path)"
   ]
  },
  {
   "cell_type": "code",
   "execution_count": 21,
   "metadata": {},
   "outputs": [
    {
     "name": "stdout",
     "output_type": "stream",
     "text": [
      "2263/2263 [==============================] - 2s 991us/step\n",
      "[1.0789649669332837, 0.6579761377910677]\n"
     ]
    }
   ],
   "source": [
    "print(CNN_model.evaluate(X_val_sequences, y_val_labels))"
   ]
  },
  {
   "cell_type": "markdown",
   "metadata": {},
   "source": [
    "LSTM模型"
   ]
  },
  {
   "cell_type": "code",
   "execution_count": 15,
   "metadata": {},
   "outputs": [
    {
     "name": "stdout",
     "output_type": "stream",
     "text": [
      "_________________________________________________________________\n",
      "Layer (type)                 Output Shape              Param #   \n",
      "=================================================================\n",
      "embedding_1 (Embedding)      (None, 500, 200)          19636600  \n",
      "_________________________________________________________________\n",
      "lstm_1 (LSTM)                (None, 200)               320800    \n",
      "_________________________________________________________________\n",
      "dropout_1 (Dropout)          (None, 200)               0         \n",
      "_________________________________________________________________\n",
      "dense_1 (Dense)              (None, 20)                4020      \n",
      "=================================================================\n",
      "Total params: 19,961,420\n",
      "Trainable params: 324,820\n",
      "Non-trainable params: 19,636,600\n",
      "_________________________________________________________________\n"
     ]
    }
   ],
   "source": [
    "#定义模型\n",
    "def init_LSTM_model(MAX_SEQUENCE_LENGTH,embedding_layer):\n",
    "    model = Sequential()\n",
    "    model.add(embedding_layer)\n",
    "    model.add(LSTM(200, dropout=0.2, recurrent_dropout=0.2))\n",
    "    model.add(Dropout(0.2))\n",
    "    model.add(Dense(all_labels.shape[1], activation='softmax'))\n",
    "    return model\n",
    "\n",
    "LSTM_model = init_LSTM_model(MAX_SEQUENCE_LENGTH,embedding_layer)\n",
    "LSTM_model.summary()"
   ]
  },
  {
   "cell_type": "code",
   "execution_count": 16,
   "metadata": {
    "collapsed": true
   },
   "outputs": [],
   "source": [
    "LSTM_model.compile(loss='categorical_crossentropy',\n",
    "              optimizer='rmsprop',#adam,sgd,rmsprop\n",
    "              metrics=['accuracy'])"
   ]
  },
  {
   "cell_type": "code",
   "execution_count": 17,
   "metadata": {},
   "outputs": [
    {
     "name": "stdout",
     "output_type": "stream",
     "text": [
      "Train on 9051 samples, validate on 2263 samples\n",
      "Epoch 1/40\n",
      "9051/9051 [==============================] - 70s 8ms/step - loss: 2.0280 - acc: 0.3324 - val_loss: 1.4117 - val_acc: 0.4998\n",
      "Epoch 2/40\n",
      "9051/9051 [==============================] - 69s 8ms/step - loss: 1.4655 - acc: 0.4913 - val_loss: 1.2675 - val_acc: 0.5250\n",
      "Epoch 3/40\n",
      "9051/9051 [==============================] - 69s 8ms/step - loss: 1.3123 - acc: 0.5393 - val_loss: 1.1863 - val_acc: 0.5913\n",
      "Epoch 4/40\n",
      "9051/9051 [==============================] - 68s 8ms/step - loss: 1.2018 - acc: 0.5789 - val_loss: 1.0501 - val_acc: 0.6403\n",
      "Epoch 5/40\n",
      "9051/9051 [==============================] - 69s 8ms/step - loss: 1.1233 - acc: 0.6083 - val_loss: 1.0049 - val_acc: 0.6509\n",
      "Epoch 6/40\n",
      "9051/9051 [==============================] - 68s 8ms/step - loss: 1.0211 - acc: 0.6545 - val_loss: 0.9334 - val_acc: 0.6734\n",
      "Epoch 7/40\n",
      "9051/9051 [==============================] - 68s 8ms/step - loss: 0.9542 - acc: 0.6742 - val_loss: 0.8454 - val_acc: 0.7185\n",
      "Epoch 8/40\n",
      "9051/9051 [==============================] - 68s 8ms/step - loss: 0.8864 - acc: 0.7029 - val_loss: 0.7844 - val_acc: 0.7428\n",
      "Epoch 9/40\n",
      "9051/9051 [==============================] - 68s 8ms/step - loss: 0.8162 - acc: 0.7264 - val_loss: 0.7648 - val_acc: 0.7441\n",
      "Epoch 10/40\n",
      "9051/9051 [==============================] - 69s 8ms/step - loss: 0.7707 - acc: 0.7425 - val_loss: 0.7689 - val_acc: 0.7508\n",
      "Epoch 11/40\n",
      "9051/9051 [==============================] - 68s 8ms/step - loss: 0.7005 - acc: 0.7672 - val_loss: 0.7488 - val_acc: 0.7450\n",
      "Epoch 12/40\n",
      "9051/9051 [==============================] - 69s 8ms/step - loss: 0.6594 - acc: 0.7770 - val_loss: 0.6779 - val_acc: 0.7835\n",
      "Epoch 13/40\n",
      "9051/9051 [==============================] - 69s 8ms/step - loss: 0.6271 - acc: 0.7892 - val_loss: 0.6562 - val_acc: 0.7791\n",
      "Epoch 14/40\n",
      "9051/9051 [==============================] - 69s 8ms/step - loss: 0.5869 - acc: 0.8026 - val_loss: 0.6817 - val_acc: 0.7786\n",
      "Epoch 15/40\n",
      "9051/9051 [==============================] - 69s 8ms/step - loss: 0.5415 - acc: 0.8188 - val_loss: 0.6596 - val_acc: 0.7958\n",
      "Epoch 16/40\n",
      "9051/9051 [==============================] - 69s 8ms/step - loss: 0.5051 - acc: 0.8332 - val_loss: 0.6061 - val_acc: 0.8029\n",
      "Epoch 17/40\n",
      "9051/9051 [==============================] - 69s 8ms/step - loss: 0.4795 - acc: 0.8388 - val_loss: 0.6144 - val_acc: 0.8095\n",
      "Epoch 18/40\n",
      "9051/9051 [==============================] - 69s 8ms/step - loss: 0.4379 - acc: 0.8553 - val_loss: 0.5801 - val_acc: 0.8246\n",
      "Epoch 19/40\n",
      "9051/9051 [==============================] - 69s 8ms/step - loss: 0.4280 - acc: 0.8553 - val_loss: 0.6022 - val_acc: 0.8135\n",
      "Epoch 20/40\n",
      "9051/9051 [==============================] - 69s 8ms/step - loss: 0.3990 - acc: 0.8654 - val_loss: 0.5847 - val_acc: 0.8210\n",
      "Epoch 21/40\n",
      "9051/9051 [==============================] - 70s 8ms/step - loss: 0.3724 - acc: 0.8731 - val_loss: 0.5597 - val_acc: 0.8241\n",
      "Epoch 22/40\n",
      "9051/9051 [==============================] - 69s 8ms/step - loss: 0.3480 - acc: 0.8844 - val_loss: 0.5650 - val_acc: 0.8246\n",
      "Epoch 23/40\n",
      "9051/9051 [==============================] - 69s 8ms/step - loss: 0.3205 - acc: 0.8939 - val_loss: 0.5420 - val_acc: 0.8334\n",
      "Epoch 24/40\n",
      "9051/9051 [==============================] - 69s 8ms/step - loss: 0.3095 - acc: 0.8949 - val_loss: 0.5475 - val_acc: 0.8352\n",
      "Epoch 25/40\n",
      "9051/9051 [==============================] - 70s 8ms/step - loss: 0.2880 - acc: 0.9072 - val_loss: 0.5579 - val_acc: 0.8409\n",
      "Epoch 26/40\n",
      "9051/9051 [==============================] - 70s 8ms/step - loss: 0.2800 - acc: 0.9090 - val_loss: 0.5962 - val_acc: 0.8268\n",
      "Epoch 27/40\n",
      "9051/9051 [==============================] - 69s 8ms/step - loss: 0.2700 - acc: 0.9112 - val_loss: 0.5694 - val_acc: 0.8325\n",
      "Epoch 28/40\n",
      "9051/9051 [==============================] - 69s 8ms/step - loss: 0.2424 - acc: 0.9216 - val_loss: 0.5432 - val_acc: 0.8422\n",
      "Epoch 29/40\n",
      "9051/9051 [==============================] - 69s 8ms/step - loss: 0.2251 - acc: 0.9267 - val_loss: 0.5750 - val_acc: 0.8294\n",
      "Epoch 30/40\n",
      "9051/9051 [==============================] - 69s 8ms/step - loss: 0.2073 - acc: 0.9342 - val_loss: 0.5763 - val_acc: 0.8343\n",
      "Epoch 31/40\n",
      "9051/9051 [==============================] - 69s 8ms/step - loss: 0.2149 - acc: 0.9277 - val_loss: 0.5640 - val_acc: 0.8352\n",
      "Epoch 32/40\n",
      "9051/9051 [==============================] - 70s 8ms/step - loss: 0.1903 - acc: 0.9389 - val_loss: 0.5725 - val_acc: 0.8356\n",
      "Epoch 33/40\n",
      "9051/9051 [==============================] - 70s 8ms/step - loss: 0.1845 - acc: 0.9411 - val_loss: 0.5691 - val_acc: 0.8338\n",
      "Epoch 34/40\n",
      "9051/9051 [==============================] - 71s 8ms/step - loss: 0.1749 - acc: 0.9437 - val_loss: 0.6104 - val_acc: 0.8308\n",
      "Epoch 35/40\n",
      "9051/9051 [==============================] - 69s 8ms/step - loss: 0.1648 - acc: 0.9467 - val_loss: 0.5633 - val_acc: 0.8392\n",
      "Epoch 36/40\n",
      "9051/9051 [==============================] - 69s 8ms/step - loss: 0.1547 - acc: 0.9519 - val_loss: 0.6099 - val_acc: 0.8378\n",
      "Epoch 37/40\n",
      "9051/9051 [==============================] - 70s 8ms/step - loss: 0.1439 - acc: 0.9526 - val_loss: 0.5966 - val_acc: 0.8418\n",
      "Epoch 38/40\n",
      "9051/9051 [==============================] - 69s 8ms/step - loss: 0.1325 - acc: 0.9586 - val_loss: 0.6321 - val_acc: 0.8356\n",
      "Epoch 39/40\n",
      "9051/9051 [==============================] - 69s 8ms/step - loss: 0.1381 - acc: 0.9550 - val_loss: 0.6125 - val_acc: 0.8458\n",
      "Epoch 40/40\n",
      "9051/9051 [==============================] - 70s 8ms/step - loss: 0.1251 - acc: 0.9628 - val_loss: 0.5991 - val_acc: 0.8458\n"
     ]
    }
   ],
   "source": [
    "from keras.callbacks import ModelCheckpoint\n",
    "init_flag = True #是否训练模型\n",
    "model_path = 'saved_models/weights.best.LSTM.hdf5'\n",
    "if init_flag:\n",
    "    ### 训练模型\n",
    "    checkpointer = ModelCheckpoint(filepath=model_path, save_best_only=True)\n",
    "    history = LSTM_model.fit(X_train_sequences, y_train_labels, validation_data=(X_val_sequences, y_val_labels),\n",
    "              epochs=40, batch_size=128, callbacks=[checkpointer])"
   ]
  },
  {
   "cell_type": "markdown",
   "metadata": {},
   "source": [
    "训练集和验证集的损失曲线："
   ]
  },
  {
   "cell_type": "code",
   "execution_count": 18,
   "metadata": {},
   "outputs": [
    {
     "data": {
      "image/png": "[encoded data removed]",
      "text/plain": [
       "<matplotlib.figure.Figure at 0x243ba5b50f0>"
      ]
     },
     "metadata": {},
     "output_type": "display_data"
    }
   ],
   "source": [
    "import matplotlib.pyplot as plt\n",
    "from scipy import misc\n",
    "img_path = 'LSTM_loss.png'\n",
    "if init_flag:\n",
    "    loss = history.history['loss']\n",
    "    val_loss = history.history['val_loss']\n",
    "    epochs = range(1, len(loss) + 1)\n",
    "    plt.plot(epochs, loss, 'bo', label='Training loss')\n",
    "    plt.plot(epochs, val_loss, 'b', label='Validation loss')\n",
    "    plt.title('Training and validation loss')\n",
    "    plt.xlabel('Epochs')\n",
    "    plt.ylabel('Loss')\n",
    "    plt.legend()\n",
    "    plt.savefig(img_path, dpi=75)\n",
    "    plt.show()\n",
    "else:\n",
    "    image = plt.imread(img_path)\n",
    "    misc.imresize(image, (450,300))\n",
    "    plt.imshow(image)\n",
    "    plt.axis('off') # clear x- and y-axes  \n",
    "    plt.show()"
   ]
  },
  {
   "cell_type": "markdown",
   "metadata": {},
   "source": [
    "训练集和验证集的正确率曲线："
   ]
  },
  {
   "cell_type": "code",
   "execution_count": 19,
   "metadata": {},
   "outputs": [
    {
     "data": {
      "image/png": "[encoded data removed]",
      "text/plain": [
       "<matplotlib.figure.Figure at 0x243bd051c88>"
      ]
     },
     "metadata": {},
     "output_type": "display_data"
    }
   ],
   "source": [
    "plt.clf()   # clear figure\n",
    "plt.clf()   # clear figure\n",
    "img_path = 'LSTM_acc.png'\n",
    "if init_flag:\n",
    "    acc = history.history['acc']\n",
    "    val_acc = history.history['val_acc']\n",
    "    plt.plot(epochs, acc, 'bo', label='Training acc')\n",
    "    plt.plot(epochs, val_acc, 'b', label='Validation acc')\n",
    "    plt.title('Training and validation accuracy')\n",
    "    plt.xlabel('Epochs')\n",
    "    plt.ylabel('Accuracy')\n",
    "    plt.legend()\n",
    "    plt.savefig(img_path, dpi=75)\n",
    "    plt.show()\n",
    "else:\n",
    "    image = plt.imread(img_path)\n",
    "    misc.imresize(image, (450,300))\n",
    "    plt.imshow(image)  \n",
    "    plt.axis('off') # clear x- and y-axes  \n",
    "    plt.show()"
   ]
  },
  {
   "cell_type": "markdown",
   "metadata": {},
   "source": [
    "对验证集使用最佳验证loss进行验证"
   ]
  },
  {
   "cell_type": "code",
   "execution_count": 20,
   "metadata": {
    "collapsed": true
   },
   "outputs": [],
   "source": [
    "### 加载具有最佳验证loss的模型权重\n",
    "LSTM_model.load_weights(model_path)"
   ]
  },
  {
   "cell_type": "code",
   "execution_count": 21,
   "metadata": {},
   "outputs": [
    {
     "name": "stdout",
     "output_type": "stream",
     "text": [
      "2263/2263 [==============================] - 17s 8ms/step\n",
      "[0.5420097791669224, 0.8334069815927304]\n"
     ]
    }
   ],
   "source": [
    "print(LSTM_model.evaluate(X_val_sequences, y_val_labels))"
   ]
  },
  {
   "cell_type": "markdown",
   "metadata": {
    "collapsed": true
   },
   "source": [
    "几种模型表现对比"
   ]
  },
  {
   "cell_type": "markdown",
   "metadata": {},
   "source": [
    "| 模型预测    | Inception v2 | CNN  | LSTM |\n",
    "|-------------|--------------|------|------|\n",
    "| 准确率      | 0.61         | 0.66 | 0.83 |\n",
    "| log loss    | 1.29         | 1.08 | 0.54 |\n",
    "| 单Epoch耗时 | 13s          | 12s  | 69s  |"
   ]
  },
  {
   "cell_type": "markdown",
   "metadata": {},
   "source": [
    "通过对比分析：LSTML的准确率有大幅提升，达到了0.83，log loss损失也明显减少，达到了0.54。但是LSTM的耗时更长一些。因此，我们选择LSTM模型对测试集进行最终的预测。"
   ]
  },
  {
   "cell_type": "markdown",
   "metadata": {},
   "source": [
    "对测试集进行预测"
   ]
  },
  {
   "cell_type": "code",
   "execution_count": 22,
   "metadata": {},
   "outputs": [
    {
     "name": "stdout",
     "output_type": "stream",
     "text": [
      "7532/7532 [==============================] - 60s 8ms/step\n",
      "[0.822625795134951, 0.7679235263194927]\n"
     ]
    }
   ],
   "source": [
    "print(LSTM_model.evaluate(X_test_sequences, y_test_labels))"
   ]
  },
  {
   "cell_type": "markdown",
   "metadata": {
    "collapsed": true
   },
   "source": [
    "可以看出：在测试集上，准确率为0.77，log_loss为0.82，该结果相对来说还可以。"
   ]
  }
 ],
 "metadata": {
  "kernelspec": {
   "display_name": "Python 3",
   "language": "python",
   "name": "python3"
  },
  "language_info": {
   "codemirror_mode": {
    "name": "ipython",
    "version": 3
   },
   "file_extension": ".py",
   "mimetype": "text/x-python",
   "name": "python",
   "nbconvert_exporter": "python",
   "pygments_lexer": "ipython3",
   "version": "3.5.4"
  }
 },
 "nbformat": 4,
 "nbformat_minor": 2
}
