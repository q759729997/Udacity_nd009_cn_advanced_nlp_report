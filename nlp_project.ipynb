{
 "cells": [
  {
   "cell_type": "markdown",
   "metadata": {},
   "source": [
    "## 开发环境"
   ]
  },
  {
   "cell_type": "code",
   "execution_count": 1,
   "metadata": {},
   "outputs": [
    {
     "name": "stdout",
     "output_type": "stream",
     "text": [
      "python版本：\n",
      "3.5.4 |Anaconda, Inc.| (default, Nov  8 2017, 14:34:30) [MSC v.1900 64 bit (AMD64)]\n",
      "sys.version_info(major=3, minor=5, micro=4, releaselevel='final', serial=0)\n"
     ]
    }
   ],
   "source": [
    "%matplotlib inline\n",
    "import sys \n",
    "print('python版本：')\n",
    "print(sys.version) \n",
    "print(sys.version_info)"
   ]
  },
  {
   "cell_type": "markdown",
   "metadata": {},
   "source": [
    "## 数据探索"
   ]
  },
  {
   "cell_type": "markdown",
   "metadata": {},
   "source": [
    "### 20newsgroups数据集"
   ]
  },
  {
   "cell_type": "markdown",
   "metadata": {},
   "source": [
    "数据加载"
   ]
  },
  {
   "cell_type": "code",
   "execution_count": 2,
   "metadata": {
    "collapsed": true
   },
   "outputs": [],
   "source": [
    "from sklearn.datasets import fetch_20newsgroups\n",
    "fetch_20newsgroups(data_home = 'dataFiles',categories = None,shuffle = True,random_state = 1)\n",
    "news_data = fetch_20newsgroups(data_home = 'dataFiles',subset = 'all',categories = None,shuffle = True,random_state = 1)"
   ]
  },
  {
   "cell_type": "markdown",
   "metadata": {},
   "source": [
    "数据集中data属性表示每个新闻的内容；filenames表示每个新闻的文件名称；target表示每个新闻的类别id；target_names表示新闻所包含的不同类别。"
   ]
  },
  {
   "cell_type": "markdown",
   "metadata": {},
   "source": [
    "数据集大小：数据集共有18846条记录"
   ]
  },
  {
   "cell_type": "code",
   "execution_count": 3,
   "metadata": {},
   "outputs": [
    {
     "name": "stdout",
     "output_type": "stream",
     "text": [
      "news data length: 18846\n"
     ]
    }
   ],
   "source": [
    "print('news data length:',len(news_data.data))"
   ]
  },
  {
   "cell_type": "markdown",
   "metadata": {},
   "source": [
    "新闻类别展示：数据集有20个新闻类别"
   ]
  },
  {
   "cell_type": "code",
   "execution_count": 4,
   "metadata": {},
   "outputs": [
    {
     "name": "stdout",
     "output_type": "stream",
     "text": [
      "news data target length: 20 \n",
      "\n",
      "news data target names: ['alt.atheism', 'comp.graphics', 'comp.os.ms-windows.misc', 'comp.sys.ibm.pc.hardware', 'comp.sys.mac.hardware', 'comp.windows.x', 'misc.forsale', 'rec.autos', 'rec.motorcycles', 'rec.sport.baseball', 'rec.sport.hockey', 'sci.crypt', 'sci.electronics', 'sci.med', 'sci.space', 'soc.religion.christian', 'talk.politics.guns', 'talk.politics.mideast', 'talk.politics.misc', 'talk.religion.misc']\n"
     ]
    }
   ],
   "source": [
    "print('news data target length:',len(news_data.target_names),'\\n')\n",
    "print('news data target names:',news_data.target_names)"
   ]
  },
  {
   "cell_type": "markdown",
   "metadata": {},
   "source": [
    "分析前十条新闻"
   ]
  },
  {
   "cell_type": "code",
   "execution_count": 5,
   "metadata": {},
   "outputs": [
    {
     "name": "stdout",
     "output_type": "stream",
     "text": [
      "前十条新闻文件名称为：\n",
      "['dataFiles\\\\20news_home\\\\20news-bydate-train\\\\talk.religion.misc\\\\83818'\n",
      " 'dataFiles\\\\20news_home\\\\20news-bydate-train\\\\talk.politics.misc\\\\178583'\n",
      " 'dataFiles\\\\20news_home\\\\20news-bydate-test\\\\talk.religion.misc\\\\84066'\n",
      " 'dataFiles\\\\20news_home\\\\20news-bydate-train\\\\sci.crypt\\\\15717'\n",
      " 'dataFiles\\\\20news_home\\\\20news-bydate-train\\\\rec.autos\\\\102915'\n",
      " 'dataFiles\\\\20news_home\\\\20news-bydate-train\\\\sci.crypt\\\\15357'\n",
      " 'dataFiles\\\\20news_home\\\\20news-bydate-test\\\\comp.os.ms-windows.misc\\\\10616'\n",
      " 'dataFiles\\\\20news_home\\\\20news-bydate-train\\\\comp.windows.x\\\\67248'\n",
      " 'dataFiles\\\\20news_home\\\\20news-bydate-train\\\\talk.religion.misc\\\\83501'\n",
      " 'dataFiles\\\\20news_home\\\\20news-bydate-test\\\\sci.electronics\\\\54100']\n"
     ]
    }
   ],
   "source": [
    "print('前十条新闻文件名称为：')\n",
    "print(news_data.filenames[:10])"
   ]
  },
  {
   "cell_type": "code",
   "execution_count": 6,
   "metadata": {},
   "outputs": [
    {
     "name": "stdout",
     "output_type": "stream",
     "text": [
      "前十条新闻类别id为：\n",
      "[19 18 19 11  7 11  2  5 19 12]\n"
     ]
    }
   ],
   "source": [
    "print('前十条新闻类别id为：')\n",
    "print(news_data.target[:10])"
   ]
  },
  {
   "cell_type": "code",
   "execution_count": 7,
   "metadata": {},
   "outputs": [
    {
     "name": "stdout",
     "output_type": "stream",
     "text": [
      "第一条新闻内容为：\n",
      "From: pharvey@quack.kfu.com (Paul Harvey)\n",
      "Subject: Re: Clarification of personal position\n",
      "Organization: The Duck Pond public unix: +1 408 249 9630, log in as 'guest'.\n",
      "Lines: 26\n",
      "\n",
      "In article <C5rBHt.Fw4@athena.cs.uga.edu> \n",
      "hudson@athena.cs.uga.edu (Paul Hudson Jr) writes:\n",
      ">In article <C5MuIw.AqC@mailer.cc.fsu.edu> \n",
      "dlecoint@garnet.acns.fsu.edu (Darius_Lecointe) writes:\n",
      ">>If it were a sin to violate Sunday no one could\n",
      ">>ever be forgiven for that for Jesus never kept Sunday holy.  He only\n",
      ">>recognized one day of the seven as holy.\n",
      ">Jesus also recognized other holy days, like the Passover.  Acts 15 says \n",
      ">that no more should be layed on the Gentiles than that which is necessary.\n",
      ">The sabbath is not in the list, nor do any of the epistles instruct people\n",
      ">to keep the 7th day, while Christians were living among people who did not\n",
      ">keep the 7th day.  It looks like that would have been a problem.\n",
      ">Instead, we have Scriptures telling us that all days can be esteemed alike\n",
      ">(Romans 14:5) and that no man should judge us in regard to what kind of\n",
      ">food we eat, Jewish holy days we keep, or _in regard to the sabbath. (Col. 2.)\n",
      ">>The\n",
      ">>question is \"On what authority do we proclaim that the requirements of the\n",
      ">>fourth commandment are no longer relevant to modern Christians?\"\n",
      ">I don't think that the Sabbath, or any other command of the law is totally\n",
      ">irrelevant to modern Christians, but what about Collosions 2, where it says\n",
      ">that we are not to be judged in regard to the keeping of the sabbath?\n",
      "\n",
      "Why are you running away from the word of Jesus? Has somebody superseded\n",
      "the word of Jesus? If you don't follow the morality of the Ten\n",
      "Commandments and the Law and the Prophets and the word of Jesus, whose\n",
      "morality do you follow?\n",
      "\n"
     ]
    }
   ],
   "source": [
    "print('第一条新闻内容为：')\n",
    "print(news_data.data[0])"
   ]
  },
  {
   "cell_type": "markdown",
   "metadata": {},
   "source": [
    "新闻内容过长，因此我们输出前十条新闻前200个字符"
   ]
  },
  {
   "cell_type": "code",
   "execution_count": 8,
   "metadata": {},
   "outputs": [
    {
     "name": "stdout",
     "output_type": "stream",
     "text": [
      "前十条新闻的每条的前200个字符：\n",
      "第 1 条: From: pharvey@quack.kfu.com (Paul Harvey)\n",
      "Subject: Re: Clarification of personal position\n",
      "Organization: The Duck Pond public unix: +1 408 249 9630, log in as 'guest'.\n",
      "Lines: 26\n",
      "\n",
      "In article <C5rBHt.Fw4\n",
      "第 2 条: From: chloupek@ohstpy.mps.ohio-state.edu\n",
      "Subject: Re: NC vs Hunt (Marine Gay Bashing in Wilmington NC) verdict\n",
      "Organization: The Ohio State University, Department of Physics\n",
      "Lines: 27\n",
      "\n",
      "In article <mat\n",
      "第 3 条: From: rgv9488@ritvax.isc.rit.edu\n",
      "Subject: Hail Stan!\n",
      "Nntp-Posting-Host: vaxa.isc.rit.edu\n",
      "Reply-To: rgv9488@ritvax.isc.rit.edu\n",
      "Organization: Rochester Institute of Technology\n",
      "Lines: 71\n",
      "\n",
      "\n",
      "    I found th\n",
      "第 4 条: From: jhan@debra.dgbt.doc.ca (Jerry Han)\n",
      "Subject: Overreacting (was Re: Once tapped, your code is no good any more)\n",
      "Nntp-Posting-Host: debra.dgbt.doc.ca\n",
      "Organization: Communications Research Centre, O\n",
      "第 5 条: From: boyle@cactus.org (Craig Boyle)\n",
      "Subject: Re: New break pads & exhausts after 96K km (60K mi) on '90 Maxima?\n",
      "Organization: Capital Area Central Texas UNIX Society, Austin, Tx\n",
      "Lines: 78\n",
      "\n",
      "In article\n",
      "第 6 条: From: rjc@hal.gnu.ai.mit.edu (Ray)\n",
      "Subject: Re: Once tapped, your code is no good any more.\n",
      "Distribution: na\n",
      "Organization: /etc/organization\n",
      "Lines: 27\n",
      "\n",
      "In article <C5pGFu.IA4@dscomsa.desy.de> hallam@z\n",
      "第 7 条: From: martijn@cs.vu.nl (Lemmens ML)\n",
      "Subject: Workgroups for Windows\n",
      "Organization: Fac. Wiskunde & Informatica, VU, Amsterdam\n",
      "Lines: 22\n",
      "\n",
      "Hello,\n",
      "\n",
      "I want a little network for 3 users. All users want to r\n",
      "第 8 条: From: jeremy@wildcat.npa.uiuc.edu (Jeremy Payne)\n",
      "Subject: Re: Xt intrinsics: slow popups\n",
      "Organization: Neuronal Pattern Analysis, University of Illinois\n",
      "Lines: 49\n",
      "\n",
      "In article <735516045.1507@minster.y\n",
      "第 9 条: From: alamut@netcom.com (Max Delysid (y!))\n",
      "Subject: Re: Rosicrucian Order(s) ?!\n",
      "Organization: Longinus Software & Garden ov Delights\n",
      "Lines: 27\n",
      "\n",
      "In article <1qppef$i5b@usenet.INS.CWRU.Edu> ch981@clevel\n",
      "第 10 条: From: wwerner@thor.mlb.semi.harris.com (William S. Werner)\n",
      "Subject: Harris Semiconductor's AnswerFAX Information\n",
      "Nntp-Posting-Host: thor.mlb.semi.harris.com\n",
      "Organization: Harris Semiconductor, Melbour\n"
     ]
    }
   ],
   "source": [
    "print('前十条新闻的每条的前200个字符：')\n",
    "for i in range(10):\n",
    "    print('第',i + 1,'条:',news_data.data[i][:200])"
   ]
  },
  {
   "cell_type": "markdown",
   "metadata": {},
   "source": [
    "前十条新闻后200个字符"
   ]
  },
  {
   "cell_type": "code",
   "execution_count": 9,
   "metadata": {},
   "outputs": [
    {
     "name": "stdout",
     "output_type": "stream",
     "text": [
      "前十条新闻的每条的后200个字符：\n",
      "第 1 条: he word of Jesus? Has somebody superseded\n",
      "the word of Jesus? If you don't follow the morality of the Ten\n",
      "Commandments and the Law and the Prophets and the word of Jesus, whose\n",
      "morality do you follow?\n",
      "\n",
      "第 2 条: Physics -- *The* Ohio State University\n",
      "(Not just any Ohio State University) \n",
      "\n",
      "\"There is only one hard-and-fast rule about the place to have a party:  \n",
      "somebody else's place.\"\n",
      "\t\t\t\t\t\t\t--P.J. O'Rourke\n",
      "\n",
      "\n",
      "\n",
      "第 3 条: -------------------------------| DIE!!\n",
      "    I AM DARKNESS ETERNAL! CALL ME! MY PHONE NUMBER IS (716) 475-4197   | DIE!!\n",
      "--------------------------------------------------------------------------------\n",
      "\n",
      "第 4 条: re my opinions, and my opinions only. \\\\\\\\\\\\\\\\\\\\\\\\\\\n",
      "\\\\\\\\\\\\\\\\\\ A proud and frozen member of the Mighty Warriors Band ////////  \n",
      "\"Memories of those I've left behind, still ringing in my ears.\"-Genesis-\n",
      "\n",
      "第 5 条: o not weave between traffic cones at road works.\"\n",
      ">                                    - from the new British Highway Code\n",
      ">                                           (Toronto Star April 3, 1993)\n",
      ">\n",
      "\n",
      "\n",
      "\n",
      "第 6 条: buses for accumulation of information on individuals. If you think\n",
      "credit companies are bad, ...  Well, I'm sure a democratic socialist society\n",
      "would vote for absolute privacy of all citizens -- NOT!\n",
      "\n",
      "第 7 条: \n",
      "- Is this possible?\n",
      "- What exactly are the possibilities and advantages of Workgroups\n",
      "  for Windows?\n",
      "- Will all the computers be fast enough? Behind all three, someone\n",
      "  is working.\n",
      "\n",
      "Thanks,\n",
      "Martijn\n",
      "\n",
      "第 8 条: ed deep enough to figure out exactly why though...\n",
      "\n",
      "---------------------------\n",
      "Jeremy Payne\n",
      "UIUC Neuroscience program /\n",
      "College of Medicine\n",
      "jrpayne@uiuc.edu\n",
      "(217)244-4478\n",
      "---------------------------\n",
      "\n",
      "第 9 条: ormation war, it is being fought now...\"\n",
      "<---|---> !MaX! Delysid - alamut@netcom.com - ALamutBBS 415.431.7541 1:125/51\n",
      "--->|<-------------------------------------------------------------------------\n",
      "\n",
      "\n",
      "第 10 条: Florida     \"....life is but a candle, and a \n",
      "(407)729-5515         dream will give it flame...\" - Rush, Caress of Steel\n",
      "===========================================================================\n",
      " \n",
      "\n",
      "\n"
     ]
    }
   ],
   "source": [
    "print('前十条新闻的每条的后200个字符：')\n",
    "for i in range(10):\n",
    "    print('第',i + 1,'条:',news_data.data[i][-200:])"
   ]
  },
  {
   "cell_type": "markdown",
   "metadata": {},
   "source": [
    "通过观察，文本内容前面还是比较统一的格式，而后面内容各不相同。"
   ]
  },
  {
   "cell_type": "markdown",
   "metadata": {},
   "source": [
    "各个种类新闻的数目"
   ]
  },
  {
   "cell_type": "code",
   "execution_count": 10,
   "metadata": {
    "collapsed": true
   },
   "outputs": [],
   "source": [
    "from collections import Counter\n",
    "news_cnt = Counter()\n",
    "for temp in news_data.target:\n",
    "    news_cnt[temp] += 1"
   ]
  },
  {
   "cell_type": "code",
   "execution_count": 11,
   "metadata": {},
   "outputs": [
    {
     "data": {
      "image/png": "[encoded data removed]",
      "text/plain": [
       "<matplotlib.figure.Figure at 0x1cda8b1b390>"
      ]
     },
     "metadata": {},
     "output_type": "display_data"
    }
   ],
   "source": [
    "import matplotlib as mpl\n",
    "import matplotlib.pyplot as plt\n",
    "import numpy as np\n",
    "def bar_of_target(cnt_1):\n",
    "    name_list = range(20)\n",
    "    num_list_1 = [cnt_1[x] for x in name_list]\n",
    "    #num_list_2 = [cnt_2[x] for x in name_list]\n",
    "\n",
    "    font_size = 10 # 字体大小\n",
    "    fig_size = (16, 6) # 图表大小\n",
    "\n",
    "    # 更新字体大小\n",
    "    mpl.rcParams['font.size'] = font_size\n",
    "    # 更新图表大小\n",
    "    mpl.rcParams['figure.figsize'] = fig_size\n",
    "    # 设置柱形图宽度\n",
    "    bar_width = 0.35\n",
    "\n",
    "    index = np.arange(20)\n",
    "    # 绘制 train\n",
    "    rects1 = plt.bar(index, num_list_1, bar_width, color='#0072BC', label='news count')\n",
    "    # 绘制 test\n",
    "    #rects2 = plt.bar(index + bar_width, num_list_2, bar_width, color='#ED1C24', label='test')\n",
    "    # X轴标题\n",
    "    plt.xticks(index, name_list)\n",
    "    # Y轴范围\n",
    "    #plt.ylim(ymax=100, ymin=0)\n",
    "    # 图表标题\n",
    "    plt.title('20news category')\n",
    "    # 图例显示在图表下方\n",
    "    plt.legend(loc='upper center', bbox_to_anchor=(0.5, -0.05), fancybox=True, ncol=5)\n",
    "\n",
    "    # 添加数据标签\n",
    "    def add_labels(rects):\n",
    "        for rect in rects:\n",
    "            height = rect.get_height()\n",
    "            plt.text(rect.get_x() + rect.get_width() / 2, height, height, ha='center', va='bottom')\n",
    "            # 柱形图边缘用白色填充，纯粹为了美观\n",
    "            rect.set_edgecolor('white')\n",
    "\n",
    "    add_labels(rects1)\n",
    "    #add_labels(rects2)\n",
    "\n",
    "    \n",
    "bar_of_target(news_cnt)"
   ]
  },
  {
   "cell_type": "markdown",
   "metadata": {},
   "source": [
    "由上图可见，首部和尾部类别的新闻数据稍微少一些，其他类别的新闻数据分布还是比较均匀的。总体来说，这些数据比较适合进行训练分类的。"
   ]
  },
  {
   "cell_type": "markdown",
   "metadata": {},
   "source": [
    "## 数据预处理"
   ]
  },
  {
   "cell_type": "markdown",
   "metadata": {},
   "source": [
    "分词处理"
   ]
  },
  {
   "cell_type": "code",
   "execution_count": 12,
   "metadata": {
    "collapsed": true
   },
   "outputs": [],
   "source": [
    "from nltk import word_tokenize\n",
    "news_tokens = [word_tokenize(temp) for temp in news_data.data]"
   ]
  },
  {
   "cell_type": "markdown",
   "metadata": {},
   "source": [
    "查看第一个新闻的分词结果：里面包含标点符号，特殊符号，数字，还有正常单词等。"
   ]
  },
  {
   "cell_type": "code",
   "execution_count": 13,
   "metadata": {},
   "outputs": [
    {
     "name": "stdout",
     "output_type": "stream",
     "text": [
      "['From', ':', 'pharvey', '@', 'quack.kfu.com', '(', 'Paul', 'Harvey', ')', 'Subject', ':', 'Re', ':', 'Clarification', 'of', 'personal', 'position', 'Organization', ':', 'The', 'Duck', 'Pond', 'public', 'unix', ':', '+1', '408', '249', '9630', ',', 'log', 'in', 'as', \"'guest\", \"'\", '.', 'Lines', ':', '26', 'In', 'article', '<', 'C5rBHt.Fw4', '@', 'athena.cs.uga.edu', '>', 'hudson', '@', 'athena.cs.uga.edu', '(', 'Paul', 'Hudson', 'Jr', ')', 'writes', ':', '>', 'In', 'article', '<', 'C5MuIw.AqC', '@', 'mailer.cc.fsu.edu', '>', 'dlecoint', '@', 'garnet.acns.fsu.edu', '(', 'Darius_Lecointe', ')', 'writes', ':', '>', '>', 'If', 'it', 'were', 'a', 'sin', 'to', 'violate', 'Sunday', 'no', 'one', 'could', '>', '>', 'ever', 'be', 'forgiven', 'for', 'that', 'for', 'Jesus', 'never', 'kept', 'Sunday', 'holy', '.', 'He', 'only', '>', '>', 'recognized', 'one', 'day', 'of', 'the', 'seven', 'as', 'holy', '.', '>', 'Jesus', 'also', 'recognized', 'other', 'holy', 'days', ',', 'like', 'the', 'Passover', '.', 'Acts', '15', 'says', '>', 'that', 'no', 'more', 'should', 'be', 'layed', 'on', 'the', 'Gentiles', 'than', 'that', 'which', 'is', 'necessary', '.', '>', 'The', 'sabbath', 'is', 'not', 'in', 'the', 'list', ',', 'nor', 'do', 'any', 'of', 'the', 'epistles', 'instruct', 'people', '>', 'to', 'keep', 'the', '7th', 'day', ',', 'while', 'Christians', 'were', 'living', 'among', 'people', 'who', 'did', 'not', '>', 'keep', 'the', '7th', 'day', '.', 'It', 'looks', 'like', 'that', 'would', 'have', 'been', 'a', 'problem', '.', '>', 'Instead', ',', 'we', 'have', 'Scriptures', 'telling', 'us', 'that', 'all', 'days', 'can', 'be', 'esteemed', 'alike', '>', '(', 'Romans', '14:5', ')', 'and', 'that', 'no', 'man', 'should', 'judge', 'us', 'in', 'regard', 'to', 'what', 'kind', 'of', '>', 'food', 'we', 'eat', ',', 'Jewish', 'holy', 'days', 'we', 'keep', ',', 'or', '_in', 'regard', 'to', 'the', 'sabbath', '.', '(', 'Col', '.', '2', '.', ')', '>', '>', 'The', '>', '>', 'question', 'is', '``', 'On', 'what', 'authority', 'do', 'we', 'proclaim', 'that', 'the', 'requirements', 'of', 'the', '>', '>', 'fourth', 'commandment', 'are', 'no', 'longer', 'relevant', 'to', 'modern', 'Christians', '?', \"''\", '>', 'I', 'do', \"n't\", 'think', 'that', 'the', 'Sabbath', ',', 'or', 'any', 'other', 'command', 'of', 'the', 'law', 'is', 'totally', '>', 'irrelevant', 'to', 'modern', 'Christians', ',', 'but', 'what', 'about', 'Collosions', '2', ',', 'where', 'it', 'says', '>', 'that', 'we', 'are', 'not', 'to', 'be', 'judged', 'in', 'regard', 'to', 'the', 'keeping', 'of', 'the', 'sabbath', '?', 'Why', 'are', 'you', 'running', 'away', 'from', 'the', 'word', 'of', 'Jesus', '?', 'Has', 'somebody', 'superseded', 'the', 'word', 'of', 'Jesus', '?', 'If', 'you', 'do', \"n't\", 'follow', 'the', 'morality', 'of', 'the', 'Ten', 'Commandments', 'and', 'the', 'Law', 'and', 'the', 'Prophets', 'and', 'the', 'word', 'of', 'Jesus', ',', 'whose', 'morality', 'do', 'you', 'follow', '?']\n"
     ]
    }
   ],
   "source": [
    "print(news_tokens[0])"
   ]
  },
  {
   "cell_type": "markdown",
   "metadata": {},
   "source": [
    "查看原始数据中不同单词构成的词典长度：可以观察到词典长度比较大。"
   ]
  },
  {
   "cell_type": "code",
   "execution_count": 14,
   "metadata": {
    "collapsed": true
   },
   "outputs": [],
   "source": [
    "def get_dict_cnt(tokens):\n",
    "    dict_cnt = Counter()\n",
    "    for temp_list in tokens:\n",
    "        for temp in temp_list:\n",
    "            dict_cnt[temp] += 1\n",
    "    return dict_cnt"
   ]
  },
  {
   "cell_type": "code",
   "execution_count": 15,
   "metadata": {},
   "outputs": [
    {
     "name": "stdout",
     "output_type": "stream",
     "text": [
      "285782\n"
     ]
    }
   ],
   "source": [
    "news_dict_cnt = get_dict_cnt(news_tokens)\n",
    "print(len(news_dict_cnt))"
   ]
  },
  {
   "cell_type": "markdown",
   "metadata": {},
   "source": [
    "输出词典最多的前20个词汇："
   ]
  },
  {
   "cell_type": "code",
   "execution_count": 16,
   "metadata": {},
   "outputs": [
    {
     "data": {
      "image/png": "[encoded data removed]",
      "text/plain": [
       "<matplotlib.figure.Figure at 0x1cdc2d172e8>"
      ]
     },
     "metadata": {},
     "output_type": "display_data"
    }
   ],
   "source": [
    "def bar_of_news_dict(cnt):\n",
    "    name_list = []\n",
    "    num_list = []\n",
    "    for key,value in cnt.most_common(20):\n",
    "        name_list.append(key)\n",
    "        num_list.append(value)\n",
    "\n",
    "    font_size = 10 # 字体大小\n",
    "    fig_size = (16, 6) # 图表大小\n",
    "\n",
    "    # 更新字体大小\n",
    "    mpl.rcParams['font.size'] = font_size\n",
    "    # 更新图表大小\n",
    "    mpl.rcParams['figure.figsize'] = fig_size\n",
    "    # 设置柱形图宽度\n",
    "    bar_width = 0.35\n",
    "\n",
    "    index = np.arange(20)\n",
    "    # 绘制 train\n",
    "    rects = plt.bar(index, num_list, bar_width, color='#0072BC')\n",
    "    # X轴标题\n",
    "    plt.xticks(index, name_list)\n",
    "    # Y轴范围\n",
    "    #plt.ylim(ymax=100, ymin=0)\n",
    "    # 图表标题\n",
    "    plt.title('news dict top 20')\n",
    "    # 图例显示在图表下方\n",
    "    #plt.legend(loc='upper center', bbox_to_anchor=(0.5, -0.05), fancybox=True, ncol=5)\n",
    "\n",
    "    # 添加数据标签\n",
    "    def add_labels(rects):\n",
    "        for rect in rects:\n",
    "            height = rect.get_height()\n",
    "            plt.text(rect.get_x() + rect.get_width() / 2, height, height, ha='center', va='bottom')\n",
    "            # 柱形图边缘用白色填充，纯粹为了美观\n",
    "            rect.set_edgecolor('white')\n",
    "\n",
    "    add_labels(rects)\n",
    "\n",
    "    \n",
    "bar_of_news_dict(news_dict_cnt)"
   ]
  },
  {
   "cell_type": "markdown",
   "metadata": {},
   "source": [
    "可以看出：出现频率高的很多都是标点符号等这些没有实际意义的字符。下面进行预处理："
   ]
  },
  {
   "cell_type": "markdown",
   "metadata": {},
   "source": [
    "首先，我们观察到除了标点符号和介词，连词等这些功能性词汇，还有一个'AX单词出现频率很高。下面探索该词出现频率高的原因："
   ]
  },
  {
   "cell_type": "markdown",
   "metadata": {},
   "source": [
    "打印出'AX单词所在的文档和位置"
   ]
  },
  {
   "cell_type": "code",
   "execution_count": 17,
   "metadata": {},
   "outputs": [
    {
     "name": "stdout",
     "output_type": "stream",
     "text": [
      "[(1474, 457), (2637, 220), (3525, 21870), (3615, 11393), (3975, 316), (4197, 53953), (10720, 42951), (12034, 219), (12138, 4212), (12500, 288), (12528, 380), (12761, 31743), (12838, 222), (15826, 18366), (16571, 268), (16640, 35153), (18720, 428)]\n"
     ]
    }
   ],
   "source": [
    "ax_list = []\n",
    "for i in range(len(news_data.data)):\n",
    "    temp = news_data.data[i]\n",
    "    ax_index = temp.find('\\'AX')\n",
    "    if ax_index > -1:\n",
    "        ax_list.append((i,ax_index))\n",
    "\n",
    "print(ax_list)"
   ]
  },
  {
   "cell_type": "markdown",
   "metadata": {},
   "source": [
    "观察其上下文"
   ]
  },
  {
   "cell_type": "code",
   "execution_count": 18,
   "metadata": {},
   "outputs": [
    {
     "name": "stdout",
     "output_type": "stream",
     "text": [
      "第 1474 条： `]G9S2+[>WM4QD]F0->7EXJWZ5F,8>'AX>'AX>'\n",
      "MAX>'AX>'AX>'AX>'AX>\n",
      "第 2637 条： Part 8 of 14 ------------\n",
      "MAX>'AX>'AX>'AX>'AYZ>8=#0T\"L!A%(!*\n",
      "第 3525 条： 5%14?%6\\5K15O\n",
      "M;V\\5;ZBH;V^H;ZB'AX<J*BHJN[N[N[LJNRHJ*BHJ*BHJ*\n",
      "第 3615 条： ICNL'6C!TQ\"Q\n",
      "ML;E#K/&DFGPLQWTL'AXL71XU+'UT?;I=?;K\"NGVZNB;\"LL\n",
      "第 3975 条： 3T]F9F9`P,#7EY>NRIZWT='I0MFQ#&'AX>'AX>'AX>'AX>'AX>'AX>'\n",
      "MAX>\n",
      "第 4197 条： \"0Z[81M4KL&Q#?#RFDE9; /$)SZ PW'AX*T=$5)1[%7;@#(@\n",
      "MP5P1.P\"!X<\n",
      "第 10720 条： XCM.E>#CZXN'W[S4T ?/W#VO+_--K#'AX6K.G\n",
      "ME\\ >ISURL#]RT[+;NP -?\n",
      "第 12034 条： South Dakota\n",
      "Lines: 958\n",
      "\n",
      "\n",
      "MAX>'AX>'AX>'AX>'AX>'AX>'AX>'AX>'A\n",
      "第 12138 条： H_QCR6/\\?'Q\\?%'24E1\n",
      "M484G-\"=M;'AX>'AX>#$))VQ1<(5P0G!\"A6$D \"0\n",
      "第 12500 条： EI:6E1T='1Z4+I:5'1Z4+\n",
      "M\"V;$Q#&'AX>'AX>'AX>'AX>'AX>'AX>'AX>'A\n",
      "第 12528 条： 3T]/9F9F0->7KN[N[N[7EX#`P.9F9F'AX>'AX>'AX>'AX>'AX>'\n",
      "MAX>'AX>\n",
      "第 12761 条：  XOY>GLN\n",
      "M/->Q3XP93'HTV:KF<$.J'AX)V'9<4:\"F!/&;.'[/$\\;L/X9,^:\n",
      "第 12838 条： art 12 of 14 ------------\n",
      "MAX>'AX>'AX>'AX>'AX>'AX>'AX>'AX>'A\n",
      "第 15826 条： )KJR\n",
      "MNG2ZNKI]=%U]7;I=71X>'GW\"'AX>NBQ=-7TU770L+\"P>?7W''GTUQ\\\n",
      "第 16571 条： 7;UG)\\&V0&>*YZ>*W5&$'Z]M;T0AX>'AX>'AX>'\n",
      "MAX=7HLAL(;7(5U\\,MEI\n",
      "第 16640 条： ='TU-71]?2P>++\\L+'T>\n",
      "M-71]-34L'AXL+\"PL-2R_+\"R_QS7'+,?'QRR_:3\n",
      "第 18720 条： 'I:6E\n",
      "MI4='I:6E\"PL+\"V9FQ,0Q,8>'AX>'AX>'AX>'AX>'AX>'AX>'AX>'A\n"
     ]
    }
   ],
   "source": [
    "for temp in ax_list:\n",
    "    a1 = temp[0]\n",
    "    b1 = temp[1]\n",
    "    print('第',a1,'条：',news_data.data[a1][b1-30:b1+30])"
   ]
  },
  {
   "cell_type": "markdown",
   "metadata": {},
   "source": [
    "通过观察，我们发现，'AX会连续大量出现，但是没有实际的意义。在下面处理时，将其进行去除。"
   ]
  },
  {
   "cell_type": "markdown",
   "metadata": {},
   "source": [
    "去掉符号，数字等；去掉剩余的单个字母；去掉'AX"
   ]
  },
  {
   "cell_type": "code",
   "execution_count": 19,
   "metadata": {
    "collapsed": true
   },
   "outputs": [],
   "source": [
    "import re\n",
    "def data_clean(text):\n",
    "    text = text.replace('\\n',\" \") #删掉空行 \n",
    "    text = text.replace('\\'AX',\" \") #删掉'AX \n",
    "    text = re.sub(r\"-\", \" \", text) #把 \"-\" 的单词分为两个\n",
    "    text = re.sub(r\"\\d+/\\d+/\\d+\", \"\", text) #删掉日期  \n",
    "    text = re.sub(r\"[0-2]?[0-9]:[0-6][0-9]\", \"\", text) #删掉时间  \n",
    "    text = re.sub(r\"[\\.\\w]+@[\\.\\w]+\", \"\", text) #删掉邮箱地址  \n",
    "    text = re.sub(r\"http[s]?://(?:[a-zA-Z]|[0-9]|[$-_@.&+]|[!*,]|(?:%[0-9a-fA-F][0-9a-fA-F]))+\", \"\", text) #删掉网址  \n",
    "    pure_text = ''  \n",
    "    # 删掉特殊字符（数字）等等\n",
    "    for letter in text:  \n",
    "        # 只留下字母和空格 \n",
    "        if letter.isalpha() or letter==' ':  \n",
    "            pure_text += letter\n",
    "        else:\n",
    "            pure_text += ' '\n",
    "    #去掉单个字母\n",
    "    text = ' '.join(word for word in pure_text.split() if len(word)>1) \n",
    "    return text\n",
    "\n",
    "news_data_clean = [data_clean(temp) for temp in news_data.data]\n",
    "\n",
    "news_tokens = [word_tokenize(temp) for temp in news_data_clean]"
   ]
  },
  {
   "cell_type": "code",
   "execution_count": 20,
   "metadata": {},
   "outputs": [
    {
     "name": "stdout",
     "output_type": "stream",
     "text": [
      "135921\n"
     ]
    }
   ],
   "source": [
    "news_dict_cnt = get_dict_cnt(news_tokens)\n",
    "print(len(news_dict_cnt))"
   ]
  },
  {
   "cell_type": "code",
   "execution_count": 21,
   "metadata": {},
   "outputs": [
    {
     "data": {
      "image/png": "[encoded data removed]",
      "text/plain": [
       "<matplotlib.figure.Figure at 0x1cdc2d5ec88>"
      ]
     },
     "metadata": {},
     "output_type": "display_data"
    }
   ],
   "source": [
    "bar_of_news_dict(news_dict_cnt)"
   ]
  },
  {
   "cell_type": "markdown",
   "metadata": {},
   "source": [
    "词典长度已经明显缩小，频率最高的前20个词汇也变为非字符的了，并且'AX也被去掉了。"
   ]
  },
  {
   "cell_type": "markdown",
   "metadata": {},
   "source": [
    "单词转小写"
   ]
  },
  {
   "cell_type": "code",
   "execution_count": 22,
   "metadata": {},
   "outputs": [
    {
     "name": "stdout",
     "output_type": "stream",
     "text": [
      "106755\n"
     ]
    }
   ],
   "source": [
    "news_tokens = [word_tokenize(temp.lower()) for temp in news_data_clean]\n",
    "news_dict_cnt = get_dict_cnt(news_tokens)\n",
    "print(len(news_dict_cnt))"
   ]
  },
  {
   "cell_type": "markdown",
   "metadata": {},
   "source": [
    "去掉停用词，使用nltk停用词语料库"
   ]
  },
  {
   "cell_type": "code",
   "execution_count": 23,
   "metadata": {},
   "outputs": [
    {
     "name": "stdout",
     "output_type": "stream",
     "text": [
      "['i', 'me', 'my', 'myself', 'we', 'our', 'ours', 'ourselves', 'you', \"you're\", \"you've\", \"you'll\", \"you'd\", 'your', 'yours', 'yourself', 'yourselves', 'he', 'him', 'his', 'himself', 'she', \"she's\", 'her', 'hers', 'herself', 'it', \"it's\", 'its', 'itself', 'they', 'them', 'their', 'theirs', 'themselves', 'what', 'which', 'who', 'whom', 'this', 'that', \"that'll\", 'these', 'those', 'am', 'is', 'are', 'was', 'were', 'be', 'been', 'being', 'have', 'has', 'had', 'having', 'do', 'does', 'did', 'doing', 'a', 'an', 'the', 'and', 'but', 'if', 'or', 'because', 'as', 'until', 'while', 'of', 'at', 'by', 'for', 'with', 'about', 'against', 'between', 'into', 'through', 'during', 'before', 'after', 'above', 'below', 'to', 'from', 'up', 'down', 'in', 'out', 'on', 'off', 'over', 'under', 'again', 'further', 'then', 'once', 'here', 'there', 'when', 'where', 'why', 'how', 'all', 'any', 'both', 'each', 'few', 'more', 'most', 'other', 'some', 'such', 'no', 'nor', 'not', 'only', 'own', 'same', 'so', 'than', 'too', 'very', 's', 't', 'can', 'will', 'just', 'don', \"don't\", 'should', \"should've\", 'now', 'd', 'll', 'm', 'o', 're', 've', 'y', 'ain', 'aren', \"aren't\", 'couldn', \"couldn't\", 'didn', \"didn't\", 'doesn', \"doesn't\", 'hadn', \"hadn't\", 'hasn', \"hasn't\", 'haven', \"haven't\", 'isn', \"isn't\", 'ma', 'mightn', \"mightn't\", 'mustn', \"mustn't\", 'needn', \"needn't\", 'shan', \"shan't\", 'shouldn', \"shouldn't\", 'wasn', \"wasn't\", 'weren', \"weren't\", 'won', \"won't\", 'wouldn', \"wouldn't\"]\n"
     ]
    }
   ],
   "source": [
    "from nltk.corpus import stopwords\n",
    "stopwords_list = stopwords.words('english')\n",
    "print(stopwords_list)"
   ]
  },
  {
   "cell_type": "code",
   "execution_count": 24,
   "metadata": {
    "collapsed": true
   },
   "outputs": [],
   "source": [
    "news_tokens_stopwords = [[temp for temp in temp_list if stopwords_list.count(temp) == 0]for temp_list in news_tokens]"
   ]
  },
  {
   "cell_type": "code",
   "execution_count": 25,
   "metadata": {},
   "outputs": [
    {
     "name": "stdout",
     "output_type": "stream",
     "text": [
      "106611\n"
     ]
    }
   ],
   "source": [
    "news_dict_cnt = get_dict_cnt(news_tokens_stopwords)\n",
    "print(len(news_dict_cnt))"
   ]
  },
  {
   "cell_type": "code",
   "execution_count": 26,
   "metadata": {},
   "outputs": [
    {
     "data": {
      "image/png": "[encoded data removed]",
      "text/plain": [
       "<matplotlib.figure.Figure at 0x1cdc2da5358>"
      ]
     },
     "metadata": {},
     "output_type": "display_data"
    }
   ],
   "source": [
    "bar_of_news_dict(news_dict_cnt)"
   ]
  },
  {
   "cell_type": "markdown",
   "metadata": {},
   "source": [
    "可以看出：出现频率高的介词（“over”，“under”，“above”），还有限定词（“the”、“a”、“an”、“that”、和“those”）等已经被去掉。这些词汇没有实际意义。"
   ]
  },
  {
   "cell_type": "markdown",
   "metadata": {},
   "source": [
    "同一词（如单复数）的统一"
   ]
  },
  {
   "cell_type": "code",
   "execution_count": 27,
   "metadata": {},
   "outputs": [
    {
     "name": "stdout",
     "output_type": "stream",
     "text": [
      "['lie', 'have', 'woman', 'shoe']\n"
     ]
    }
   ],
   "source": [
    "from nltk.stem.wordnet import WordNetLemmatizer  \n",
    "from nltk import pos_tag\n",
    "#词形还原  \n",
    "def lemmatize(token, tag):  \n",
    "    if tag[0].lower() in ['n','v']:  \n",
    "        return lemmatizer.lemmatize(token, tag[0].lower())  \n",
    "    return token\n",
    "lemmatizer = WordNetLemmatizer()\n",
    "print([lemmatize(token, tag) for token, tag in pos_tag(['lying','had','women','shoes'])])"
   ]
  },
  {
   "cell_type": "code",
   "execution_count": 28,
   "metadata": {},
   "outputs": [
    {
     "name": "stdout",
     "output_type": "stream",
     "text": [
      "98181\n"
     ]
    }
   ],
   "source": [
    "news_tokens_tagged_corpus = [pos_tag(temp) for temp in news_tokens_stopwords]\n",
    "news_tokens_lemmatize = [[lemmatize(token, tag) for token, tag in temp] for temp in news_tokens_tagged_corpus]\n",
    "\n",
    "news_dict_cnt = get_dict_cnt(news_tokens_lemmatize)\n",
    "print(len(news_dict_cnt))"
   ]
  },
  {
   "cell_type": "code",
   "execution_count": 29,
   "metadata": {},
   "outputs": [
    {
     "data": {
      "image/png": "[encoded data removed]",
      "text/plain": [
       "<matplotlib.figure.Figure at 0x1cdc3594630>"
      ]
     },
     "metadata": {},
     "output_type": "display_data"
    }
   ],
   "source": [
    "bar_of_news_dict(news_dict_cnt)"
   ]
  },
  {
   "cell_type": "markdown",
   "metadata": {},
   "source": [
    "分析比较预处理过程，词典长度变化："
   ]
  },
  {
   "cell_type": "markdown",
   "metadata": {},
   "source": [
    "| 处理步骤 \t|  开始  \t| 数据清理 \t| 转小写 \t| 去掉停用词 \t| 同一词统一 \t|\n",
    "|:--------:\t|:------:\t|:--------:\t|:------:\t|:----------:\t|:----------:\t|\n",
    "| 词典长度 \t| 285782 \t|  135921  \t|  106755 \t|    106611   \t|    98181   \t|"
   ]
  },
  {
   "cell_type": "markdown",
   "metadata": {},
   "source": [
    "可以看出，经过预处理，词典长度逐渐降低了。有效的达到了降维的目的。"
   ]
  },
  {
   "cell_type": "markdown",
   "metadata": {},
   "source": [
    "## 模型分析"
   ]
  },
  {
   "cell_type": "markdown",
   "metadata": {},
   "source": [
    "数据划分，将数据集划分为80%的训练数据，20%的测试数据；再将训练数据划分为80%的训练数据和20%的验证数据。最终划分结果为12060条训练数据，3016条验证数据，3770条测试数据。"
   ]
  },
  {
   "cell_type": "code",
   "execution_count": 30,
   "metadata": {},
   "outputs": [
    {
     "name": "stdout",
     "output_type": "stream",
     "text": [
      "Training set has 12060 samples.\n",
      "Validation set has 3016 samples.\n",
      "Testing set has 3770 samples. \n",
      "\n",
      "Training set has 12060 labels.\n",
      "Validation set has 3016 labels.\n",
      "Testing set has 3770 labels.\n"
     ]
    }
   ],
   "source": [
    "# 导入 train_test_split\n",
    "from sklearn.model_selection import train_test_split\n",
    "# 将20news数据切分成训练集和测试集\n",
    "X_train, X_test, y_train, y_test = train_test_split(news_tokens_lemmatize, news_data.target, test_size = 0.2, random_state = 0,\n",
    "                                                    stratify = news_data.target)\n",
    "# 将'X_train'和'y_train'进一步切分为训练集和验证集\n",
    "X_train, X_val, y_train, y_val = train_test_split(X_train, y_train, test_size=0.2, random_state=0,\n",
    "                                                    stratify = y_train)\n",
    "\n",
    "# 显示切分的结果\n",
    "print(\"Training set has {} samples.\".format(len(X_train)))\n",
    "print(\"Validation set has {} samples.\".format(len(X_val)))\n",
    "print(\"Testing set has {} samples.\".format(len(X_test)),'\\n')\n",
    "\n",
    "print(\"Training set has {} labels.\".format(len(y_train)))\n",
    "print(\"Validation set has {} labels.\".format(len(y_val)))\n",
    "print(\"Testing set has {} labels.\".format(len(y_test)))"
   ]
  },
  {
   "cell_type": "markdown",
   "metadata": {},
   "source": [
    "保存预处理的数据"
   ]
  },
  {
   "cell_type": "code",
   "execution_count": 31,
   "metadata": {
    "collapsed": true
   },
   "outputs": [],
   "source": [
    "X_train_content = [' '.join(temp_list) for temp_list in X_train]\n",
    "X_val_content = [' '.join(temp_list) for temp_list in X_val]\n",
    "X_test_content = [' '.join(temp_list) for temp_list in X_test]"
   ]
  },
  {
   "cell_type": "code",
   "execution_count": 32,
   "metadata": {
    "collapsed": true
   },
   "outputs": [],
   "source": [
    "np.save(\"X_train_content.npy\", X_train_content)\n",
    "np.save(\"X_val_content.npy\", X_val_content)\n",
    "np.save(\"X_test_content.npy\", X_test_content)\n",
    "\n",
    "np.save(\"y_train.npy\", y_train)\n",
    "np.save(\"y_val.npy\", y_val)\n",
    "np.save(\"y_test.npy\", y_test)"
   ]
  },
  {
   "cell_type": "markdown",
   "metadata": {},
   "source": [
    "### 不使用任何模型，随机进行预测"
   ]
  },
  {
   "cell_type": "markdown",
   "metadata": {},
   "source": [
    "加载测试数据集"
   ]
  },
  {
   "cell_type": "code",
   "execution_count": 33,
   "metadata": {},
   "outputs": [
    {
     "name": "stdout",
     "output_type": "stream",
     "text": [
      "前50个测试集结果为 [ 8 18  2 10 15 14  5  7 18 19 15 16 10 13 10 10 11  4 13  3 13 16  3 16\n",
      " 11 15  2  7  1  4  9  5  8 13 13  1 15  6 13  3 17 17 16  6 14 15  4 14\n",
      " 12  1]\n"
     ]
    }
   ],
   "source": [
    "import numpy as np\n",
    "y_test = np.load(\"y_test.npy\")\n",
    "print('前50个测试集结果为',y_test[:50])"
   ]
  },
  {
   "cell_type": "markdown",
   "metadata": {},
   "source": [
    "使用随机分类结果进行预测"
   ]
  },
  {
   "cell_type": "code",
   "execution_count": 34,
   "metadata": {},
   "outputs": [
    {
     "name": "stdout",
     "output_type": "stream",
     "text": [
      "前50个预测结果为 [17  9  0  9  7 16 12  0 13 10  4 18  9 10  7 17  5 14 11  2 13  9 17 12\n",
      "  6  0  3  4  4  0  6 17 13 13  6  0  2  9  5 17 17  3  1  6  6 15 16 18\n",
      " 10  6]\n"
     ]
    }
   ],
   "source": [
    "predictions_val = np.random.randint(0,19,np.shape(y_test))\n",
    "print('前50个预测结果为',predictions_val[:50])"
   ]
  },
  {
   "cell_type": "code",
   "execution_count": 35,
   "metadata": {},
   "outputs": [
    {
     "name": "stdout",
     "output_type": "stream",
     "text": [
      "acc_val:0.054\n"
     ]
    }
   ],
   "source": [
    "from sklearn.metrics import fbeta_score, accuracy_score, log_loss\n",
    "# 计算准确率\n",
    "acc_val = accuracy_score(y_test,predictions_val)\n",
    "print('acc_val:{0:.3f}'.format(acc_val))"
   ]
  },
  {
   "cell_type": "markdown",
   "metadata": {},
   "source": [
    "因为我们有20个分类，如果随机猜测的话，准确率大约为1/20，也就是5%，在这里我们得到准确率为0.054，和5%很接近。"
   ]
  },
  {
   "cell_type": "markdown",
   "metadata": {},
   "source": [
    "| 模型预测 | 随机猜测 | 基准模型 |\n",
    "|:--------:|:--------:|:--------:|\n",
    "|  准确率  |   5.4%   |    90%   |"
   ]
  },
  {
   "cell_type": "markdown",
   "metadata": {},
   "source": [
    "随机猜测结果与我们的基准模型的目标90%相差甚远，下面进行词袋子模型的探索"
   ]
  },
  {
   "cell_type": "markdown",
   "metadata": {},
   "source": [
    "### 词袋子模型"
   ]
  },
  {
   "cell_type": "markdown",
   "metadata": {},
   "source": [
    "加载预处理的数据"
   ]
  },
  {
   "cell_type": "code",
   "execution_count": 36,
   "metadata": {
    "collapsed": true
   },
   "outputs": [],
   "source": [
    "import numpy as np\n",
    "X_train_content = np.load(\"X_train_content.npy\")\n",
    "X_val_content = np.load(\"X_val_content.npy\")\n",
    "X_test_content = np.load(\"X_test_content.npy\")\n",
    "\n",
    "y_train = np.load(\"y_train.npy\")\n",
    "y_val = np.load(\"y_val.npy\")\n",
    "y_test = np.load(\"y_test.npy\")"
   ]
  },
  {
   "cell_type": "markdown",
   "metadata": {},
   "source": [
    "使用CountVectorizer进行文本特征提取"
   ]
  },
  {
   "cell_type": "code",
   "execution_count": 37,
   "metadata": {},
   "outputs": [
    {
     "name": "stdout",
     "output_type": "stream",
     "text": [
      "train shape: (12060, 76478)\n",
      "val shape: (3016, 76478)\n",
      "vocabulary length: 76478\n"
     ]
    }
   ],
   "source": [
    "from sklearn.feature_extraction.text import CountVectorizer\n",
    "count_train = CountVectorizer(analyzer='word')\n",
    "X_train_counts = count_train.fit_transform(X_train_content)\n",
    "print('train shape:',X_train_counts.shape)\n",
    "X_val_counts = count_train.transform(X_val_content)\n",
    "print('val shape:',X_val_counts.shape)\n",
    "print('vocabulary length:',len(count_train.vocabulary_))"
   ]
  },
  {
   "cell_type": "markdown",
   "metadata": {},
   "source": [
    "模型评估"
   ]
  },
  {
   "cell_type": "code",
   "execution_count": 38,
   "metadata": {
    "collapsed": true
   },
   "outputs": [],
   "source": [
    "from sklearn.metrics import fbeta_score, accuracy_score, log_loss\n",
    "from time import time\n",
    "from sklearn.externals import joblib\n",
    "# 通过init_flag控制模型是新模型还是加载本地保存的模型\n",
    "def sklearn_train_predict(learner,X_train,y_train,X_val,y_val,init_flag,clf_name):\n",
    "    if init_flag:#需要训练，训练后保存模型\n",
    "        start = time() # 获得程序开始时间\n",
    "        learner.fit(X_train, y_train)\n",
    "        end = time() # 获得程序结束时间\n",
    "        # 计算训练时间\n",
    "        print('train_time:',round(end - start, 3),\"s\")\n",
    "        joblib.dump(learner, clf_name)\n",
    "    else:#不需要训练，直接加载已有模型\n",
    "        learner = joblib.load(clf_name)\n",
    "    \n",
    "    # 得到在验证集上的预测值\n",
    "    start = time() # 获得程序开始时间\n",
    "    predictions_val = learner.predict(X_val)\n",
    "    predict_proba_val = learner.predict_proba(X_val)\n",
    "    end = time() # 获得程序结束时间\n",
    "    \n",
    "    # 计算预测用时\n",
    "    print('pred_time:',round(end - start, 3),\"s\")\n",
    "        \n",
    "    # 计算在验证上的准确率\n",
    "    acc_val = accuracy_score(y_val,predictions_val)\n",
    "    print('acc_val:{0:.3f}'.format(acc_val))\n",
    "    \n",
    "    # 计算在验证上的log_loss\n",
    "    log_loss_val = log_loss(y_val,predict_proba_val)\n",
    "    print('log_loss_val:{0:.3f}'.format(log_loss_val))"
   ]
  },
  {
   "cell_type": "code",
   "execution_count": 39,
   "metadata": {},
   "outputs": [
    {
     "name": "stdout",
     "output_type": "stream",
     "text": [
      "DecisionTreeClassifier:\n",
      "train_time: 15.733 s\n",
      "pred_time: 0.008 s\n",
      "acc_val:0.647\n",
      "log_loss_val:12.185\n",
      "SVC:\n",
      "train_time: 364.056 s\n",
      "pred_time: 42.946 s\n",
      "acc_val:0.851\n",
      "log_loss_val:0.579\n",
      "MultinomialNB:\n",
      "train_time: 0.093 s\n",
      "pred_time: 0.029 s\n",
      "acc_val:0.873\n",
      "log_loss_val:1.848\n"
     ]
    }
   ],
   "source": [
    "# 从sklearn中导入三个分类模型\n",
    "from sklearn.tree import DecisionTreeClassifier\n",
    "from sklearn.svm import SVC\n",
    "from sklearn.naive_bayes import MultinomialNB\n",
    "# 初始化三个模型\n",
    "clf_A = DecisionTreeClassifier()\n",
    "clf_B = SVC(kernel = 'linear',probability=True)\n",
    "clf_C = MultinomialNB()\n",
    "init_flag = True #是否进行训练\n",
    "#进行训练评估\n",
    "print('DecisionTreeClassifier:')\n",
    "sklearn_train_predict(clf_A,X_train_counts,y_train,X_val_counts,y_val,init_flag,'cv_dtc.pkl')\n",
    "print('SVC:')\n",
    "sklearn_train_predict(clf_B,X_train_counts,y_train,X_val_counts,y_val,init_flag,'cv_svc.pkl')\n",
    "print('MultinomialNB:')\n",
    "sklearn_train_predict(clf_C,X_train_counts,y_train,X_val_counts,y_val,init_flag,'cv_mnb.pkl')"
   ]
  },
  {
   "cell_type": "markdown",
   "metadata": {},
   "source": [
    "使用TfidfVectorizer进行文本特征提取"
   ]
  },
  {
   "cell_type": "code",
   "execution_count": 40,
   "metadata": {},
   "outputs": [
    {
     "name": "stdout",
     "output_type": "stream",
     "text": [
      "train shape: (12060, 76478)\n",
      "val shape: (3016, 76478)\n",
      "vocabulary length: 76478\n"
     ]
    }
   ],
   "source": [
    "from sklearn.feature_extraction.text import TfidfVectorizer\n",
    "tfief_train = TfidfVectorizer(analyzer='word')\n",
    "X_train_tfief = tfief_train.fit_transform(X_train_content)\n",
    "print('train shape:',X_train_tfief.shape)\n",
    "X_val_tfief = tfief_train.transform(X_val_content)\n",
    "print('val shape:',X_val_tfief.shape)\n",
    "print('vocabulary length:',len(tfief_train.vocabulary_))"
   ]
  },
  {
   "cell_type": "code",
   "execution_count": 41,
   "metadata": {},
   "outputs": [
    {
     "name": "stdout",
     "output_type": "stream",
     "text": [
      "DecisionTreeClassifier:\n",
      "train_time: 19.256 s\n",
      "pred_time: 0.014 s\n",
      "acc_val:0.627\n",
      "log_loss_val:12.883\n",
      "SVC:\n",
      "train_time: 749.375 s\n",
      "pred_time: 56.144 s\n",
      "acc_val:0.907\n",
      "log_loss_val:0.298\n",
      "MultinomialNB:\n",
      "train_time: 0.096 s\n",
      "pred_time: 0.026 s\n",
      "acc_val:0.873\n",
      "log_loss_val:0.956\n"
     ]
    }
   ],
   "source": [
    "# 初始化三个模型\n",
    "clf_A = DecisionTreeClassifier()\n",
    "clf_B = SVC(kernel = 'linear',probability=True)\n",
    "clf_C = MultinomialNB()\n",
    "init_flag = True #是否进行训练\n",
    "#进行训练评估\n",
    "print('DecisionTreeClassifier:')\n",
    "sklearn_train_predict(clf_A, X_train_tfief, y_train, X_val_tfief, y_val,init_flag,'tfid_dtc.pkl')\n",
    "print('SVC:')\n",
    "sklearn_train_predict(clf_B, X_train_tfief, y_train, X_val_tfief, y_val,init_flag,'tfid_svc.pkl')\n",
    "print('MultinomialNB:')\n",
    "sklearn_train_predict(clf_C, X_train_tfief, y_train, X_val_tfief, y_val,init_flag,'tfid_mnb.pkl')"
   ]
  },
  {
   "cell_type": "markdown",
   "metadata": {},
   "source": [
    "文本特征提取对比"
   ]
  },
  {
   "cell_type": "markdown",
   "metadata": {},
   "source": [
    "|  模型预测准确率 | DecisionTreeClassifier |  SVC  | MultinomialNB |\n",
    "|:---------------:|:----------------------:|:-----:|:-------------:|\n",
    "| CountVectorizer |          0.647         | 0.851 |     0.873     |\n",
    "| TfidfVectorizer |          0.627         | 0.907 |     0.873     |"
   ]
  },
  {
   "cell_type": "markdown",
   "metadata": {},
   "source": [
    "|  模型预测log_loss | DecisionTreeClassifier |  SVC  | MultinomialNB |\n",
    "|:---------------:|:----------------------:|:-----:|:-------------:|\n",
    "| CountVectorizer |          12.185        | 0.579 |     1.848     |\n",
    "| TfidfVectorizer |          12.883        | 0.298 |     0.956     |"
   ]
  },
  {
   "cell_type": "markdown",
   "metadata": {},
   "source": [
    "通过对比分析：模型在决策树分类器上表现不佳；在支持向量机分类器和朴素贝叶斯分类器上表现不错。总体来说，使用TfidfVectorizer进行文本特征提取，准确率有所提升，log loss有所下降。并且在支持向量机分类器上表现很不错，准确率达到了0.907，而log loss降到了0.298，表现不错。"
   ]
  },
  {
   "cell_type": "markdown",
   "metadata": {},
   "source": [
    "模型调优"
   ]
  },
  {
   "cell_type": "code",
   "execution_count": 42,
   "metadata": {},
   "outputs": [
    {
     "name": "stdout",
     "output_type": "stream",
     "text": [
      "grid train_time: 15606.576 s\n",
      "Unoptimized model\n",
      "------\n",
      "Accuracy score on validation data: 0.9075\n",
      "Log_loss_val on the validation data: 0.2967\n",
      "\n",
      "Optimized Model\n",
      "------\n",
      "Final accuracy score on the validation data: 0.9168\n",
      "Final log_loss_val on the validation data: 0.2967\n",
      "Final best_params_: {'C': 10.0}\n"
     ]
    }
   ],
   "source": [
    "# 导入'GridSearchCV', 'make_scorer'和其他一些需要的库\n",
    "from sklearn.svm import SVC\n",
    "from sklearn.model_selection import GridSearchCV\n",
    "from sklearn.metrics import make_scorer\n",
    "# 初始化分类器\n",
    "clf = SVC(kernel = 'linear',probability=True)#MultinomialNB() \n",
    "\n",
    "# 创建进行调节的参数列表\n",
    "parameters = {'C':(0.0001, 0.001, 0.01, 0.1, 1.0, 10.0, 100.0, 1000.0)}#alpha C 0.01,0.1,0.2,0.5,0.9,1.0,1.1,1.5,2.0,10,20,50,100\n",
    "\n",
    "# 创建一个accuracy_score打分对象\n",
    "scorer = make_scorer(score_func=log_loss,greater_is_better=False,needs_proba=True)\n",
    "\n",
    "#在分类器上使用网格搜索，使用'scorer'作为评价函数\n",
    "grid_obj = GridSearchCV(estimator=clf,param_grid=parameters,scoring=scorer,n_jobs=-2,cv=10)\n",
    "\n",
    "init_flag = True # 模型是否需要训练\n",
    "clf_name = 'tfid_SVC_best.pkl'\n",
    "if init_flag:#需要训练，训练后保存模型\n",
    "    start = time() # 获得程序开始时间\n",
    "    # 用训练数据拟合网格搜索对象并找到最佳参数\n",
    "    grid_obj.fit(X_train_tfief, y_train)\n",
    "    end = time() # 获得程序结束时间\n",
    "    # 计算训练时间\n",
    "    print('grid train_time:',round(end - start, 3),\"s\")\n",
    "    joblib.dump(grid_obj, clf_name)\n",
    "else:#不需要训练，直接加载已有模型\n",
    "    grid_obj = joblib.load(clf_name)\n",
    "\n",
    "# 得到estimator\n",
    "best_clf = grid_obj.best_estimator_\n",
    "\n",
    "# 使用没有调优的模型做预测\n",
    "clf = joblib.load('tfid_svc.pkl')#'tfid_svc.pkl' 'tfid_mnb.pkl'\n",
    "predictions = clf.predict(X_val_tfief)\n",
    "predict_proba_val = best_clf.predict_proba(X_val_tfief)\n",
    "best_predictions = best_clf.predict(X_val_tfief)\n",
    "best_proba_val = best_clf.predict_proba(X_val_tfief)\n",
    "\n",
    "# 汇报调参前和调参后的分数\n",
    "print(\"Unoptimized model\\n------\")\n",
    "print(\"Accuracy score on validation data: {:.4f}\".format(accuracy_score(y_val,predictions)))\n",
    "print('Log_loss_val on the validation data: {:.4f}'.format(log_loss(y_val,predict_proba_val)))\n",
    "print(\"\\nOptimized Model\\n------\")\n",
    "print(\"Final accuracy score on the validation data: {:.4f}\".format(accuracy_score(y_val,best_predictions)))\n",
    "# 计算在验证上的log_loss\n",
    "print('Final log_loss_val on the validation data: {:.4f}'.format(log_loss(y_val,best_proba_val)))\n",
    "print('Final best_params_:',grid_obj.best_params_)\n",
    "#print(grid_obj.grid_scores_)"
   ]
  },
  {
   "cell_type": "markdown",
   "metadata": {},
   "source": [
    "可以看出，调优后得到的模型准确率稍微有所提升。我们换做模型表现稍微次之的贝叶斯分类器进行调优，进行对比。"
   ]
  },
  {
   "cell_type": "code",
   "execution_count": 45,
   "metadata": {},
   "outputs": [
    {
     "name": "stdout",
     "output_type": "stream",
     "text": [
      "grid train_time: 12.124 s\n",
      "Unoptimized model\n",
      "------\n",
      "Accuracy score on validation data: 0.8730\n",
      "Log_loss_val on the validation data: 0.2840\n",
      "\n",
      "Optimized Model\n",
      "------\n",
      "Final accuracy score on the validation data: 0.9198\n",
      "Final log_loss_val on the validation data: 0.2840\n",
      "Final best_params_: {'fit_prior': False, 'alpha': 0.01}\n"
     ]
    }
   ],
   "source": [
    "# 初始化分类器\n",
    "clf = MultinomialNB() \n",
    "\n",
    "# 创建进行调节的参数列表\n",
    "parameters = {'alpha':(0.0001, 0.001, 0.01, 0.1, 1.0, 10.0, 100.0, 1000.0),'fit_prior':(True,False)}\n",
    "#parameters = {'alpha':(0.01,0.005,0.008,0.009,0.0095,0.015,0.02,0.03,0.05),'fit_prior':(True,False)}\n",
    "\n",
    "# 创建一个accuracy_score打分对象\n",
    "scorer = make_scorer(score_func=log_loss,greater_is_better=False,needs_proba=True)\n",
    "\n",
    "#在分类器上使用网格搜索，使用'scorer'作为评价函数\n",
    "grid_obj = GridSearchCV(estimator=clf,param_grid=parameters,scoring=scorer,n_jobs=-2,cv=10)\n",
    "\n",
    "init_flag = True # 模型是否需要训练\n",
    "clf_name = 'tfid_MultinomialNB_best.pkl'\n",
    "if init_flag:#需要训练，训练后保存模型\n",
    "    start = time() # 获得程序开始时间\n",
    "    # 用训练数据拟合网格搜索对象并找到最佳参数\n",
    "    grid_obj.fit(X_train_tfief, y_train)\n",
    "    end = time() # 获得程序结束时间\n",
    "    # 计算训练时间\n",
    "    print('grid train_time:',round(end - start, 3),\"s\")\n",
    "    joblib.dump(grid_obj, clf_name)\n",
    "else:#不需要训练，直接加载已有模型\n",
    "    grid_obj = joblib.load(clf_name)\n",
    "\n",
    "# 得到estimator\n",
    "best_clf = grid_obj.best_estimator_\n",
    "\n",
    "# 使用没有调优的模型做预测\n",
    "clf = joblib.load('tfid_mnb.pkl')#'tfid_svc.pkl' 'tfid_mnb.pkl'\n",
    "predictions = clf.predict(X_val_tfief)\n",
    "predict_proba_val = best_clf.predict_proba(X_val_tfief)\n",
    "best_predictions = best_clf.predict(X_val_tfief)\n",
    "best_proba_val = best_clf.predict_proba(X_val_tfief)\n",
    "\n",
    "# 汇报调参前和调参后的分数\n",
    "print(\"Unoptimized model\\n------\")\n",
    "print(\"Accuracy score on validation data: {:.4f}\".format(accuracy_score(y_val,predictions)))\n",
    "print('Log_loss_val on the validation data: {:.4f}'.format(log_loss(y_val,predict_proba_val)))\n",
    "print(\"\\nOptimized Model\\n------\")\n",
    "print(\"Final accuracy score on the validation data: {:.4f}\".format(accuracy_score(y_val,best_predictions)))\n",
    "# 计算在验证上的log_loss\n",
    "print('Final log_loss_val on the validation data: {:.4f}'.format(log_loss(y_val,best_proba_val)))\n",
    "print('Final best_params_:',grid_obj.best_params_)\n",
    "#print(grid_obj.grid_scores_)"
   ]
  },
  {
   "cell_type": "markdown",
   "metadata": {
    "collapsed": true
   },
   "source": [
    "使用TfidfVectorizer后，对比模型调优结果:"
   ]
  },
  {
   "cell_type": "markdown",
   "metadata": {},
   "source": [
    "| 模型预测准确率 | SVC    | MultinomialNB |\n",
    "|----------------|--------|---------------|\n",
    "| 调优前         | 0.9075 | 0.8730        |\n",
    "| 调优后         | 0.9168 | 0.9198        |"
   ]
  },
  {
   "cell_type": "markdown",
   "metadata": {},
   "source": [
    "| 模型预测log loss | SVC    | MultinomialNB |\n",
    "|------------------|--------|---------------|\n",
    "| 调优前           | 0.2967 | 0.2840        |\n",
    "| 调优后           | 0.2967 | 0.2840        |"
   ]
  },
  {
   "cell_type": "markdown",
   "metadata": {},
   "source": [
    "通过对比，调优前后log loss损失没有变化，SVC准确率有所提升，MultinomialNB有明显提升，最终调优后的MultinomialNB达到了最高的准确率0.9198。因此，选择原来的优后的MultinomialNB模型进行测试集预测。"
   ]
  },
  {
   "cell_type": "markdown",
   "metadata": {},
   "source": [
    "使用原SVC模型对测试集进行预测"
   ]
  },
  {
   "cell_type": "code",
   "execution_count": 46,
   "metadata": {},
   "outputs": [
    {
     "name": "stdout",
     "output_type": "stream",
     "text": [
      "val shape: (3770, 76478)\n"
     ]
    }
   ],
   "source": [
    "X_test_tfief = tfief_train.transform(X_test_content)\n",
    "print('val shape:',X_test_tfief.shape)"
   ]
  },
  {
   "cell_type": "code",
   "execution_count": 47,
   "metadata": {},
   "outputs": [
    {
     "name": "stdout",
     "output_type": "stream",
     "text": [
      "Accuracy score on test data: 0.9103\n",
      "Log_loss_val on the test data: 0.3011\n"
     ]
    }
   ],
   "source": [
    "clf = joblib.load('tfid_MultinomialNB_best.pkl')#tfid_MultinomialNB_best.pkl tfid_svc.pkl\n",
    "test_predictions = clf.predict(X_test_tfief)\n",
    "test_proba_val = clf.predict_proba(X_test_tfief)\n",
    "print(\"Accuracy score on test data: {:.4f}\".format(accuracy_score(y_test,test_predictions)))\n",
    "print('Log_loss_val on the test data: {:.4f}'.format(log_loss(y_test,test_proba_val)))"
   ]
  },
  {
   "cell_type": "markdown",
   "metadata": {},
   "source": [
    "可以看到，测试数据集上，准确率达到0.9103，Log_loss为0.3011，效果还是非常不错。"
   ]
  },
  {
   "cell_type": "markdown",
   "metadata": {},
   "source": [
    "| 模型预测 | 调优的MultinomialNB | 基准模型 |\n",
    "|:--------:|:--------:|:--------:|\n",
    "|  准确率  |   91.03%   |    90%   |"
   ]
  },
  {
   "cell_type": "markdown",
   "metadata": {},
   "source": [
    "通过对比，可以看出，我们调优后的MultinomialNB模型，对测试集的预测已经达到并超过了我们的基准模型的目标。下面进行词向量模型的研究。"
   ]
  },
  {
   "cell_type": "markdown",
   "metadata": {},
   "source": [
    "## 词向量模型"
   ]
  },
  {
   "cell_type": "markdown",
   "metadata": {},
   "source": [
    "加载预处理的数据"
   ]
  },
  {
   "cell_type": "code",
   "execution_count": 1,
   "metadata": {
    "collapsed": true
   },
   "outputs": [],
   "source": [
    "import numpy as np\n",
    "X_train_content = np.load(\"X_train_content.npy\")\n",
    "X_val_content = np.load(\"X_val_content.npy\")\n",
    "X_test_content = np.load(\"X_test_content.npy\")\n",
    "\n",
    "y_train = np.load(\"y_train.npy\")\n",
    "y_val = np.load(\"y_val.npy\")\n",
    "y_test = np.load(\"y_test.npy\")"
   ]
  },
  {
   "cell_type": "markdown",
   "metadata": {},
   "source": [
    "使用Word2Vec进行文本特征提取"
   ]
  },
  {
   "cell_type": "code",
   "execution_count": 2,
   "metadata": {},
   "outputs": [
    {
     "name": "stderr",
     "output_type": "stream",
     "text": [
      "D:\\Users\\Administrator\\Anaconda2\\envs\\GPU\\lib\\site-packages\\gensim\\utils.py:1167: UserWarning: detected Windows; aliasing chunkize to chunkize_serial\n",
      "  warnings.warn(\"detected Windows; aliasing chunkize to chunkize_serial\")\n"
     ]
    }
   ],
   "source": [
    "# 引入 word2vec\n",
    "from gensim.models import word2vec\n",
    "#忽略警告\n",
    "import warnings\n",
    "warnings.filterwarnings(action='ignore', category=UserWarning, module='gensim')"
   ]
  },
  {
   "cell_type": "code",
   "execution_count": 3,
   "metadata": {
    "collapsed": true
   },
   "outputs": [],
   "source": [
    "EMBEDDING_DIM = 200 # 词向量空间维度\n",
    "news_fname = '20news.model'\n",
    "mode_init = False"
   ]
  },
  {
   "cell_type": "code",
   "execution_count": 4,
   "metadata": {
    "collapsed": true
   },
   "outputs": [],
   "source": [
    "if mode_init:\n",
    "    sentences = []\n",
    "    sentences.extend([temp.split(' ') for temp in X_train_content])\n",
    "    sentences.extend([temp.split(' ') for temp in X_val_content])\n",
    "    sentences.extend([temp.split(' ') for temp in X_test_content])\n",
    "    news_model = word2vec.Word2Vec(sentences, size=EMBEDDING_DIM, window=5)  \n",
    "    news_model.save(news_fname)\n",
    "else:\n",
    "    news_model = word2vec.Word2Vec.load(news_fname)"
   ]
  },
  {
   "cell_type": "markdown",
   "metadata": {},
   "source": [
    "简单评测"
   ]
  },
  {
   "cell_type": "code",
   "execution_count": 5,
   "metadata": {
    "collapsed": true
   },
   "outputs": [],
   "source": [
    "def simple_test_word2vec(model):\n",
    "    print(model.wv.most_similar(positive=['woman', 'king'], negative=['man'], topn=1))\n",
    "    print(model.wv.doesnt_match(\"breakfast cereal dinner lunch\".split()))\n",
    "    print(model.wv.similarity('woman', 'man'))\n",
    "    print(model.wv.most_similar(['man']))"
   ]
  },
  {
   "cell_type": "code",
   "execution_count": 6,
   "metadata": {},
   "outputs": [
    {
     "name": "stdout",
     "output_type": "stream",
     "text": [
      "[('shame', 0.7234306931495667)]\n",
      "cereal\n",
      "0.6329343216302966\n",
      "[('wickedness', 0.6821304559707642), ('holy', 0.6820029616355896), ('wast', 0.6704590320587158), ('son', 0.6689863801002502), ('spirit', 0.6686825156211853), ('father', 0.6637376546859741), ('straw', 0.6544001698493958), ('mother', 0.6492461562156677), ('thou', 0.6454796195030212), ('almighty', 0.6357836127281189)]\n"
     ]
    }
   ],
   "source": [
    "simple_test_word2vec(news_model)"
   ]
  },
  {
   "cell_type": "markdown",
   "metadata": {},
   "source": [
    "使用text8语料库"
   ]
  },
  {
   "cell_type": "code",
   "execution_count": 7,
   "metadata": {
    "collapsed": true
   },
   "outputs": [],
   "source": [
    "text8_fname = 'text8.model'\n",
    "mode_init = False"
   ]
  },
  {
   "cell_type": "code",
   "execution_count": 8,
   "metadata": {
    "collapsed": true
   },
   "outputs": [],
   "source": [
    "if mode_init:\n",
    "    sentences = word2vec.Text8Corpus('text8')\n",
    "    text8_model = word2vec.Word2Vec(sentences, size=EMBEDDING_DIM, window=5)    \n",
    "    text8_model.save(text8_fname)\n",
    "else:\n",
    "    text8_model = word2vec.Word2Vec.load(text8_fname)"
   ]
  },
  {
   "cell_type": "code",
   "execution_count": 9,
   "metadata": {},
   "outputs": [
    {
     "name": "stdout",
     "output_type": "stream",
     "text": [
      "[('queen', 0.6610815525054932)]\n",
      "cereal\n",
      "0.6983951437791475\n",
      "[('woman', 0.6983951330184937), ('girl', 0.5940089821815491), ('creature', 0.5596705079078674), ('boy', 0.5359858274459839), ('stranger', 0.5305899977684021), ('person', 0.5273810029029846), ('god', 0.5049077868461609), ('men', 0.4925699234008789), ('gentleman', 0.48531436920166016), ('lover', 0.48378199338912964)]\n"
     ]
    }
   ],
   "source": [
    "simple_test_word2vec(text8_model)"
   ]
  },
  {
   "cell_type": "markdown",
   "metadata": {},
   "source": [
    "通过观察，两个语料库得到的结果有些差别，但是总体差距不大。因此，这里选择使用新闻数据集得到的Word2Vec词向量，这样更贴近需要训练和预测的数据内容"
   ]
  },
  {
   "cell_type": "markdown",
   "metadata": {},
   "source": [
    "提取特征:单词与序号之间的对应关系靠单词的索引表 word_index 来记录;标签处理成 one-hot 向量，用 keras 的 to_categorical 实现"
   ]
  },
  {
   "cell_type": "code",
   "execution_count": 10,
   "metadata": {},
   "outputs": [
    {
     "name": "stderr",
     "output_type": "stream",
     "text": [
      "D:\\Users\\Administrator\\Anaconda2\\envs\\GPU\\lib\\site-packages\\h5py\\__init__.py:36: FutureWarning: Conversion of the second argument of issubdtype from `float` to `np.floating` is deprecated. In future, it will be treated as `np.float64 == np.dtype(float).type`.\n",
      "  from ._conv import register_converters as _register_converters\n",
      "Using TensorFlow backend.\n"
     ]
    },
    {
     "name": "stdout",
     "output_type": "stream",
     "text": [
      "Found 98181 unique all texts tokens.\n",
      "Shape of train label tensor: (12060, 20)\n",
      "Shape of val label tensor: (3016, 20)\n",
      "Shape of test label tensor: (3770, 20)\n"
     ]
    }
   ],
   "source": [
    "from keras.preprocessing.text import Tokenizer\n",
    "from keras.utils import to_categorical\n",
    "import numpy as np\n",
    "\n",
    "all_texts = []\n",
    "all_texts.extend(X_train_content)\n",
    "all_texts.extend(X_val_content)\n",
    "all_texts.extend(X_test_content)\n",
    "\n",
    "all_texts_tokenizer = Tokenizer()\n",
    "all_texts_tokenizer.fit_on_texts(all_texts)\n",
    "all_texts_word_index = all_texts_tokenizer.word_index\n",
    "\n",
    "print('Found %s unique all texts tokens.' % len(all_texts_word_index))\n",
    "\n",
    "all_labels = []\n",
    "all_labels.extend(y_train)\n",
    "all_labels.extend(y_val)\n",
    "all_labels.extend(y_test)\n",
    "\n",
    "all_labels = to_categorical(np.asarray(all_labels))\n",
    "\n",
    "y_train_labels = to_categorical(np.asarray(y_train))\n",
    "print('Shape of train label tensor:', y_train_labels.shape)\n",
    "\n",
    "y_val_labels = to_categorical(np.asarray(y_val))\n",
    "print('Shape of val label tensor:', y_val_labels.shape)\n",
    "\n",
    "y_test_labels = to_categorical(np.asarray(y_test))\n",
    "print('Shape of test label tensor:', y_test_labels.shape)"
   ]
  },
  {
   "cell_type": "code",
   "execution_count": 11,
   "metadata": {
    "collapsed": true
   },
   "outputs": [],
   "source": [
    "MAX_SEQUENCE_LENGTH = 500 # 每条新闻最大长度"
   ]
  },
  {
   "cell_type": "code",
   "execution_count": 12,
   "metadata": {
    "collapsed": true
   },
   "outputs": [],
   "source": [
    "from keras.preprocessing.sequence import pad_sequences\n",
    "X_train_sequences = pad_sequences(all_texts_tokenizer.texts_to_sequences(X_train_content), maxlen=MAX_SEQUENCE_LENGTH)\n",
    "X_val_sequences = pad_sequences(all_texts_tokenizer.texts_to_sequences(X_val_content), maxlen=MAX_SEQUENCE_LENGTH)\n",
    "X_test_sequences = pad_sequences(all_texts_tokenizer.texts_to_sequences(X_test_content), maxlen=MAX_SEQUENCE_LENGTH)"
   ]
  },
  {
   "cell_type": "code",
   "execution_count": 13,
   "metadata": {},
   "outputs": [
    {
     "name": "stdout",
     "output_type": "stream",
     "text": [
      "Shape of train tensor: (12060, 500)\n",
      "Shape of val tensor: (3016, 500)\n",
      "Shape of test tensor: (3770, 500)\n"
     ]
    }
   ],
   "source": [
    "print('Shape of train tensor:', X_train_sequences.shape)\n",
    "print('Shape of val tensor:', X_val_sequences.shape)\n",
    "print('Shape of test tensor:', X_test_sequences.shape)"
   ]
  },
  {
   "cell_type": "markdown",
   "metadata": {},
   "source": [
    "构建嵌入层Embedding"
   ]
  },
  {
   "cell_type": "code",
   "execution_count": 14,
   "metadata": {
    "collapsed": true
   },
   "outputs": [],
   "source": [
    "from keras.utils import plot_model\n",
    "from keras.layers import Embedding\n",
    "import gensim\n",
    "\n",
    "from keras.layers import Dense, Input, Flatten, Dropout, Activation, LSTM\n",
    "from keras.layers import Conv1D, MaxPooling1D, Embedding, concatenate\n",
    "from keras.models import Sequential, Model\n",
    "\n",
    "w2v_model = news_model\n",
    "embedding_matrix = np.zeros((len(all_texts_word_index) + 1, EMBEDDING_DIM))\n",
    "\n",
    "for word, i in all_texts_word_index.items():\n",
    "    if word in w2v_model.wv:\n",
    "        embedding_matrix[i] = np.asarray(w2v_model.wv[word],dtype='float32')\n",
    "        \n",
    "embedding_layer = Embedding(len(all_texts_word_index) + 1,\n",
    "                            EMBEDDING_DIM,\n",
    "                            weights=[embedding_matrix],\n",
    "                            input_length=MAX_SEQUENCE_LENGTH,\n",
    "                            trainable=False)"
   ]
  },
  {
   "cell_type": "markdown",
   "metadata": {},
   "source": [
    "Inception v2模型"
   ]
  },
  {
   "cell_type": "code",
   "execution_count": 15,
   "metadata": {},
   "outputs": [
    {
     "name": "stdout",
     "output_type": "stream",
     "text": [
      "__________________________________________________________________________________________________\n",
      "Layer (type)                    Output Shape         Param #     Connected to                     \n",
      "==================================================================================================\n",
      "main_input (InputLayer)         (None, 500)          0                                            \n",
      "__________________________________________________________________________________________________\n",
      "embedding_1 (Embedding)         (None, 500, 200)     19636400    main_input[0][0]                 \n",
      "__________________________________________________________________________________________________\n",
      "conv1d_1 (Conv1D)               (None, 500, 64)      12864       embedding_1[0][0]                \n",
      "__________________________________________________________________________________________________\n",
      "conv1d_2 (Conv1D)               (None, 500, 64)      12352       conv1d_1[0][0]                   \n",
      "__________________________________________________________________________________________________\n",
      "conv1d_4 (Conv1D)               (None, 500, 64)      12864       embedding_1[0][0]                \n",
      "__________________________________________________________________________________________________\n",
      "max_pooling1d_1 (MaxPooling1D)  (None, 500, 200)     0           embedding_1[0][0]                \n",
      "__________________________________________________________________________________________________\n",
      "conv1d_3 (Conv1D)               (None, 500, 64)      12352       conv1d_2[0][0]                   \n",
      "__________________________________________________________________________________________________\n",
      "conv1d_5 (Conv1D)               (None, 500, 64)      12352       conv1d_4[0][0]                   \n",
      "__________________________________________________________________________________________________\n",
      "conv1d_6 (Conv1D)               (None, 500, 64)      12864       max_pooling1d_1[0][0]            \n",
      "__________________________________________________________________________________________________\n",
      "conv1d_7 (Conv1D)               (None, 500, 64)      12864       embedding_1[0][0]                \n",
      "__________________________________________________________________________________________________\n",
      "flatten_1 (Flatten)             (None, 32000)        0           conv1d_3[0][0]                   \n",
      "__________________________________________________________________________________________________\n",
      "flatten_2 (Flatten)             (None, 32000)        0           conv1d_5[0][0]                   \n",
      "__________________________________________________________________________________________________\n",
      "flatten_3 (Flatten)             (None, 32000)        0           conv1d_6[0][0]                   \n",
      "__________________________________________________________________________________________________\n",
      "flatten_4 (Flatten)             (None, 32000)        0           conv1d_7[0][0]                   \n",
      "__________________________________________________________________________________________________\n",
      "dropout_1 (Dropout)             (None, 32000)        0           flatten_1[0][0]                  \n",
      "__________________________________________________________________________________________________\n",
      "dropout_2 (Dropout)             (None, 32000)        0           flatten_2[0][0]                  \n",
      "__________________________________________________________________________________________________\n",
      "dropout_3 (Dropout)             (None, 32000)        0           flatten_3[0][0]                  \n",
      "__________________________________________________________________________________________________\n",
      "dropout_4 (Dropout)             (None, 32000)        0           flatten_4[0][0]                  \n",
      "__________________________________________________________________________________________________\n",
      "sentence_vector (Concatenate)   (None, 128000)       0           dropout_1[0][0]                  \n",
      "                                                                 dropout_2[0][0]                  \n",
      "                                                                 dropout_3[0][0]                  \n",
      "                                                                 dropout_4[0][0]                  \n",
      "__________________________________________________________________________________________________\n",
      "dropout_5 (Dropout)             (None, 128000)       0           sentence_vector[0][0]            \n",
      "__________________________________________________________________________________________________\n",
      "dense_1 (Dense)                 (None, 20)           2560020     dropout_5[0][0]                  \n",
      "==================================================================================================\n",
      "Total params: 22,284,932\n",
      "Trainable params: 2,648,532\n",
      "Non-trainable params: 19,636,400\n",
      "__________________________________________________________________________________________________\n"
     ]
    }
   ],
   "source": [
    "#定义模型\n",
    "def init_Inception_v2_model(MAX_SEQUENCE_LENGTH,embedding_layer):\n",
    "    main_input = Input(shape=(MAX_SEQUENCE_LENGTH,), dtype='float32' , name='main_input')\n",
    "    x = embedding_layer(main_input)\n",
    "\n",
    "    tower_1 = Conv1D(filters=64, kernel_size=1, padding='same', activation='relu')(x)\n",
    "    tower_1 = Conv1D(filters=64, kernel_size=3, padding='same', activation='relu')(tower_1)\n",
    "    tower_1 = Conv1D(filters=64, kernel_size=3, padding='same', activation='relu')(tower_1)\n",
    "    tower_1 = Flatten()(tower_1)\n",
    "    tower_1 = Dropout(0.2)(tower_1)\n",
    "\n",
    "    tower_2 = Conv1D(filters=64, kernel_size=1, padding='same', activation='relu')(x)\n",
    "    tower_2 = Conv1D(filters=64, kernel_size=3, padding='same', activation='relu')(tower_2)\n",
    "    tower_2 = Flatten()(tower_2)\n",
    "    tower_2 = Dropout(0.2)(tower_2)\n",
    "\n",
    "    tower_3 = MaxPooling1D(pool_size=3, strides=1, padding='same')(x)\n",
    "    tower_3 = Conv1D(filters=64, kernel_size=1, padding='same', activation='relu')(tower_3)\n",
    "    tower_3 = Flatten()(tower_3)\n",
    "    tower_3 = Dropout(0.2)(tower_3)\n",
    "\n",
    "    tower_4 = Conv1D(filters=64, kernel_size=1, padding='same', activation='relu')(x)\n",
    "    tower_4 = Flatten()(tower_4)\n",
    "    tower_4 = Dropout(0.2)(tower_4)\n",
    "\n",
    "    sentence_vector = concatenate([tower_1,tower_2,tower_3,tower_4], name=\"sentence_vector\")  #,tower_4\n",
    "    #输出层\n",
    "    #sentence_vector = Flatten()(sentence_vector)\n",
    "    sentence_vector = Dropout(0.2)(sentence_vector)\n",
    "    output = Dense(all_labels.shape[1], activation='softmax')(sentence_vector)\n",
    "\n",
    "    model = Model(inputs=main_input, outputs=output)\n",
    "    return model\n",
    "\n",
    "Inception_v2_model = init_Inception_v2_model(MAX_SEQUENCE_LENGTH,embedding_layer)\n",
    "Inception_v2_model.summary()"
   ]
  },
  {
   "cell_type": "code",
   "execution_count": 16,
   "metadata": {
    "collapsed": true
   },
   "outputs": [],
   "source": [
    "Inception_v2_model.compile(loss='categorical_crossentropy',\n",
    "              optimizer='rmsprop',#adam,sgd,rmsprop\n",
    "              metrics=['accuracy'])"
   ]
  },
  {
   "cell_type": "code",
   "execution_count": 17,
   "metadata": {},
   "outputs": [
    {
     "name": "stdout",
     "output_type": "stream",
     "text": [
      "Train on 12060 samples, validate on 3016 samples\n",
      "Epoch 1/20\n",
      "12060/12060 [==============================] - 19s 2ms/step - loss: 2.0292 - acc: 0.4536 - val_loss: 1.3987 - val_acc: 0.5434\n",
      "Epoch 2/20\n",
      "12060/12060 [==============================] - 15s 1ms/step - loss: 0.6807 - acc: 0.7885 - val_loss: 1.2689 - val_acc: 0.6064\n",
      "Epoch 3/20\n",
      "12060/12060 [==============================] - 15s 1ms/step - loss: 0.3407 - acc: 0.8997 - val_loss: 1.4075 - val_acc: 0.6078\n",
      "Epoch 4/20\n",
      "12060/12060 [==============================] - 15s 1ms/step - loss: 0.1756 - acc: 0.9541 - val_loss: 1.9800 - val_acc: 0.5567\n",
      "Epoch 5/20\n",
      "12060/12060 [==============================] - 15s 1ms/step - loss: 0.0980 - acc: 0.9742 - val_loss: 1.8189 - val_acc: 0.6011\n",
      "Epoch 6/20\n",
      "12060/12060 [==============================] - 15s 1ms/step - loss: 0.0661 - acc: 0.9828 - val_loss: 2.2003 - val_acc: 0.5862\n",
      "Epoch 7/20\n",
      "12060/12060 [==============================] - 15s 1ms/step - loss: 0.0478 - acc: 0.9883 - val_loss: 2.0244 - val_acc: 0.6111\n",
      "Epoch 8/20\n",
      "12060/12060 [==============================] - 15s 1ms/step - loss: 0.0365 - acc: 0.9918 - val_loss: 2.1357 - val_acc: 0.6097\n",
      "Epoch 9/20\n",
      "12060/12060 [==============================] - 15s 1ms/step - loss: 0.0332 - acc: 0.9916 - val_loss: 2.1118 - val_acc: 0.6197\n",
      "Epoch 10/20\n",
      "12060/12060 [==============================] - 15s 1ms/step - loss: 0.0262 - acc: 0.9937 - val_loss: 2.5883 - val_acc: 0.5839\n",
      "Epoch 11/20\n",
      "12060/12060 [==============================] - 15s 1ms/step - loss: 0.0221 - acc: 0.9940 - val_loss: 2.3224 - val_acc: 0.6104\n",
      "Epoch 12/20\n",
      "12060/12060 [==============================] - 15s 1ms/step - loss: 0.0340 - acc: 0.9935 - val_loss: 2.2185 - val_acc: 0.6267\n",
      "Epoch 13/20\n",
      "12060/12060 [==============================] - 15s 1ms/step - loss: 0.0233 - acc: 0.9950 - val_loss: 2.2857 - val_acc: 0.6253\n",
      "Epoch 14/20\n",
      "12060/12060 [==============================] - 15s 1ms/step - loss: 0.0172 - acc: 0.9962 - val_loss: 2.3168 - val_acc: 0.6250\n",
      "Epoch 15/20\n",
      "12060/12060 [==============================] - 15s 1ms/step - loss: 0.0160 - acc: 0.9968 - val_loss: 2.5343 - val_acc: 0.6141\n",
      "Epoch 16/20\n",
      "12060/12060 [==============================] - 15s 1ms/step - loss: 0.0156 - acc: 0.9958 - val_loss: 2.8675 - val_acc: 0.5859\n",
      "Epoch 17/20\n",
      "12060/12060 [==============================] - 15s 1ms/step - loss: 0.0168 - acc: 0.9960 - val_loss: 2.5490 - val_acc: 0.6253\n",
      "Epoch 18/20\n",
      "12060/12060 [==============================] - 15s 1ms/step - loss: 0.0140 - acc: 0.9968 - val_loss: 2.8926 - val_acc: 0.5962\n",
      "Epoch 19/20\n",
      "12060/12060 [==============================] - 15s 1ms/step - loss: 0.0139 - acc: 0.9966 - val_loss: 2.5734 - val_acc: 0.6296\n",
      "Epoch 20/20\n",
      "12060/12060 [==============================] - 15s 1ms/step - loss: 0.0146 - acc: 0.9970 - val_loss: 2.9414 - val_acc: 0.6071\n"
     ]
    }
   ],
   "source": [
    "from keras.callbacks import ModelCheckpoint\n",
    "init_flag = True #是否训练模型\n",
    "model_path = 'saved_models/weights.best.Inception_v2.hdf5'\n",
    "if init_flag:\n",
    "    ### 训练模型\n",
    "    checkpointer = ModelCheckpoint(filepath=model_path, save_best_only=True)\n",
    "    history = Inception_v2_model.fit(X_train_sequences, y_train_labels, validation_data=(X_val_sequences, y_val_labels),\n",
    "              epochs=20, batch_size=128, callbacks=[checkpointer])"
   ]
  },
  {
   "cell_type": "markdown",
   "metadata": {
    "collapsed": true
   },
   "source": [
    "训练集和验证集的损失曲线："
   ]
  },
  {
   "cell_type": "code",
   "execution_count": 18,
   "metadata": {},
   "outputs": [
    {
     "data": {
      "image/png": "[encoded data removed]",
      "text/plain": [
       "<matplotlib.figure.Figure at 0x24baa3f9518>"
      ]
     },
     "metadata": {},
     "output_type": "display_data"
    }
   ],
   "source": [
    "import matplotlib.pyplot as plt\n",
    "#from scipy import misc\n",
    "img_path = 'InceptionV2_loss.png'\n",
    "if init_flag:\n",
    "    loss = history.history['loss']\n",
    "    val_loss = history.history['val_loss']\n",
    "    epochs = range(1, len(loss) + 1)\n",
    "    plt.plot(epochs, loss, 'bo', label='Training loss')\n",
    "    plt.plot(epochs, val_loss, 'b', label='Validation loss')\n",
    "    plt.title('Training and validation loss')\n",
    "    plt.xlabel('Epochs')\n",
    "    plt.ylabel('Loss')\n",
    "    plt.legend()\n",
    "    plt.savefig(img_path, dpi=75)\n",
    "    plt.show()\n",
    "else:\n",
    "    image = plt.imread(img_path)\n",
    "    #misc.imresize(image, (450,300))\n",
    "    plt.imshow(image)\n",
    "    plt.axis('off') # clear x- and y-axes  \n",
    "    plt.show()"
   ]
  },
  {
   "cell_type": "markdown",
   "metadata": {},
   "source": [
    "训练集和验证集的正确率曲线："
   ]
  },
  {
   "cell_type": "code",
   "execution_count": 19,
   "metadata": {},
   "outputs": [
    {
     "data": {
      "image/png": "[encoded data removed]",
      "text/plain": [
       "<matplotlib.figure.Figure at 0x24bc59069e8>"
      ]
     },
     "metadata": {},
     "output_type": "display_data"
    }
   ],
   "source": [
    "plt.clf()   # clear figure\n",
    "plt.clf()   # clear figure\n",
    "img_path = 'InceptionV2_acc.png'\n",
    "if init_flag:\n",
    "    acc = history.history['acc']\n",
    "    val_acc = history.history['val_acc']\n",
    "    plt.plot(epochs, acc, 'bo', label='Training acc')\n",
    "    plt.plot(epochs, val_acc, 'b', label='Validation acc')\n",
    "    plt.title('Training and validation accuracy')\n",
    "    plt.xlabel('Epochs')\n",
    "    plt.ylabel('Accuracy')\n",
    "    plt.legend()\n",
    "    plt.savefig(img_path, dpi=75)\n",
    "    plt.show()\n",
    "else:\n",
    "    image = plt.imread(img_path)\n",
    "    #misc.imresize(image, (450,300))\n",
    "    plt.imshow(image)  \n",
    "    plt.axis('off') # clear x- and y-axes  \n",
    "    plt.show()"
   ]
  },
  {
   "cell_type": "markdown",
   "metadata": {},
   "source": [
    "通过图像分析，Inception v2模型很快就出现了过拟合，图像波动起伏非常明显；验证集的log loss损失开始下降了一下，后来开始大幅上升；而验证集的准确率也在一直剧烈波动，该模型表现不理想。"
   ]
  },
  {
   "cell_type": "markdown",
   "metadata": {},
   "source": [
    "对验证集使用最佳验证loss进行验证"
   ]
  },
  {
   "cell_type": "code",
   "execution_count": 20,
   "metadata": {
    "collapsed": true
   },
   "outputs": [],
   "source": [
    "### 加载具有最佳验证loss的模型权重\n",
    "Inception_v2_model.load_weights(model_path)"
   ]
  },
  {
   "cell_type": "code",
   "execution_count": 21,
   "metadata": {},
   "outputs": [
    {
     "name": "stdout",
     "output_type": "stream",
     "text": [
      "3016/3016 [==============================] - 3s 945us/step\n",
      "[1.2688718740124285, 0.6064323607427056]\n"
     ]
    }
   ],
   "source": [
    "print(Inception_v2_model.evaluate(X_val_sequences, y_val_labels))"
   ]
  },
  {
   "cell_type": "markdown",
   "metadata": {
    "collapsed": true
   },
   "source": [
    "CNN 模型"
   ]
  },
  {
   "cell_type": "code",
   "execution_count": 22,
   "metadata": {},
   "outputs": [
    {
     "name": "stdout",
     "output_type": "stream",
     "text": [
      "__________________________________________________________________________________________________\n",
      "Layer (type)                    Output Shape         Param #     Connected to                     \n",
      "==================================================================================================\n",
      "main_input (InputLayer)         (None, 500)          0                                            \n",
      "__________________________________________________________________________________________________\n",
      "embedding_1 (Embedding)         (None, 500, 200)     19636400    main_input[0][0]                 \n",
      "__________________________________________________________________________________________________\n",
      "conv1d_8 (Conv1D)               (None, 500, 64)      12864       embedding_1[1][0]                \n",
      "__________________________________________________________________________________________________\n",
      "conv1d_9 (Conv1D)               (None, 500, 64)      25664       embedding_1[1][0]                \n",
      "__________________________________________________________________________________________________\n",
      "conv1d_10 (Conv1D)              (None, 500, 64)      38464       embedding_1[1][0]                \n",
      "__________________________________________________________________________________________________\n",
      "conv1d_11 (Conv1D)              (None, 500, 64)      51264       embedding_1[1][0]                \n",
      "__________________________________________________________________________________________________\n",
      "max_pooling1d_2 (MaxPooling1D)  (None, 500, 64)      0           conv1d_8[0][0]                   \n",
      "__________________________________________________________________________________________________\n",
      "max_pooling1d_3 (MaxPooling1D)  (None, 500, 64)      0           conv1d_9[0][0]                   \n",
      "__________________________________________________________________________________________________\n",
      "max_pooling1d_4 (MaxPooling1D)  (None, 500, 64)      0           conv1d_10[0][0]                  \n",
      "__________________________________________________________________________________________________\n",
      "max_pooling1d_5 (MaxPooling1D)  (None, 500, 64)      0           conv1d_11[0][0]                  \n",
      "__________________________________________________________________________________________________\n",
      "flatten_5 (Flatten)             (None, 32000)        0           max_pooling1d_2[0][0]            \n",
      "__________________________________________________________________________________________________\n",
      "flatten_6 (Flatten)             (None, 32000)        0           max_pooling1d_3[0][0]            \n",
      "__________________________________________________________________________________________________\n",
      "flatten_7 (Flatten)             (None, 32000)        0           max_pooling1d_4[0][0]            \n",
      "__________________________________________________________________________________________________\n",
      "flatten_8 (Flatten)             (None, 32000)        0           max_pooling1d_5[0][0]            \n",
      "__________________________________________________________________________________________________\n",
      "dropout_6 (Dropout)             (None, 32000)        0           flatten_5[0][0]                  \n",
      "__________________________________________________________________________________________________\n",
      "dropout_7 (Dropout)             (None, 32000)        0           flatten_6[0][0]                  \n",
      "__________________________________________________________________________________________________\n",
      "dropout_8 (Dropout)             (None, 32000)        0           flatten_7[0][0]                  \n",
      "__________________________________________________________________________________________________\n",
      "dropout_9 (Dropout)             (None, 32000)        0           flatten_8[0][0]                  \n",
      "__________________________________________________________________________________________________\n",
      "sentence_vector (Concatenate)   (None, 128000)       0           dropout_6[0][0]                  \n",
      "                                                                 dropout_7[0][0]                  \n",
      "                                                                 dropout_8[0][0]                  \n",
      "                                                                 dropout_9[0][0]                  \n",
      "__________________________________________________________________________________________________\n",
      "dropout_10 (Dropout)            (None, 128000)       0           sentence_vector[0][0]            \n",
      "__________________________________________________________________________________________________\n",
      "dense_2 (Dense)                 (None, 20)           2560020     dropout_10[0][0]                 \n",
      "==================================================================================================\n",
      "Total params: 22,324,676\n",
      "Trainable params: 2,688,276\n",
      "Non-trainable params: 19,636,400\n",
      "__________________________________________________________________________________________________\n"
     ]
    }
   ],
   "source": [
    "#定义模型\n",
    "def init_CNN_model(MAX_SEQUENCE_LENGTH,embedding_layer):\n",
    "    main_input = Input(shape=(MAX_SEQUENCE_LENGTH,), dtype='float32' , name='main_input')\n",
    "    x = embedding_layer(main_input)\n",
    "\n",
    "    tower_1 = Conv1D(filters=64, kernel_size=1, padding='same', activation='relu')(x)\n",
    "    tower_1 = MaxPooling1D(pool_size=4, strides=1, padding='same')(tower_1)\n",
    "    tower_1 = Flatten()(tower_1)\n",
    "    tower_1 = Dropout(0.2)(tower_1)\n",
    "\n",
    "    tower_2 = Conv1D(filters=64, kernel_size=2, padding='same', activation='relu')(x)\n",
    "    tower_2 = MaxPooling1D(pool_size=3, strides=1, padding='same')(tower_2)\n",
    "    tower_2 = Flatten()(tower_2)\n",
    "    tower_2 = Dropout(0.2)(tower_2)\n",
    "\n",
    "    tower_3 = Conv1D(filters=64, kernel_size=3, padding='same', activation='relu')(x)\n",
    "    tower_3 = MaxPooling1D(pool_size=2, strides=1, padding='same')(tower_3)\n",
    "    tower_3 = Flatten()(tower_3)\n",
    "    tower_3 = Dropout(0.2)(tower_3)\n",
    "\n",
    "    tower_4 = Conv1D(filters=64, kernel_size=4, padding='same', activation='relu')(x)\n",
    "    tower_4 = MaxPooling1D(pool_size=1, strides=1, padding='same')(tower_4)\n",
    "    tower_4 = Flatten()(tower_4)\n",
    "    tower_4 = Dropout(0.2)(tower_4)\n",
    "\n",
    "    sentence_vector = concatenate([tower_1,tower_2,tower_3,tower_4], name=\"sentence_vector\")  #,tower_4\n",
    "    #输出层\n",
    "    #sentence_vector = Flatten()(sentence_vector)\n",
    "    sentence_vector = Dropout(0.2)(sentence_vector)\n",
    "    output = Dense(all_labels.shape[1], activation='softmax')(sentence_vector)\n",
    "\n",
    "    model = Model(inputs=main_input, outputs=output)\n",
    "    return model\n",
    "\n",
    "CNN_model = init_CNN_model(MAX_SEQUENCE_LENGTH,embedding_layer)\n",
    "CNN_model.summary()"
   ]
  },
  {
   "cell_type": "code",
   "execution_count": 23,
   "metadata": {
    "collapsed": true
   },
   "outputs": [],
   "source": [
    "CNN_model.compile(loss='categorical_crossentropy',\n",
    "              optimizer='rmsprop',#adam,sgd,rmsprop\n",
    "              metrics=['accuracy'])"
   ]
  },
  {
   "cell_type": "code",
   "execution_count": 24,
   "metadata": {},
   "outputs": [
    {
     "name": "stdout",
     "output_type": "stream",
     "text": [
      "Train on 12060 samples, validate on 3016 samples\n",
      "Epoch 1/20\n",
      "12060/12060 [==============================] - 17s 1ms/step - loss: 2.9971 - acc: 0.4560 - val_loss: 1.2452 - val_acc: 0.6088\n",
      "Epoch 2/20\n",
      "12060/12060 [==============================] - 16s 1ms/step - loss: 0.6773 - acc: 0.7942 - val_loss: 1.1168 - val_acc: 0.6668\n",
      "Epoch 3/20\n",
      "12060/12060 [==============================] - 16s 1ms/step - loss: 0.2967 - acc: 0.9146 - val_loss: 1.2887 - val_acc: 0.6711\n",
      "Epoch 4/20\n",
      "12060/12060 [==============================] - 16s 1ms/step - loss: 0.1464 - acc: 0.9609 - val_loss: 1.5226 - val_acc: 0.6532\n",
      "Epoch 5/20\n",
      "12060/12060 [==============================] - 16s 1ms/step - loss: 0.0815 - acc: 0.9793 - val_loss: 1.6313 - val_acc: 0.6558\n",
      "Epoch 6/20\n",
      "12060/12060 [==============================] - 16s 1ms/step - loss: 0.0650 - acc: 0.9826 - val_loss: 1.7295 - val_acc: 0.6592\n",
      "Epoch 7/20\n",
      "12060/12060 [==============================] - 16s 1ms/step - loss: 0.0426 - acc: 0.9910 - val_loss: 1.8587 - val_acc: 0.6708\n",
      "Epoch 8/20\n",
      "12060/12060 [==============================] - 16s 1ms/step - loss: 0.0333 - acc: 0.9935 - val_loss: 2.0499 - val_acc: 0.6618\n",
      "Epoch 9/20\n",
      "12060/12060 [==============================] - 16s 1ms/step - loss: 0.0316 - acc: 0.9949 - val_loss: 2.3139 - val_acc: 0.6499\n",
      "Epoch 10/20\n",
      "12060/12060 [==============================] - 16s 1ms/step - loss: 0.0307 - acc: 0.9943 - val_loss: 2.2075 - val_acc: 0.6502\n",
      "Epoch 11/20\n",
      "12060/12060 [==============================] - 16s 1ms/step - loss: 0.0246 - acc: 0.9942 - val_loss: 2.2363 - val_acc: 0.6688\n",
      "Epoch 12/20\n",
      "12060/12060 [==============================] - 16s 1ms/step - loss: 0.0276 - acc: 0.9945 - val_loss: 2.4103 - val_acc: 0.6519\n",
      "Epoch 13/20\n",
      "12060/12060 [==============================] - 16s 1ms/step - loss: 0.0251 - acc: 0.9958 - val_loss: 2.5811 - val_acc: 0.6426\n",
      "Epoch 14/20\n",
      "12060/12060 [==============================] - 16s 1ms/step - loss: 0.0274 - acc: 0.9946 - val_loss: 2.4338 - val_acc: 0.6568\n",
      "Epoch 15/20\n",
      "12060/12060 [==============================] - 16s 1ms/step - loss: 0.0231 - acc: 0.9964 - val_loss: 2.5729 - val_acc: 0.6535\n",
      "Epoch 16/20\n",
      "12060/12060 [==============================] - 16s 1ms/step - loss: 0.0204 - acc: 0.9966 - val_loss: 2.5751 - val_acc: 0.6535\n",
      "Epoch 17/20\n",
      "12060/12060 [==============================] - 16s 1ms/step - loss: 0.0247 - acc: 0.9952 - val_loss: 2.6875 - val_acc: 0.6565\n",
      "Epoch 18/20\n",
      "12060/12060 [==============================] - 16s 1ms/step - loss: 0.0242 - acc: 0.9965 - val_loss: 2.7531 - val_acc: 0.6585\n",
      "Epoch 19/20\n",
      "12060/12060 [==============================] - 16s 1ms/step - loss: 0.0197 - acc: 0.9962 - val_loss: 2.7753 - val_acc: 0.6598\n",
      "Epoch 20/20\n",
      "12060/12060 [==============================] - 16s 1ms/step - loss: 0.0202 - acc: 0.9968 - val_loss: 2.8397 - val_acc: 0.6472\n"
     ]
    }
   ],
   "source": [
    "from keras.callbacks import ModelCheckpoint\n",
    "init_flag = True #是否训练模型\n",
    "model_path = 'saved_models/weights.best.CNN.hdf5'\n",
    "if init_flag:\n",
    "    ### 训练模型\n",
    "    checkpointer = ModelCheckpoint(filepath=model_path, save_best_only=True)\n",
    "    history = CNN_model.fit(X_train_sequences, y_train_labels, validation_data=(X_val_sequences, y_val_labels),\n",
    "              epochs=20, batch_size=128, callbacks=[checkpointer])"
   ]
  },
  {
   "cell_type": "markdown",
   "metadata": {},
   "source": [
    "训练集和验证集的损失曲线："
   ]
  },
  {
   "cell_type": "code",
   "execution_count": 25,
   "metadata": {},
   "outputs": [
    {
     "data": {
      "image/png": "[encoded data removed]",
      "text/plain": [
       "<matplotlib.figure.Figure at 0x24bd11f46d8>"
      ]
     },
     "metadata": {},
     "output_type": "display_data"
    }
   ],
   "source": [
    "import matplotlib.pyplot as plt\n",
    "#from scipy import misc\n",
    "img_path = 'CNN_loss.png'\n",
    "if init_flag:\n",
    "    loss = history.history['loss']\n",
    "    val_loss = history.history['val_loss']\n",
    "    epochs = range(1, len(loss) + 1)\n",
    "    plt.plot(epochs, loss, 'bo', label='Training loss')\n",
    "    plt.plot(epochs, val_loss, 'b', label='Validation loss')\n",
    "    plt.title('Training and validation loss')\n",
    "    plt.xlabel('Epochs')\n",
    "    plt.ylabel('Loss')\n",
    "    plt.legend()\n",
    "    plt.savefig(img_path, dpi=75)\n",
    "    plt.show()\n",
    "else:\n",
    "    image = plt.imread(img_path)\n",
    "    #misc.imresize(image, (450,300))\n",
    "    plt.imshow(image)\n",
    "    plt.axis('off') # clear x- and y-axes  \n",
    "    plt.show()"
   ]
  },
  {
   "cell_type": "markdown",
   "metadata": {},
   "source": [
    "训练集和验证集的正确率曲线："
   ]
  },
  {
   "cell_type": "code",
   "execution_count": 26,
   "metadata": {},
   "outputs": [
    {
     "data": {
      "image/png": "[encoded data removed]",
      "text/plain": [
       "<matplotlib.figure.Figure at 0x24bd146f7b8>"
      ]
     },
     "metadata": {},
     "output_type": "display_data"
    }
   ],
   "source": [
    "plt.clf()   # clear figure\n",
    "plt.clf()   # clear figure\n",
    "img_path = 'CNN_acc.png'\n",
    "if init_flag:\n",
    "    acc = history.history['acc']\n",
    "    val_acc = history.history['val_acc']\n",
    "    plt.plot(epochs, acc, 'bo', label='Training acc')\n",
    "    plt.plot(epochs, val_acc, 'b', label='Validation acc')\n",
    "    plt.title('Training and validation accuracy')\n",
    "    plt.xlabel('Epochs')\n",
    "    plt.ylabel('Accuracy')\n",
    "    plt.legend()\n",
    "    plt.savefig(img_path, dpi=75)\n",
    "    plt.show()\n",
    "else:\n",
    "    image = plt.imread(img_path)\n",
    "    misc.imresize(image, (450,300))\n",
    "    plt.imshow(image)  \n",
    "    plt.axis('off') # clear x- and y-axes  \n",
    "    plt.show()"
   ]
  },
  {
   "cell_type": "markdown",
   "metadata": {},
   "source": [
    "通过图像分析，CNN模型很快就出现了过拟合，图像波动起伏非常明显；验证集的log loss损失开始下降了一下，后来开始大幅上升；而验证集的准确率也在一直剧烈波动，该模型表现不理想。"
   ]
  },
  {
   "cell_type": "markdown",
   "metadata": {},
   "source": [
    "对验证集使用最佳验证loss进行验证"
   ]
  },
  {
   "cell_type": "code",
   "execution_count": 27,
   "metadata": {
    "collapsed": true
   },
   "outputs": [],
   "source": [
    "### 加载具有最佳验证loss的模型权重\n",
    "CNN_model.load_weights(model_path)"
   ]
  },
  {
   "cell_type": "code",
   "execution_count": 28,
   "metadata": {},
   "outputs": [
    {
     "name": "stdout",
     "output_type": "stream",
     "text": [
      "3016/3016 [==============================] - 3s 986us/step\n",
      "[1.1167760704809537, 0.6667771883289124]\n"
     ]
    }
   ],
   "source": [
    "print(CNN_model.evaluate(X_val_sequences, y_val_labels))"
   ]
  },
  {
   "cell_type": "markdown",
   "metadata": {},
   "source": [
    "LSTM模型"
   ]
  },
  {
   "cell_type": "code",
   "execution_count": 15,
   "metadata": {},
   "outputs": [
    {
     "name": "stdout",
     "output_type": "stream",
     "text": [
      "_________________________________________________________________\n",
      "Layer (type)                 Output Shape              Param #   \n",
      "=================================================================\n",
      "embedding_1 (Embedding)      (None, 500, 200)          19636400  \n",
      "_________________________________________________________________\n",
      "lstm_1 (LSTM)                (None, 200)               320800    \n",
      "_________________________________________________________________\n",
      "dropout_1 (Dropout)          (None, 200)               0         \n",
      "_________________________________________________________________\n",
      "dense_1 (Dense)              (None, 20)                4020      \n",
      "=================================================================\n",
      "Total params: 19,961,220\n",
      "Trainable params: 324,820\n",
      "Non-trainable params: 19,636,400\n",
      "_________________________________________________________________\n"
     ]
    }
   ],
   "source": [
    "from keras.initializers import RandomNormal\n",
    "#定义模型\n",
    "def init_LSTM_model(MAX_SEQUENCE_LENGTH,embedding_layer):\n",
    "    model = Sequential()\n",
    "    model.add(embedding_layer)\n",
    "    #model.add(LSTM(200, dropout=0.2, recurrent_dropout=0.2))#recurrent_regularizer=RandomNormal(stddev=0.01,seed=0.1)\n",
    "    model.add(LSTM(200, dropout=0.2, recurrent_dropout=0.2))#kernel_regularizer=RandomNormal(stddev=0.01,seed=0.1),\n",
    "    model.add(Dropout(0.2))\n",
    "    model.add(Dense(all_labels.shape[1], activation='softmax'))\n",
    "    return model\n",
    "\n",
    "LSTM_model = init_LSTM_model(MAX_SEQUENCE_LENGTH,embedding_layer)\n",
    "LSTM_model.summary()"
   ]
  },
  {
   "cell_type": "code",
   "execution_count": 16,
   "metadata": {
    "collapsed": true
   },
   "outputs": [],
   "source": [
    "LSTM_model.compile(loss='categorical_crossentropy',\n",
    "              optimizer='rmsprop',#adam,sgd,rmsprop\n",
    "              metrics=['accuracy'])"
   ]
  },
  {
   "cell_type": "code",
   "execution_count": 18,
   "metadata": {},
   "outputs": [
    {
     "name": "stdout",
     "output_type": "stream",
     "text": [
      "Train on 12060 samples, validate on 3016 samples\n",
      "Epoch 1/40\n",
      "12060/12060 [==============================] - 96s 8ms/step - loss: 1.9141 - acc: 0.3577 - val_loss: 1.5550 - val_acc: 0.4443\n",
      "Epoch 2/40\n",
      "12060/12060 [==============================] - 93s 8ms/step - loss: 1.4194 - acc: 0.5034 - val_loss: 1.2678 - val_acc: 0.5444\n",
      "Epoch 3/40\n",
      "12060/12060 [==============================] - 95s 8ms/step - loss: 1.2443 - acc: 0.5615 - val_loss: 1.2917 - val_acc: 0.5812\n",
      "Epoch 4/40\n",
      "12060/12060 [==============================] - 95s 8ms/step - loss: 1.1201 - acc: 0.6163 - val_loss: 0.9848 - val_acc: 0.6724\n",
      "Epoch 5/40\n",
      "12060/12060 [==============================] - 95s 8ms/step - loss: 1.0308 - acc: 0.6492 - val_loss: 0.9268 - val_acc: 0.6824\n",
      "Epoch 6/40\n",
      "12060/12060 [==============================] - 93s 8ms/step - loss: 0.9317 - acc: 0.6786 - val_loss: 0.8712 - val_acc: 0.7029\n",
      "Epoch 7/40\n",
      "12060/12060 [==============================] - 93s 8ms/step - loss: 0.8556 - acc: 0.7060 - val_loss: 0.7985 - val_acc: 0.7407\n",
      "Epoch 8/40\n",
      "12060/12060 [==============================] - 93s 8ms/step - loss: 0.7992 - acc: 0.7264 - val_loss: 0.7586 - val_acc: 0.7530\n",
      "Epoch 9/40\n",
      "12060/12060 [==============================] - 93s 8ms/step - loss: 0.7472 - acc: 0.7473 - val_loss: 0.7933 - val_acc: 0.7397\n",
      "Epoch 10/40\n",
      "12060/12060 [==============================] - 94s 8ms/step - loss: 0.6966 - acc: 0.7655 - val_loss: 0.7332 - val_acc: 0.7546\n",
      "Epoch 11/40\n",
      "12060/12060 [==============================] - 94s 8ms/step - loss: 0.6399 - acc: 0.7847 - val_loss: 0.6477 - val_acc: 0.7775\n",
      "Epoch 12/40\n",
      "12060/12060 [==============================] - 94s 8ms/step - loss: 0.5931 - acc: 0.8022 - val_loss: 0.6341 - val_acc: 0.7944\n",
      "Epoch 13/40\n",
      "12060/12060 [==============================] - 93s 8ms/step - loss: 0.5689 - acc: 0.8099 - val_loss: 0.6094 - val_acc: 0.8044\n",
      "Epoch 14/40\n",
      "12060/12060 [==============================] - 93s 8ms/step - loss: 0.5221 - acc: 0.8263 - val_loss: 0.5992 - val_acc: 0.8117\n",
      "Epoch 15/40\n",
      "12060/12060 [==============================] - 93s 8ms/step - loss: 0.4951 - acc: 0.8318 - val_loss: 0.5911 - val_acc: 0.8084\n",
      "Epoch 16/40\n",
      "12060/12060 [==============================] - 93s 8ms/step - loss: 0.4652 - acc: 0.8465 - val_loss: 0.5718 - val_acc: 0.8223\n",
      "Epoch 17/40\n",
      "12060/12060 [==============================] - 93s 8ms/step - loss: 0.4327 - acc: 0.8561 - val_loss: 0.5420 - val_acc: 0.8292\n",
      "Epoch 18/40\n",
      "12060/12060 [==============================] - 93s 8ms/step - loss: 0.4113 - acc: 0.8614 - val_loss: 0.5478 - val_acc: 0.8282\n",
      "Epoch 19/40\n",
      "12060/12060 [==============================] - 93s 8ms/step - loss: 0.3848 - acc: 0.8716 - val_loss: 0.5326 - val_acc: 0.8296\n",
      "Epoch 20/40\n",
      "12060/12060 [==============================] - 93s 8ms/step - loss: 0.3619 - acc: 0.8802 - val_loss: 0.5317 - val_acc: 0.8339\n",
      "Epoch 21/40\n",
      "12060/12060 [==============================] - 93s 8ms/step - loss: 0.3450 - acc: 0.8874 - val_loss: 0.5171 - val_acc: 0.8405\n",
      "Epoch 22/40\n",
      "12060/12060 [==============================] - 93s 8ms/step - loss: 0.3248 - acc: 0.8893 - val_loss: 0.5273 - val_acc: 0.8362\n",
      "Epoch 23/40\n",
      "12060/12060 [==============================] - 93s 8ms/step - loss: 0.3006 - acc: 0.9007 - val_loss: 0.5150 - val_acc: 0.8445\n",
      "Epoch 24/40\n",
      "12060/12060 [==============================] - 94s 8ms/step - loss: 0.2947 - acc: 0.9022 - val_loss: 0.5168 - val_acc: 0.8428\n",
      "Epoch 25/40\n",
      "12060/12060 [==============================] - 93s 8ms/step - loss: 0.2818 - acc: 0.9065 - val_loss: 0.5175 - val_acc: 0.8438\n",
      "Epoch 26/40\n",
      "12060/12060 [==============================] - 93s 8ms/step - loss: 0.2568 - acc: 0.9142 - val_loss: 0.4907 - val_acc: 0.8551\n",
      "Epoch 27/40\n",
      "12060/12060 [==============================] - 93s 8ms/step - loss: 0.2511 - acc: 0.9162 - val_loss: 0.5269 - val_acc: 0.8455\n",
      "Epoch 28/40\n",
      "12060/12060 [==============================] - 93s 8ms/step - loss: 0.2301 - acc: 0.9255 - val_loss: 0.5113 - val_acc: 0.8405\n",
      "Epoch 29/40\n",
      "12060/12060 [==============================] - 93s 8ms/step - loss: 0.2239 - acc: 0.9272 - val_loss: 0.5054 - val_acc: 0.8465\n",
      "Epoch 30/40\n",
      "12060/12060 [==============================] - 93s 8ms/step - loss: 0.2100 - acc: 0.9313 - val_loss: 0.5284 - val_acc: 0.8528\n",
      "Epoch 31/40\n",
      "12060/12060 [==============================] - 93s 8ms/step - loss: 0.1908 - acc: 0.9365 - val_loss: 0.5503 - val_acc: 0.8435\n",
      "Epoch 32/40\n",
      "12060/12060 [==============================] - 93s 8ms/step - loss: 0.1850 - acc: 0.9391 - val_loss: 0.5256 - val_acc: 0.8568\n",
      "Epoch 33/40\n",
      "12060/12060 [==============================] - 93s 8ms/step - loss: 0.1921 - acc: 0.9364 - val_loss: 0.5296 - val_acc: 0.8471\n",
      "Epoch 34/40\n",
      "12060/12060 [==============================] - 93s 8ms/step - loss: 0.1775 - acc: 0.9433 - val_loss: 0.5341 - val_acc: 0.8525\n",
      "Epoch 35/40\n",
      "12060/12060 [==============================] - 93s 8ms/step - loss: 0.1610 - acc: 0.9473 - val_loss: 0.5393 - val_acc: 0.8528\n",
      "Epoch 36/40\n",
      "12060/12060 [==============================] - 93s 8ms/step - loss: 0.1578 - acc: 0.9500 - val_loss: 0.5270 - val_acc: 0.8597\n",
      "Epoch 37/40\n",
      "12060/12060 [==============================] - 93s 8ms/step - loss: 0.1506 - acc: 0.9520 - val_loss: 0.5301 - val_acc: 0.8544\n",
      "Epoch 38/40\n",
      "12060/12060 [==============================] - 93s 8ms/step - loss: 0.1506 - acc: 0.9499 - val_loss: 0.5343 - val_acc: 0.8548\n",
      "Epoch 39/40\n",
      "12060/12060 [==============================] - 94s 8ms/step - loss: 0.1310 - acc: 0.9579 - val_loss: 0.5470 - val_acc: 0.8531\n",
      "Epoch 40/40\n",
      "12060/12060 [==============================] - 95s 8ms/step - loss: 0.1310 - acc: 0.9580 - val_loss: 0.5144 - val_acc: 0.8617\n"
     ]
    }
   ],
   "source": [
    "from keras.callbacks import ModelCheckpoint\n",
    "init_flag = True #是否训练模型\n",
    "model_path = 'saved_models/weights.best.LSTM.hdf5'\n",
    "if init_flag:\n",
    "    ### 训练模型\n",
    "    checkpointer = ModelCheckpoint(filepath=model_path, save_best_only=True)\n",
    "    history = LSTM_model.fit(X_train_sequences, y_train_labels, validation_data=(X_val_sequences, y_val_labels),\n",
    "              epochs=40, batch_size=128, callbacks=[checkpointer])"
   ]
  },
  {
   "cell_type": "markdown",
   "metadata": {},
   "source": [
    "训练集和验证集的损失曲线："
   ]
  },
  {
   "cell_type": "code",
   "execution_count": 19,
   "metadata": {},
   "outputs": [
    {
     "data": {
      "image/png": "[encoded data removed]",
      "text/plain": [
       "<matplotlib.figure.Figure at 0x152aada97b8>"
      ]
     },
     "metadata": {},
     "output_type": "display_data"
    }
   ],
   "source": [
    "import matplotlib.pyplot as plt\n",
    "from scipy import misc\n",
    "img_path = 'LSTM_loss.png'\n",
    "if init_flag:\n",
    "    loss = history.history['loss']\n",
    "    val_loss = history.history['val_loss']\n",
    "    epochs = range(1, len(loss) + 1)\n",
    "    plt.plot(epochs, loss, 'bo', label='Training loss')\n",
    "    plt.plot(epochs, val_loss, 'b', label='Validation loss')\n",
    "    plt.title('Training and validation loss')\n",
    "    plt.xlabel('Epochs')\n",
    "    plt.ylabel('Loss')\n",
    "    plt.legend()\n",
    "    plt.savefig(img_path, dpi=75)\n",
    "    plt.show()\n",
    "else:\n",
    "    image = plt.imread(img_path)\n",
    "    misc.imresize(image, (450,300))\n",
    "    plt.imshow(image)\n",
    "    plt.axis('off') # clear x- and y-axes  \n",
    "    plt.show()"
   ]
  },
  {
   "cell_type": "markdown",
   "metadata": {},
   "source": [
    "训练集和验证集的正确率曲线："
   ]
  },
  {
   "cell_type": "code",
   "execution_count": 20,
   "metadata": {},
   "outputs": [
    {
     "data": {
      "image/png": "[encoded data removed]",
      "text/plain": [
       "<matplotlib.figure.Figure at 0x15110a7acf8>"
      ]
     },
     "metadata": {},
     "output_type": "display_data"
    }
   ],
   "source": [
    "plt.clf()   # clear figure\n",
    "plt.clf()   # clear figure\n",
    "img_path = 'LSTM_acc.png'\n",
    "if init_flag:\n",
    "    acc = history.history['acc']\n",
    "    val_acc = history.history['val_acc']\n",
    "    plt.plot(epochs, acc, 'bo', label='Training acc')\n",
    "    plt.plot(epochs, val_acc, 'b', label='Validation acc')\n",
    "    plt.title('Training and validation accuracy')\n",
    "    plt.xlabel('Epochs')\n",
    "    plt.ylabel('Accuracy')\n",
    "    plt.legend()\n",
    "    plt.savefig(img_path, dpi=75)\n",
    "    plt.show()\n",
    "else:\n",
    "    image = plt.imread(img_path)\n",
    "    misc.imresize(image, (450,300))\n",
    "    plt.imshow(image)  \n",
    "    plt.axis('off') # clear x- and y-axes  \n",
    "    plt.show()"
   ]
  },
  {
   "cell_type": "markdown",
   "metadata": {},
   "source": [
    "通过图像分析，LSTM模型在前15轮的表现很不错；在测试集和验证集上，log loss损失都在不断下降，准确率的曲线在不断上升；15轮之后，验证集开始出现过拟合了，曲线开始轻微波动，log loss不在明显下降，而准确率不在明显上升。总体来说，LSTM表现不错。"
   ]
  },
  {
   "cell_type": "markdown",
   "metadata": {},
   "source": [
    "对验证集使用最佳验证loss进行验证"
   ]
  },
  {
   "cell_type": "code",
   "execution_count": 17,
   "metadata": {
    "collapsed": true
   },
   "outputs": [],
   "source": [
    "### 加载具有最佳验证loss的模型权重\n",
    "model_path = 'saved_models/weights.best.LSTM.hdf5'\n",
    "LSTM_model.load_weights(model_path)"
   ]
  },
  {
   "cell_type": "code",
   "execution_count": 18,
   "metadata": {},
   "outputs": [
    {
     "name": "stdout",
     "output_type": "stream",
     "text": [
      "3016/3016 [==============================] - 24s 8ms/step\n",
      "[0.49069347740484487, 0.855106100795756]\n"
     ]
    }
   ],
   "source": [
    "print(LSTM_model.evaluate(X_val_sequences, y_val_labels))"
   ]
  },
  {
   "cell_type": "markdown",
   "metadata": {
    "collapsed": true
   },
   "source": [
    "几种模型表现对比"
   ]
  },
  {
   "cell_type": "markdown",
   "metadata": {},
   "source": [
    "| 模型预测    | Inception v2 | CNN  | LSTM |\n",
    "|-------------|--------------|------|------|\n",
    "| 准确率      | 0.61         | 0.67 | 0.86 |\n",
    "| log loss    | 1.27         | 1.12 | 0.49 |\n",
    "| 单Epoch耗时 | 15s          | 16s  | 94s左右  |"
   ]
  },
  {
   "cell_type": "markdown",
   "metadata": {},
   "source": [
    "通过对比分析：LSTML的准确率最高，达到了0.83，log loss损失最低为0.49，明显比其他两个模型表现好，但是LSTM的耗时更长一些。因此，我们选择LSTM模型对测试集进行最终的预测。"
   ]
  },
  {
   "cell_type": "code",
   "execution_count": 19,
   "metadata": {},
   "outputs": [
    {
     "name": "stdout",
     "output_type": "stream",
     "text": [
      "3770/3770 [==============================] - 29s 8ms/step\n",
      "[0.49472775386562395, 0.8490716179106532]\n"
     ]
    }
   ],
   "source": [
    "print(LSTM_model.evaluate(X_test_sequences, y_test_labels))"
   ]
  },
  {
   "cell_type": "markdown",
   "metadata": {
    "collapsed": true
   },
   "source": [
    "可以看出：在测试集上，准确率为0.85，log_loss为0.49，该结果相对来说还可以。"
   ]
  },
  {
   "cell_type": "markdown",
   "metadata": {
    "collapsed": true
   },
   "source": [
    "| 模型预测 | LSTM | 基准模型 |\n",
    "|:--------:|:--------:|:--------:|\n",
    "|  准确率  |   85%   |    82%   |"
   ]
  },
  {
   "cell_type": "markdown",
   "metadata": {},
   "source": [
    "通过对比，可以看出，我们LSTM模型，对测试集的预测已经达到并超过了我们的基准模型的目标。"
   ]
  }
 ],
 "metadata": {
  "kernelspec": {
   "display_name": "Python 3",
   "language": "python",
   "name": "python3"
  },
  "language_info": {
   "codemirror_mode": {
    "name": "ipython",
    "version": 3
   },
   "file_extension": ".py",
   "mimetype": "text/x-python",
   "name": "python",
   "nbconvert_exporter": "python",
   "pygments_lexer": "ipython3",
   "version": "3.5.4"
  }
 },
 "nbformat": 4,
 "nbformat_minor": 2
}
